{
 "cells": [
  {
   "cell_type": "markdown",
   "metadata": {},
   "source": [
    "### 2.7 Projects\n",
    "\n",
    "At the end of every chapter we propose a few projects related to the content in the preceding chapter(s). In this section we propose one ideas for a project related to numerical algebra. The projects in this book are meant to be open ended, to encourage creative mathematics, to push your coding skills, and to require you to write and communicate your mathematics. Take the time to read Appendix B before you write your final paper.\n",
    "\n",
    "### 2.7.1 Basins of Attraction\n",
    "\n",
    "Let $f(x)$ be a differentiable function with several roots. Given a starting $x$ value we should be able to apply Newton's Method to that starting point and we will converge to one of the roots (so long as you aren't in one of the special cases discussed earlier in the chapter). It stands to reason that starting points near each other should all end up at the same root, and for some functions this is true. However, it is not true in general.\n",
    "\n",
    "A basin of attraction for a root is the set of $x$ values that converges to that root under Newton iterations. In this problem you will produce colored plots showing the basins of attraction for all of the following functions. Do this as follows:\n",
    "\n",
    "- Find the actual roots of the function by hand (this should be easy on the functions below).\n",
    "- Assign each of the roots a different color.\n",
    "- Pick a starting point on the $x$ axis and use it to start Newton's Method.\n",
    "- Color the starting point according to the root that it converges to.\n",
    "- Repeat this process for many many starting points so you get a colored picture of the $x$ axis showing where the starting points converge to.\n",
    "\n",
    "The set of points that are all the same color are called the basin of attraction for the root associated with that color. In Figure 2.13 there is an image of a sample basin of attraction image.\n",
    "\n",
    "1. Create a basin on attraction image for the function $f(x)=(x-4)(x+1)$.\n",
    "2. Create a basin on attraction image for the function $g(x)=(x-1)(x+3)$.\n",
    "3. Create a basin on attraction image for the function $h(x)=(x-4)(x-$ 1) $(x+3)$.\n",
    "4. Find a non-trivial single-variable function of your own that has an interesting picture of the basins of attraction. In your write up explain why you thought that this was an interesting function in terms of the basins of attraction.\n",
    "![](https://cdn.mathpix.com/cropped/2025_02_09_2e7e850ce08497a6e4c5g-34.jpg?height=489&width=727&top_left_y=428&top_left_x=794)\n",
    "\n",
    "Figure 2.13: A sample basin of attraction image for a cubic function.\n",
    "5. Now for the fun part! Consider the function $f(z)=z^{3}-1$ where $z$ is a complex variable. That is, $z=x+i y$ where $i=\\sqrt{-1}$. From the Fundamental Theorem of Algebra we know that there are three roots to this polynomial in the complex plane. In fact, we know that the roots are $z_{0}=1, z_{1}=\\frac{1}{2}(-1+\\sqrt{3} i)$, and $z_{2}=\\frac{1}{2}(-1-\\sqrt{3} i)$ (you should stop now and check that these three numbers are indeed roots of the polynomial $f(z))$. Your job is to build a picture of the basins of attraction for the three roots in the complex plane. This picture will naturally be two-dimensional since numbers in the complex plane are two dimensional (each has a real and an imaginary part). When you have your picture give a thorough write up of what you found.\n",
    "6. Now pick your favorite complex-valued function and build a picture of the basins of attraction. Consider this an art project! See if you can come up with the prettiest basin of attraction picture.\n",
    "\n",
    "### 2.7.2 Artillery\n",
    "\n",
    "An artillery officer wishes to fire his cannon on an enemy brigade. He wants to know the angle to aim the cannon in order to strike the target. If we have control over the initial velocity of the cannon ball, $v_{0}$, and the angle of the cannon above horizontal, $\\theta$, then the initial vertical component of the velocity of the ball is $v_{y}(0)=v_{0} \\sin (\\theta)$ and the initial horizontal component of the velocity of the ball is $v_{x}(0)=v_{0} \\cos (\\theta)$. In this problem we will assume the following:\n",
    "\n",
    "- We will neglect air resistance ${ }^{1}$ so, for all time, the differential equations $v_{y}^{\\prime}(t)=-g$ and $v_{x}^{\\prime}(t)=0$ must both hold.\n",
    "\n",
    "[^0]- We will assume that the position of the cannon is the origin of a coordinate system so $s_{x}(0)=0$ and $s_{y}(0)=0$.\n",
    "- We will assume that the target is at position $\\left(x_{*}, y_{*}\\right)$ which you can measure accurately relative to the cannon's position. The landscape is relatively flat but $y_{*}$ could be a bit higher or a bit lower than the cannon's position.\n",
    "Use the given information to write a nonlinear equation ${ }^{2}$ that relates $x_{*}, y_{*}$, $v_{0}, g$, and $\\theta$. We know that $g=9.8 \\mathrm{~m} / \\mathrm{s}^{2}$ is constant and we will assume that the initial velocity can be adjusted between $v_{0}=100 \\mathrm{~m} / \\mathrm{s}$ and $v_{0}=150 \\mathrm{~m} / \\mathrm{s}$ in increments of $10 \\mathrm{~m} / \\mathrm{s}$. If we then are given a fixed value of $x_{*}$ and $y_{*}$ the only variable left to find in your equation is $\\theta$. A numerical root-finding technique can then be applied to your equation to approximate the angle. Create several look up tables for the artillery officer so they can be given $v_{0}, x_{*}$, and $y_{*}$ and then use your tables to look up the angle at which to set the cannon. Be sure to indicate when a target is out of range.\n",
    "\n",
    "Write a brief technical report detailing your methods. Support your work with appropriate mathematics and plots. Include your tables at the end of your report.\n",
    "\n",
    "[^1]\n",
    "[^0]:    ${ }^{1}$ Strictly speaking, neglecting air resistance is a poor assumption since a cannon ball moves fast enough that friction with the air plays a non-negligible role. However, the assumption of no air resistance greatly simplifies the math and makes this version of the problem more tractable. The second version of the artillery problem in Chapter 5 will look at the effects of air resistance on the cannon ball.\n",
    "\n",
    "[^1]:    ${ }^{2}$ Hint: Symbolically work out the amount of time that it takes until the vertical position of the cannon ball reaches $y_{*}$. Then substitute that time into the horizontal position, and set the horizontal position equation to $x_{*}$.\n",
    "\n"
   ]
  }
 ],
 "metadata": {
  "language_info": {
   "name": "python"
  }
 },
 "nbformat": 4,
 "nbformat_minor": 2
}
