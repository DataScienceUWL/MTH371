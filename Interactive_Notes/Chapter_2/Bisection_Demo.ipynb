{
 "cells": [
  {
   "cell_type": "code",
   "execution_count": 4,
   "metadata": {},
   "outputs": [],
   "source": [
    "def Bisection(f, a, b, tol=1.e-6):\n",
    "    \"\"\"\n",
    "    Implements the Bisection method for finding a root of the equation f(x) = 0.\n",
    "\n",
    "    Parameters:\n",
    "    f (function): The function for which we are trying to find a root.\n",
    "    a (float): The lower bound of the interval [a, b].\n",
    "    b (float): The upper bound of the interval [a, b].\n",
    "    tol (float, optional): The stopping criterion based on the interval width. Default is 1.e-6.\n",
    "\n",
    "    Returns:\n",
    "    float: The approximate root of the function f(x) = 0 within the interval [a, b].\n",
    "\n",
    "    Raises:\n",
    "    ValueError: If f(a) and f(b) do not have opposite signs, indicating that a root is not guaranteed in [a, b].\n",
    "\n",
    "    Example:\n",
    "    >>> def f(x):\n",
    "    >>>     return x**2 - 4\n",
    "    >>> root = Bisection(f, 1, 3)\n",
    "    >>> print(root)\n",
    "    2.0\n",
    "    \"\"\"\n",
    "\n",
    "    # Check if the function values at a and b have opposite signs\n",
    "    if f(a) * f(b) > 0:\n",
    "        raise ValueError(\"f(a) and f(b) must have opposite signs to ensure a root exists in the interval.\")\n",
    "\n",
    "    while abs(b - a) > tol:\n",
    "        # Compute the midpoint of the interval\n",
    "        c = (a + b) / 2.0\n",
    "\n",
    "        # Check if the function value at c is sufficiently close to zero\n",
    "        if f(c) == 0 or abs(b - a) < tol:\n",
    "            return c  # Return the estimated root\n",
    "\n",
    "        # Update the interval based on the sign of f(c)\n",
    "        if f(a) * f(c) < 0:\n",
    "            b = c  # The root lies between a and c\n",
    "        else:\n",
    "            a = c  # The root lies between c and b\n",
    "\n",
    "    return (a + b) / 2.0  # Return the midpoint as the final approximation\n",
    "\n",
    "\n",
    "def BisectionErrors(f, a, b, tol=1.e-6, solution=None):\n",
    "    \"\"\"\n",
    "    Implements the Bisection method for finding a root of the function f in the interval [a, b]. \n",
    "    Optionally, it tracks the error relative to a known solution.\n",
    "\n",
    "    Parameters:\n",
    "    f (function): The function for which the root is sought.\n",
    "    a (float): The left endpoint of the interval.\n",
    "    b (float): The right endpoint of the interval.\n",
    "    tol (float, optional): The stopping criterion based on the interval width. Default is 1.e-6.\n",
    "    solution (float, optional): The known root of f, used to compute error tracking. Default is None.\n",
    "\n",
    "    Returns:\n",
    "    float: The estimated root of f if solution is None.\n",
    "    tuple: (root, errors) if solution is provided, where errors is a list of absolute errors.\n",
    "\n",
    "    Raises:\n",
    "    ValueError: If f(a) and f(b) do not have opposite signs (i.e., no guarantee of a root in [a, b]).\n",
    "\n",
    "    Example:\n",
    "    >>> def f(x):\n",
    "    >>>     return x**2 - 4\n",
    "    >>> root, errors = BisectionErrors(f, 1, 3, solution=2)\n",
    "    >>> print(root, errors)\n",
    "    2.0 [error values...]\n",
    "    \"\"\"\n",
    "\n",
    "    # Check if the function values at a and b have opposite signs\n",
    "    if f(a) * f(b) > 0:\n",
    "        raise ValueError(\"f(a) and f(b) must have opposite signs to ensure a root exists in the interval.\")\n",
    "\n",
    "    # Initialize the error tracking list if a known solution is provided\n",
    "    if solution is not None:\n",
    "        errors = []\n",
    "\n",
    "    while abs(b - a) > tol:\n",
    "        # Compute the midpoint of the interval\n",
    "        c = (a + b) / 2.0\n",
    "\n",
    "        # Store the error if a known solution is provided\n",
    "        if solution is not None:\n",
    "            errors.append(abs(c - solution))\n",
    "\n",
    "        # Check if the function value at c is sufficiently close to zero\n",
    "        if f(c) == 0 or abs(b - a) < tol:\n",
    "            if solution is None:\n",
    "                return c  # Return the estimated root\n",
    "            else:\n",
    "                return c, errors  # Return the root along with error tracking\n",
    "\n",
    "        # Update the interval based on the sign of f(c)\n",
    "        if f(a) * f(c) < 0:\n",
    "            b = c  # The root lies between a and c\n",
    "        else:\n",
    "            a = c  # The root lies between c and b\n",
    "\n",
    "    final_root = (a + b) / 2.0  # Final approximation of the root\n",
    "\n",
    "    if solution is None:\n",
    "        return final_root\n",
    "    else:\n",
    "        return final_root, errors  # Return final root and error tracking if solution is provided\n"
   ]
  },
  {
   "cell_type": "code",
   "execution_count": 5,
   "metadata": {},
   "outputs": [],
   "source": [
    "import numpy as np\n",
    "\n",
    "f = lambda x: x**2 - 2\n",
    "root, errors = BisectionErrors(f, 1, 2, solution=2**0.5)\n"
   ]
  },
  {
   "cell_type": "code",
   "execution_count": 6,
   "metadata": {},
   "outputs": [
    {
     "data": {
      "text/plain": [
       "(1.4142136573791504,\n",
       " [0.08578643762690485,\n",
       "  0.16421356237309515,\n",
       "  0.039213562373095145,\n",
       "  0.023286437626904855,\n",
       "  0.007963562373095145,\n",
       "  0.0076614376269048545,\n",
       "  0.00015106237309514547,\n",
       "  0.0037551876269048545,\n",
       "  0.0018020626269048545,\n",
       "  0.0008255001269048545,\n",
       "  0.0003372188769048545,\n",
       "  9.307825190485453e-05,\n",
       "  2.8992060595145475e-05,\n",
       "  3.2043095654854525e-05,\n",
       "  1.5255175298545254e-06,\n",
       "  1.3733271532645475e-05,\n",
       "  6.103877001395475e-06,\n",
       "  2.2891797357704746e-06,\n",
       "  3.818311029579746e-07,\n",
       "  5.718432134482754e-07])"
      ]
     },
     "execution_count": 6,
     "metadata": {},
     "output_type": "execute_result"
    }
   ],
   "source": [
    "root, errors"
   ]
  },
  {
   "cell_type": "code",
   "execution_count": 8,
   "metadata": {},
   "outputs": [
    {
     "data": {
      "text/plain": [
       "[3, 2, 1]"
      ]
     },
     "execution_count": 8,
     "metadata": {},
     "output_type": "execute_result"
    }
   ],
   "source": [
    "err = [4,3,2,1]\n",
    "err[1:]"
   ]
  },
  {
   "cell_type": "code",
   "execution_count": 10,
   "metadata": {},
   "outputs": [
    {
     "name": "stdout",
     "output_type": "stream",
     "text": [
      "Estimated root: 1.4142136573791504\n"
     ]
    },
    {
     "data": {
      "text/plain": [
       "[<matplotlib.lines.Line2D at 0x107800650>]"
      ]
     },
     "execution_count": 10,
     "metadata": {},
     "output_type": "execute_result"
    },
    {
     "data": {
      "image/png": "[encoded data removed]",
      "text/plain": [
       "<Figure size 640x480 with 1 Axes>"
      ]
     },
     "metadata": {},
     "output_type": "display_data"
    }
   ],
   "source": [
    "\n",
    "print(f\"Estimated root: {root}\")\n",
    "\n",
    "log10errors = np.log10(errors)\n",
    "\n",
    "import matplotlib.pyplot as plt\n",
    "\n",
    "plt.plot( log10errors[:-1], log10errors[1:], 'o' )"
   ]
  },
  {
   "cell_type": "code",
   "execution_count": 17,
   "metadata": {},
   "outputs": [],
   "source": [
    "def RegulaFalsi(f, a, b, tol=1.e-6):\n",
    "    \"\"\"\n",
    "    Implements the Regula Falsi (False Position) method for finding a root of the equation f(x) = 0.\n",
    "\n",
    "    Parameters:\n",
    "    f (function): The function for which we are trying to find a root.\n",
    "    a (float): The lower bound of the interval [a, b].\n",
    "    b (float): The upper bound of the interval [a, b].\n",
    "    tol (float, optional): The stopping criterion based on the interval width. Default is 1.e-6.\n",
    "\n",
    "    Returns:\n",
    "    float: The approximate root of the function f(x) = 0 within the interval [a, b].\n",
    "\n",
    "    Raises:\n",
    "    ValueError: If f(a) and f(b) do not have opposite signs, indicating that a root is not guaranteed in [a, b].\n",
    "\n",
    "    Example:\n",
    "    >>> def f(x):\n",
    "    >>>     return x**2 - 4\n",
    "    >>> root = RegulaFalsi(f, 1, 3)\n",
    "    >>> print(root)\n",
    "    2.0\n",
    "    \"\"\"\n",
    "\n",
    "    # Check if the function values at a and b have opposite signs\n",
    "    if f(a) * f(b) > 0:\n",
    "        raise ValueError(\"f(a) and f(b) must have opposite signs to ensure a root exists in the interval.\")\n",
    "\n",
    "    c_prev = a\n",
    "\n",
    "    while True:\n",
    "\n",
    "        # Compute the false position (Regula Falsi) estimate for thse root\n",
    "        c = (a * f(b) - b * f(a)) / (f(b) - f(a))\n",
    "\n",
    "        print(f\"b-a: {b-a}, c:{c}, error: {c-2**0.5}\")\n",
    "        # Check if the function value at c is sufficiently close to zero or if the interval is small\n",
    "        if f(c) == 0 or abs(c_prev-c) < tol:\n",
    "            return c  # Return the estimated root\n",
    "\n",
    "        # Update the interval based on the sign of f(c)\n",
    "        if f(a) * f(c) < 0:\n",
    "            b = c  # The root lies between a and c\n",
    "        else:\n",
    "            a = c  # The root lies between c and b\n",
    "\n",
    "        c_prev = c\n"
   ]
  },
  {
   "cell_type": "code",
   "execution_count": 18,
   "metadata": {},
   "outputs": [
    {
     "name": "stdout",
     "output_type": "stream",
     "text": [
      "b-a: 1, c:1.3333333333333333, error: -0.08088022903976189\n",
      "b-a: 0.6666666666666667, c:1.4, error: -0.014213562373095234\n",
      "b-a: 0.6000000000000001, c:1.411764705882353, error: -0.002448856490742113\n",
      "b-a: 0.588235294117647, c:1.4137931034482758, error: -0.00042045892481934466\n",
      "b-a: 0.5862068965517242, c:1.414141414141414, error: -7.214823168122386e-05\n",
      "b-a: 0.5858585858585861, c:1.4142011834319526, error: -1.2378941142587863e-05\n",
      "b-a: 0.5857988165680474, c:1.41421143847487, error: -2.1238982250704197e-06\n",
      "b-a: 0.5857885615251299, c:1.4142131979695434, error: -3.644035517780253e-07\n",
      "b-a: 0.5857868020304566, c:1.4142134998513232, error: -6.252177198184938e-08\n",
      "Estimated root: 1.4142134998513232\n"
     ]
    }
   ],
   "source": [
    "f = lambda x: x**2 - 2\n",
    "root = RegulaFalsi(f, 1, 2)\n",
    "print(f\"Estimated root: {root}\")\n"
   ]
  },
  {
   "cell_type": "code",
   "execution_count": null,
   "metadata": {},
   "outputs": [],
   "source": []
  }
 ],
 "metadata": {
  "kernelspec": {
   "display_name": "DS776v2",
   "language": "python",
   "name": "python3"
  },
  "language_info": {
   "codemirror_mode": {
    "name": "ipython",
    "version": 3
   },
   "file_extension": ".py",
   "mimetype": "text/x-python",
   "name": "python",
   "nbconvert_exporter": "python",
   "pygments_lexer": "ipython3",
   "version": "3.11.9"
  }
 },
 "nbformat": 4,
 "nbformat_minor": 2
}
