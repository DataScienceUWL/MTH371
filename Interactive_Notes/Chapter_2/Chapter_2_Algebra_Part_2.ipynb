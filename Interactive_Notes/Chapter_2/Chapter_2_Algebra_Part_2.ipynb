{
 "cells": [
  {
   "cell_type": "markdown",
   "metadata": {},
   "source": [
    "\n",
    "---\n",
    "\n",
    "### 2.3.2 Analysis\n",
    "\n",
    "In this subsection we will lean on the fact that we developed a bunch of analysis tools in the Analysis section of the Bisection Method. You may want to go back to that section first and take another look at the plots and tools that we built."
   ]
  },
  {
   "cell_type": "markdown",
   "metadata": {},
   "source": [
    "\n",
    "---\n",
    "\n",
    "### Exercise 2.28. \n",
    "\n",
    "In this problem we are going to solve the equation $x^{2}-2=0$ since we know that the exact answer is $x=\\sqrt{2}$. You will need to start by modifying your regulafalsi function from Exercise 2.26 so that it returns all of the iterations instead of just the root.\n",
    "\n",
    "1. Start with the interval $[0,2]$ and solve the equation $x^{2}-2=0$ with the Regula-Falsi method.\n",
    "    * Find the absolute error between each iteration and the exact answer $x=\\sqrt{2}$.\n",
    "    * Make a plot of the base-10 logarithm of the absolute error at step $k$ against the base-10 logarithm of the absolute error at step $k+1$. This plot will be very similar to Figure 2.5.\n",
    "    * Approximate the slope and intercept of the linear trend in the plot.\n",
    "\n",
    "$$\n",
    "\\begin{aligned}\n",
    "& \\log _{10}(\\text { abs error at step } k+1) \\\\\n",
    "& \\quad=\\quad \\ldots \\quad \\log _{10}(\\text { abs error at step } k+1)+\n",
    "\\end{aligned}\n",
    "$$\n",
    "\n",
    "    *  Based on the work that we did in Example 2.1 estimate the rate of convergence of the Regula-Falsi method.\n",
    "\n",
    "2.  Repeat part 1 with the initial interval $[1,2]$.\n",
    "3.  Repeat part 2 with the initial interval $[0,1.5]$.\n",
    "\n"
   ]
  },
  {
   "cell_type": "markdown",
   "metadata": {},
   "source": [
    "\n",
    "---\n",
    "\n",
    "#### Exercise 2.29. (Bisection vs Regula Falsi) \n",
    "\n",
    "Pick a somewhat non-trivial equation where you know the exact answer. Then pick several different starting intervals where you can use both the Bisection Method and the Regula-Falsi Method. Try picking the starting intervals so that some of them converge faster using the Bisection Method and some will converge faster with the Regula-Falsi Method. Show your results with error plots similar to the previous exercise.\n",
    "\n"
   ]
  },
  {
   "cell_type": "markdown",
   "metadata": {},
   "source": [
    "\n",
    "---\n",
    "\n",
    "#### Exercise 2.30. \n",
    "\n",
    "Is the Regula-Falsi always better than the bisection method at finding an approximate root for a continuous function that has a known root in a closed interval? Why / why not? Discuss."
   ]
  },
  {
   "cell_type": "markdown",
   "metadata": {},
   "source": [
    "\n",
    "---\n",
    "\n",
    "### 2.4 Newton's Method\n",
    "\n",
    "In the previous two sections we studied techniques for solving equations that required very little sophisticated math. The bisection and regula-falsi methods work very well, but as we'll find in this section we can actually greatly improve the quality of the root-finding algorithms by leveraging some Calculus.\n",
    "\n",
    "### 2.4.1 Intuition and Implementation\n",
    "\n"
   ]
  },
  {
   "cell_type": "markdown",
   "metadata": {},
   "source": [
    "\n",
    "---\n",
    "\n",
    "### Exercise 2.31.\n",
    "\n",
    "We will start this section with a reminder from Differential Calculus.\n",
    "1.  If $f(x)$ is a differentiable function at $x=x_{0}$ then the slope of the tangent line to $f(x)$ at $x=x_{0}$ is $m=\\underline{\\hspace{.5in}}$\n",
    "\n",
    "\n",
    "2. From algebra, the point-slope form of a line is\n",
    "\n",
    "$$\n",
    "y-y_{0}=m\\left(x-x_{0}\\right)\n",
    "$$\n",
    "\n",
    "where $\\left(x_{0}, y_{0}\\right)$ is a point on the line and $m$ is the slope.\n",
    "\n",
    "3. If $f(x)$ is a differential function at $x=x_{0}$ then the equation of the tangent to $f(x)$ at that point is\n",
    "$y-$ $\\underline{\\hspace{.5in}}$ $=$ $\\underline{\\hspace{.5in}}$ - $(x-$ $\\underline{\\hspace{.5in}})$\n",
    "\n",
    "4. If we rearrange the answer from part (c) we get\n",
    "\n",
    "$$\n",
    "y=\\underline{\\hspace{.5in}}+\\underline{\\hspace{.5in}} \\quad(x-\\underline{\\hspace{.5in}})\n",
    "$$\n",
    "\n",
    "The $x$-intercept of a function is where the function is 0 . Root finding is really the process of finding the $x$-intercept of the function. If the function is complicated (e.g. highly nonlinear or doesn't lend itself to traditional by-hand techniques) then we can approximate the $x$-intercept by creating a Taylor Series approximation of the function at a nearby point and then finding the $x$-intercept of that simpler Taylor Series. The simplest non-trivial Taylor Series is a linear function - a tangent line!\n",
    "\n"
   ]
  },
  {
   "cell_type": "markdown",
   "metadata": {},
   "source": [
    "\n",
    "---\n",
    "\n",
    "### Exercise 2.32. \n",
    "\n",
    "A tangent line approximation to a function $f(x)$ near a point $x=x_{0}$ is\n",
    "\n",
    "$$\n",
    "y=f\\left(x_{0}\\right)+f^{\\prime}\\left(x_{0}\\right)\\left(x-x_{0}\\right)\n",
    "$$\n",
    "\n",
    "Set $y$ to zero and solve for $x$ to find the $x$-intercept of the tangent line.\n",
    "$x$-intercept of tangent line is $x=$ $\\qquad$\n",
    "\n"
   ]
  },
  {
   "cell_type": "markdown",
   "metadata": {},
   "source": [
    "\n",
    "---\n",
    "\n",
    "### Exercise 2.33. \n",
    "\n",
    "Now let's use the computations you did in the previous exercises to look at an algorithm for approximating the root of a function. In the following sequence of plots we do the following algorithm:\n",
    "\n",
    "- Given a value of $x$ that is a decent approximation of the root, draw a tangent line to $f(x)$ at that point.\n",
    "- Find where the tangent line intersects the $x$ axis.\n",
    "- Use this intersection as the new $x$ value and repeat.\n",
    "\n",
    "The first step has been shown for you. Take a couple more steps graphically. Does the algorithm appear to converge to the root? Do you think that this will generally take more or fewer steps than the Bisection Method?\n",
    "\n",
    "**Figure 2.8: Using successive tangent line approximations to find the root of a function**\n",
    "\n",
    "<img src=\"https://datascienceuwl.github.io/MTH371/figures/Chapter2/Figure_2_8.png\" alt=\"Figure 2.8\" />\n",
    "\n",
    "\n"
   ]
  },
  {
   "cell_type": "markdown",
   "metadata": {},
   "source": [
    "\n",
    "---\n",
    "\n",
    "### Exercise 2.34. \n",
    "\n",
    "If we had started at $x=0$ in the previous problem what would have happened? Would this initial guess have worked to eventually approximate the root?\n",
    "\n"
   ]
  },
  {
   "cell_type": "markdown",
   "metadata": {},
   "source": [
    "\n",
    "---\n",
    "\n",
    "### Exercise 2.35. \n",
    "\n",
    "Make a complete list of what you must know about the function $f(x)$ for the previous algorithm to work?\n",
    "\n"
   ]
  },
  {
   "cell_type": "markdown",
   "metadata": {},
   "source": [
    "\n",
    "---\n",
    "\n",
    "The algorithm that we just played with is known as Newton's Method. The method was originally proposed by Isaac Newton, and later modified by Joseph Raphson, for approximating roots of the equation $f(x)=0$. It should be clear that Newton's method requires the existence of the first derivative so we are asking a bit more of our functions than we were before. In Bisection and Regula Falsi we only asked that the functions be continuous, now we're asking that they be differentiable. Stop and think for a moment ... why is this a more restrictive thing to ask for of the function $f(x)$ ?"
   ]
  },
  {
   "cell_type": "markdown",
   "metadata": {},
   "source": [
    "\n",
    "---\n",
    "\n",
    "### Exercise 2.36. (Newton's Method) \n",
    "\n",
    "The Newton-Raphson method for solving equations can be described as follows:\n",
    "\n",
    "1. Check that $f$ is differentiable on a given domain and find a way to guarantee that $f$ has a root on that domain (this step happens by hand, not on the computer).\n",
    "2. Pick a starting point $x_{0}$ in the domain\n",
    "3. We want to write the equation of a tangent line to $f$ at the point $\\left(x_{0}, f\\left(x_{0}\\right)\\right)$.\n",
    "i. What is the slope of the tangent line to the function $f(x)$ at the point $\\left(x_{0}, f\\left(x_{0}\\right)\\right)$ ?\n",
    "\n",
    "$$\n",
    "m_{\\text {tangent }}= \\underline{\\hspace{.5in}}\n",
    "$$\n",
    "\n",
    "ii. Using the point-slope form of a line, $y-y_{1}=m\\left(x-x_{1}\\right)$, write the equation of the tangent line to $f(x)$ at the point $\\left(x_{0}, f\\left(x_{0}\\right)\\right)$.\n",
    "\n",
    "$$\n",
    "y-=\\underline{\\hspace{.5in}} = \\underline{\\hspace{.5in}} \\cdot\\left(x-\\underline{\\hspace{.5in}}\\right)\n",
    "$$\n",
    "\n",
    "4. Find the $x$ intercept of the equation of the tangent line by setting $y=0$ and solving for $x$. Call this new point $x_{1}$.\n",
    "\n",
    "$$\n",
    "x_{1}=\\underline{\\hspace{1.5in}}\n",
    "$$\n",
    "\n",
    "\n",
    "5. Now iterate the process by replacing the labels \" $x_{1}$ \" and \" $x_{0}$ \" in the previous step with $x_{n+1}$ and $x_{n}$ respectively.\n",
    "\n",
    "$$\n",
    "x_{n+1}= \\underline{\\hspace{1.5in}}\n",
    "$$\n",
    "\n",
    "6. Iterate step 5 until $f\\left(x_{n}\\right)$ is close to zero.\n",
    "\n"
   ]
  },
  {
   "cell_type": "markdown",
   "metadata": {},
   "source": [
    "\n",
    "---\n",
    "\n",
    "### Exercise 2.37. \n",
    "\n",
    "Draw a picture of what Newton's method does graphically.\n",
    "\n"
   ]
  },
  {
   "cell_type": "markdown",
   "metadata": {},
   "source": [
    "\n",
    "---\n",
    "\n",
    "### Exercise 2.38. \n",
    "\n",
    "Create a new Python function called newton() and write comments giving pseudo-code for Newton's method. Your function needs to accept a Python function for $f(x)$, a Python function for $f^{\\prime}(x)$, an initial guess, and an optional error tolerance. You don't need to set aside any code for calculating the derivative.\n"
   ]
  },
  {
   "cell_type": "markdown",
   "metadata": {},
   "source": [
    "\n",
    "---\n",
    "\n",
    "### Exercise 2.39. \n",
    "\n",
    "Using your pseudocode from the previous problem, write the full newton() function. The only output should be the solution to the equation that you are solving. Write a test script to verify that your Newton's method code indeed works.\n",
    "\n"
   ]
  }
 ],
 "metadata": {
  "kernelspec": {
   "display_name": "DS776_env",
   "language": "python",
   "name": "python3"
  },
  "language_info": {
   "codemirror_mode": {
    "name": "ipython",
    "version": 3
   },
   "file_extension": ".py",
   "mimetype": "text/x-python",
   "name": "python",
   "nbconvert_exporter": "python",
   "pygments_lexer": "ipython3",
   "version": "3.11.10"
  }
 },
 "nbformat": 4,
 "nbformat_minor": 2
}
