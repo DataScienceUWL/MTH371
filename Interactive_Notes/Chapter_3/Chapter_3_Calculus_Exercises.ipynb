{
 "cells": [
  {
   "cell_type": "markdown",
   "metadata": {},
   "source": [
    "### 3.7 Exercises\n",
    "\n",
    "### 3.7.1 Algorithm Summaries\n",
    "\n"
   ]
  },
  {
   "cell_type": "markdown",
   "metadata": {},
   "source": [
    "\n",
    "---\n",
    "\n",
    "### Exercise 3.87. \n",
    "\n",
    "Starting from Taylor series prove that\n",
    "\n",
    "$$\n",
    "f^{\\prime}(x) \\approx \\frac{f(x+h)-f(x)}{h}\n",
    "$$\n",
    "\n",
    "is a first-order approximation of the first derivative of $f(x)$. Clearly describe what \"first-order approximation\" means in this context.\n"
   ]
  },
  {
   "cell_type": "markdown",
   "metadata": {},
   "source": [
    "---\n",
    "\n",
    "### Exercise 3.88. \n",
    "\n",
    "Starting from Taylor series prove that\n",
    "\n",
    "$$\n",
    "f^{\\prime}(x) \\approx \\frac{f(x+h)-f(x-h)}{2 h}\n",
    "$$\n",
    "\n",
    "is a second-order approximation of the first derivative of $f(x)$. Clearly describe what \"second-order approximation\" means in this context.\n",
    "\n"
   ]
  },
  {
   "cell_type": "markdown",
   "metadata": {},
   "source": [
    "---\n",
    "\n",
    "### Exercise 3.89. \n",
    "\n",
    "Starting from Taylor series prove that\n",
    "\n",
    "$$\n",
    "f^{\\prime \\prime}(x) \\approx \\frac{f(x+h)-2 f(x)+f(x-h)}{h^{2}}\n",
    "$$\n",
    "\n",
    "is a second-order approximation of the second derivative of $f(x)$. Clearly describe what \"second-order approximation\" means in this context.\n",
    "\n"
   ]
  },
  {
   "cell_type": "markdown",
   "metadata": {},
   "source": [
    "---\n",
    "\n",
    "### Exercise 3.90. \n",
    "\n",
    "Explain how to approximate the value of a definite integral with Riemann sums. When will the Riemann sum approximation be exact? The Riemann sum approximation is first order. Expain what \"first order\" means for calculating a definite integral.\n",
    "\n"
   ]
  },
  {
   "cell_type": "markdown",
   "metadata": {},
   "source": []
  },
  {
   "cell_type": "markdown",
   "metadata": {},
   "source": [
    "--- \n",
    "\n",
    "### Exercise 3.91. \n",
    "\n",
    "Explain how to approximate the value of a definite integral with the Trapezoid rule. When will the Trapezoid rule approximation be exact? The Trapezoidal rule approximation is second order. Expain what \"second order\" means for calculating a definite integral.\n",
    "\n"
   ]
  },
  {
   "cell_type": "markdown",
   "metadata": {},
   "source": [
    "---\n",
    "\n",
    "### Exercise 3.92. \n",
    "\n",
    "Explain how to approximate the value of a definite integral with Simpson's rule. Give the full mathematical details for where Simpson's rule comes from. When will the Simpson's rule approximation be exact? The Simpson's rule approximation is fourth order. Expain what \"fourth order\" means for calculating a definite integral.\n",
    "\n"
   ]
  },
  {
   "cell_type": "markdown",
   "metadata": {},
   "source": [
    "---\n",
    "\n",
    "### Exercise 3.93. \n",
    "\n",
    "Explain in clear language how the derivative free optimization method works on a single-variable function.\n",
    "\n"
   ]
  },
  {
   "cell_type": "markdown",
   "metadata": {},
   "source": [
    "--- \n",
    "\n",
    "### Exercise 3.94. \n",
    "\n",
    "Explain in clear language how the gradient descent/ascent optimization method works on a single-variable function.\n",
    "\n"
   ]
  },
  {
   "cell_type": "markdown",
   "metadata": {},
   "source": [
    "---\n",
    "\n",
    "### Exercise 3.95. \n",
    "\n",
    "Explain in clear language how the Monte Carlo search optimization method works on a single-variable function.\n",
    "\n"
   ]
  },
  {
   "cell_type": "markdown",
   "metadata": {},
   "source": [
    "---\n",
    "\n",
    "### Exercise 3.96. \n",
    "\n",
    "Explain in clear language how you find the optimal set of parameters given a set of data and a proposed general function type.\n"
   ]
  },
  {
   "cell_type": "markdown",
   "metadata": {},
   "source": [
    "\n",
    "---\n",
    "\n",
    "### 3.7.2 Applying What You've Learned\n",
    "\n",
    "### Exercise 3.97. \n",
    "\n",
    "For each of the following numerical differentiation formulas (A) prove that the formula is true and (B) find the order of the method. To prove that each of the formulas is true you will need to write the Taylor series for all of the terms in the numerator on the right and then simplify to solve for the necessary derivative. The highest power of the remainder should reveal the order of the method. Simplifying hint: You may want to leverage Python's `sympy` library to do some of the algebra for you.\n",
    "\n",
    "1. $f^{\\prime}(x) \\approx \\displaystyle \\frac{\\frac{1}{12} f(x-2 h)-\\frac{2}{3} f(x-h)+\\frac{2}{3} f(x+h)-\\frac{1}{12} f(x+2 h)}{h}$\n",
    "\n",
    "\n",
    "2. $f^{\\prime}(x) \\approx \\displaystyle \\frac{-\\frac{3}{2} f(x)+2 f(x+h)-\\frac{1}{2} f(x+2 h)}{h}$\n",
    "\n",
    "\n",
    "3. $f^{\\prime \\prime}(x) \\approx \\displaystyle \\frac{-\\frac{1}{12} f(x-2 h)+\\frac{4}{3} f(x-h)-\\frac{5}{2} f(x)+\\frac{4}{3} f(x+h)-\\frac{1}{12} f(x+2 h)}{h^{2}}$\n",
    "\n",
    "\n",
    "4. $f^{\\prime \\prime \\prime}(x) \\approx \\displaystyle \\frac{-\\frac{1}{2} f(x-2 h)+f(x-h)-f(x+h)+\\frac{1}{2} f(x+2 h)}{h^{3}}$\n",
    "\n",
    "\n"
   ]
  },
  {
   "cell_type": "markdown",
   "metadata": {},
   "source": [
    "\n",
    "---\n",
    "\n",
    "### Exercise 3.98. \n",
    "\n",
    "Write a function that accepts the path to a *.csv file with $(x,y)$ pairs.  Read the data from the file, compute a first order approximation to the first derivative and return two numpy arrays: x, and df.  Where x is the x-coordinate at each point and df is the derivative approximation.  Note that x and df will be of the same length which should be one less than the length of the input data.  Create a test spreadsheet file, call your function to compute the derivative and plot the results to show you're computing the correct derivative. \n",
    "\n",
    "Use this code to help you get started:\n",
    "\n",
    "```python\n",
    "import numpy as np\n",
    "import pandas as pd\n",
    "import matplotlib.pyplot as plt\n",
    "\n",
    "# Generate 21 equally spaced points between -1 and 1\n",
    "x = np.linspace(-1, 1, 21)\n",
    "# Compute y = x^3 - x for each x\n",
    "y = x**3 - x\n",
    "\n",
    "# Create a DataFrame with the results\n",
    "df = pd.DataFrame({'x': x, 'y': y})\n",
    "\n",
    "# Write the DataFrame to a CSV file\n",
    "df.to_csv('points.csv', index=False)\n",
    "\n",
    "\n",
    "def square_points_from_file(file_path):\n",
    "    # Read the data from the CSV file\n",
    "    data = pd.read_csv(file_path)\n",
    "    \n",
    "    x = data.iloc[:,0].to_numpy()\n",
    "    y = data.iloc[:,1].to_numpy()\n",
    "\n",
    "    return x, y**2\n",
    "\n",
    "x, y_squared = square_points_from_file('points.csv')\n",
    "plt.plot(x, y_squared, marker='o')\n",
    "plt.xlabel('x')\n",
    "plt.ylabel('y^2')\n",
    "plt.title('y = x^3 - x')\n",
    "plt.grid()\n",
    "```\n"
   ]
  },
  {
   "cell_type": "markdown",
   "metadata": {},
   "source": [
    "---\n",
    "\n",
    "### Exercise 3.99. \n",
    "\n",
    "Repeat exercise 3.98 except make a second order approximation to the first derivative.\n",
    "\n"
   ]
  },
  {
   "cell_type": "markdown",
   "metadata": {},
   "source": [
    "---\n",
    "\n",
    "### Exercise 3.100. \n",
    "\n",
    "Write a function that implements the trapezoidal rule on data read from a file like in 3.99 and 3.100. Create a test file and a test script showing that your function is finding the correct integral.\n",
    "\n"
   ]
  },
  {
   "cell_type": "markdown",
   "metadata": {},
   "source": [
    "---\n",
    "\n",
    "### Exercise 3.101. \n",
    "\n",
    "Use numerical integration to answer the question in each of the following scenarios\n",
    "\n",
    "1. We measure the rate at which water is flowing out of a reservoir (in gallons per second) several times over the course of one hour. Estimate the total amount of water which left the reservoir during that hour.\n",
    "\n",
    "| time (min) | 0 | 7 | 19 | 25 | 38 | 47 | 55 |\n",
    "| :--- | :--- | :--- | :--- | :--- | :--- | :--- | :--- |\n",
    "| flow rate (gal/sec) | 316 | 309 | 296 | 298 | 305 | 314 | 322 |\n",
    "\n",
    "You can download the data directly from the textbook's github page with the code below.\n",
    "\n",
    "```\n",
    "import numpy as np\n",
    "import pandas as pd\n",
    "URL1 = 'https://raw.githubusercontent.com/NumericalMethodsSullivan'\n",
    "URL2 = '/NumericalMethodsSullivan.github.io/master/data/'\n",
    "URL = URL1+URL2\n",
    "data = np.array( pd.read_csv(URL+'Exercise3_waterflow.csv') )\n",
    "# Exercise3_waterflow.csv\n",
    "```\n",
    "\n",
    "2. The department of transportation finds that the rate at which cars cross a bridge can be approximated by the function\n",
    "\n",
    "$$\n",
    "f(t)=\\frac{22.8}{3.5+7(t-1.25)^{4}},\n",
    "$$\n",
    "\n",
    "where $t=0$ at 4 pm , and is measured in hours, and $f(t)$ is measured in cars per minute. Estimate the total number of cars that cross the bridge between 4 and 6 pm . Make sure that your estimate has an error less than $5 \\%$ and provide sufficient mathematical evidence of your error estimate.\n",
    "\n"
   ]
  },
  {
   "cell_type": "markdown",
   "metadata": {},
   "source": [
    "---\n",
    "\n",
    "### Exercise 3.102. \n",
    "\n",
    "Consider the integrals\n",
    "\n",
    "$$\n",
    "\\int_{-2}^{2} e^{-x^{2} / 2} d x \\quad \\text { and } \\quad \\int_{0}^{1} \\cos \\left(x^{2}\\right) d x\n",
    "$$\n",
    "\n",
    "Neither of these integrals have closed-form solutions so a numerical method is necessary. Create a loglog plot that shows the errors for the integrals with different values of $h$ ( $\\log$ of $h$ on the $x$-axis and $\\log$ of the absolute error on the $y$-axis). Write a complete interpretation of the loglog plot. To get the exact answer for these plots use Python's scipy.integrate.quad command. (What we're really doing here is comparing our algorithms to Python's scipy.integrate.quad() algorithm).\n",
    "\n"
   ]
  },
  {
   "cell_type": "markdown",
   "metadata": {},
   "source": [
    "---\n",
    "\n",
    "### Exercise 3.103. \n",
    "\n",
    "Go to data.gov or the World Health Organization Data Repository and find data sets for the following tasks.\n",
    "\n",
    "1. Find a data set where the variables naturally lead to a meaningful derivative. Use appropriate code to evaluate and plot the derivative. If your data appears to be subject to significant noise then you may want to smooth the data first before doing the derivative. Write a few sentences explaining what the derivative means in the context of the data.\n",
    "\n",
    "2. Find a data set where the variables naturally lead to a meaningful definite integral. Use appropriate code to evaluate the definite integral. If your data appears to be subject to significant noise then you might want to smooth the data first before doing the integral. Write a few sentences explaning what the integral means in the context of the data.\n",
    "\n",
    "In both of these tasks be very cautious of the units on the data sets and the units of your answer.\n",
    "\n"
   ]
  },
  {
   "cell_type": "markdown",
   "metadata": {},
   "source": [
    "---\n",
    "\n",
    "### Exercise 3.104. \n",
    "\n",
    "Numerically integrate each of the functions over the interval $[-1,2]$ with an appropriate technique and verify mathematically that your numerical integral is correct to 10 decimal places. Then provide a plot of the function along with its numerical first derivative.\n",
    "\n",
    "1. $f(x)=\\frac{x}{1+x^{4}}$\n",
    "\n",
    "2. $g(x)=(x-1)^{3}(x-2)^{2}$\n",
    "\n",
    "3. $h(x)=\\sin \\left(x^{2}\\right)$\n",
    "\n"
   ]
  },
  {
   "cell_type": "markdown",
   "metadata": {},
   "source": [
    "---\n",
    "\n",
    "### Exercise 3.105. \n",
    "\n",
    "A bicyclist completes a race course in 90 seconds. The speed of the biker at each 10 -second interval is determined using a radar gun and is given in the table in feet per second. How long is the race course?\n",
    "\n",
    "| Time (sec) | 0 | 10 | 20 | 30 | 40 | 50 | 60 | 70 | 80 | 90 |\n",
    "| :--- | :--- | :--- | :--- | :--- | :--- | :--- | :--- | :--- | :--- | :--- |\n",
    "| Speed (ft/sec) | 34 | 32 | 29 | 33 | 37 | 40 | 41 | 36 | 38 | 39 |\n",
    "\n",
    "You can download the data with the following code.\n",
    "\n",
    "```\n",
    "import numpy as np\n",
    "import pandas as pd\n",
    "URL1 = 'https://raw.githubusercontent.com/NumericalMethodsSullivan'\n",
    "URL2 = '/NumericalMethodsSullivan.github.io/master/data/'\n",
    "URL = URL1+URL2\n",
    "data = np.array( pd.read_csv(URL+'Exercise3_bikespeed.csv') )\n",
    "# Exercise3_bikespeed.csv\n",
    "```\n",
    "\n"
   ]
  },
  {
   "cell_type": "markdown",
   "metadata": {},
   "source": [
    "---\n",
    "\n",
    "### Exercise 3.106. \n",
    "\n",
    "For each of the following functions write code to numerically approximate the local maximum or minimum that is closest to $x=0$. You may want to start with a plot of the function just to get a feel for where the local extreme value(s) might be.\n",
    "\n",
    "1. $f(x)=\\frac{x}{1+x^{4}}+\\sin (x)$\n",
    "\n",
    "2. $g(x)=(x-1)^{3} \\cdot(x-2)^{2}+e^{-0.5 \\cdot x}$\n",
    "\n"
   ]
  },
  {
   "cell_type": "markdown",
   "metadata": {},
   "source": [
    "---\n",
    "\n",
    "### Exercise 3.107. \n",
    "\n",
    "Go back to your old Calculus textbook or homework and find your favorite optimization problem. State the problem, create the mathematical model, and use any of the numerical optimization techniques in this chapter to get an approximate solution to the problem.\n",
    "\n"
   ]
  },
  {
   "cell_type": "markdown",
   "metadata": {},
   "source": [
    "---\n",
    "\n",
    "### Exercise 3.108. \n",
    "\n",
    "In the code below you can download several sets of noisy data from measurements of elementary single variable functions.\n",
    "\n",
    "1. Make a hypothesis about which type of function would best model the data. Be sure to choose the most general (parameterized) form of your function.\n",
    "\n",
    "2. Use appropriate tools to find the parameters for the function that best fits the data. Report you sum of square residuals for each function.\n",
    "\n",
    "The functions that you propose must be continuous functions.\n",
    "\n",
    "```\n",
    "import numpy as np\n",
    "import pandas as pd\n",
    "URL1 = 'https://raw.githubusercontent.com/NumericalMethodsSullivan'\n",
    "URL2 = '/NumericalMethodsSullivan.github.io/master/data/'\n",
    "URL = URL1+URL2\n",
    "datasetA = np.array( pd.read_csv(URL+'Exercise3_datafit5.csv') )\n",
    "datasetB = np.array( pd.read_csv(URL+'Exercise3_datafit6.csv') )\n",
    "datasetC = np.array( pd.read_csv(URL+'Exercise3_datafit7.csv') )\n",
    "datasetD = np.array( pd.read_csv(URL+'Exercise3_datafit8.csv') )\n",
    "```\n",
    "\n",
    "```\n",
    "datasetE = np.array( pd.read_csv(URL+'Exercise3_datafit9.csv') )\n",
    "datasetF = np.array( pd.read_csv(URL+'Exercise3_datafit10.csv') )\n",
    "datasetG = np.array( pd.read_csv(URL+'Exercise3_datafit11.csv') )\n",
    "datasetH = np.array( pd.read_csv(URL+'Exercise3_datafit12.csv') )\n",
    "# Exercise3_datafit5.csv - Exercise3_datafit12.csv\n",
    "```\n",
    "\n"
   ]
  },
  {
   "cell_type": "markdown",
   "metadata": {},
   "source": [
    "---\n",
    "\n",
    "### Exercise 3.109. (The Goat Problem) \n",
    "\n",
    "This is a classic problem in recreational mathematics that has a great approximate solution where we can leverage some of our numerical analysis skills. Grab a pencil and a piece of paper so we can draw a picture.\n",
    "\n",
    "- Draw a coordinate plane\n",
    "- Draw a circle with radius 1 unit centered at the point $(0,1)$. This circle will obviously be tangent to the $x$ axis.\n",
    "- Draw a circle with radius $r$ centered at the point $(0,0)$. We will take $0<r<2$ so there are two intersections of the two circles.\n",
    "- Label the left-hand intersection of the two circles as point $A$. (Point $A$ should be in the second quadrant of your coordinate plane.)\n",
    "- Label the right-hand intersection of the circles as point B. (Point $B$ should be in the first quadrant of your coordinate plane.)\n",
    "- Label the point $(0,0)$ as the point $P$.\n",
    "\n",
    "A rancher has built a circular fence of radius 1 unit centered at the point $(0,1)$ for his goat to graze. He tethers his goat at point $P$ on the far south end of the circular fence. He wants to make the length of the goat's chain, $r$, just long enough so that it can graze half of the area of the fenced region. How long should he make the chain?\n",
    "\n",
    "Hints:\n",
    "\n",
    "- It would be helpful to write equations for both circles. Then you can use the equations to find the coordinates of the intersection points $A$ and $B$.\n",
    "- You can either solve for the intersection points algebraically or you can use a numerical root finding technique to find the intersection points.\n",
    "- In any case, the intersection points will (obviously) depend on the value of $r$\n",
    "- Set up an integral to find the area grazed by the goat.\n",
    "- You will likely need to use a numerical integration technique to evaluate the integral.\n",
    "- Write code to narrow down on the best value of $r$ where the integral evaluates to half the area of the fenced region.\n",
    "\n",
    "\n"
   ]
  }
 ],
 "metadata": {
  "kernelspec": {
   "display_name": "DS776v2",
   "language": "python",
   "name": "python3"
  },
  "language_info": {
   "codemirror_mode": {
    "name": "ipython",
    "version": 3
   },
   "file_extension": ".py",
   "mimetype": "text/x-python",
   "name": "python",
   "nbconvert_exporter": "python",
   "pygments_lexer": "ipython3",
   "version": "3.11.9"
  }
 },
 "nbformat": 4,
 "nbformat_minor": 2
}
