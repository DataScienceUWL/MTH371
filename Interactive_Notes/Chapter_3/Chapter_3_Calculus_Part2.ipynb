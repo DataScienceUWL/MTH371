{
 "cells": [
  {
   "cell_type": "markdown",
   "metadata": {},
   "source": [
    "### 3.3 Integration\n",
    "\n",
    "Now we begin our work on the second principle computation of Calculus: evaluating a definite integral. Remember that a single-variable definite integral can be interpreted as the signed area between the curve and the $x$ axis. In this section we will study three different techniques for approximating the value of a definite integral.\n",
    "\n"
   ]
  },
  {
   "cell_type": "markdown",
   "metadata": {},
   "source": [
    "---\n",
    "\n",
    "### Exercise 3.31. \n",
    "\n",
    "Consider the shaded area of the region under the function plotted in Figure 3.4 between $x=0$ and $x=2$.\n",
    "\n",
    "1. What rectangle with area 6 gives an upper bound for the area under the curve? Can you give a better upper bound?\n",
    "\n",
    "2. Why must the area under the curve be greater than 3 ?\n",
    "\n",
    "3. Is the area greater than 4 ? Why/Why not?\n",
    "\n",
    "4. Work with your partner to give an estimate of the area and provide an estimate for the amount of error that you're making.\n",
    "\n",
    "**Figure 3.4: A sample integration**\n",
    "\n",
    "![](https://cdn.mathpix.com/cropped/2025_02_27_429587f441ab5f434461g-21.jpg?height=467&width=554&top_left_y=1192&top_left_x=688)\n",
    "\n"
   ]
  },
  {
   "cell_type": "markdown",
   "metadata": {},
   "source": [
    "---\n",
    "\n",
    "### 3.3.1 Riemann Sums\n",
    "\n",
    "In this subsection we will build our first method for approximating definite integrals. Recall from Calculus that the definition of the Riemann integral is\n",
    "\n",
    "$$\n",
    "\\int_{a}^{b} f(x)\\,dx=\\lim _{\\Delta x \\rightarrow 0} \\sum_{j=1}^{N} f\\left(x_{j}\\right) \\Delta x\n",
    "$$\n",
    "\n",
    "where $N$ is the number of sub intervals on the interval $[a, b]$ and $\\Delta x$ is the width of the interval. As with differentiation, we can remove the limit and have a decent approximation of the integral so long as $N$ is large (or equivalently, if $\\Delta x$\n",
    "is small).\n",
    "\n",
    "$$\n",
    "\\int_{a}^{b} f(x)\\,dx \\approx \\sum_{j=1}^{N} f\\left(x_{j}\\right) \\Delta x .\n",
    "$$\n",
    "\n",
    "You are likely familiar with this approximation of the integral from Calculus. The value of $x_{j}$ can be chosen anywhere within the sub interval and three common choices are to use the left-aligned, the midpoint-aligned, and the right-aligned.\n",
    "We see a depiction of this in Figure 3.5.\n",
    "\n",
    "**Figure 3.5: Left-aligned Riemann sums, midpoint-aligned Riemann sums, and right-aligned Riemann sums**\n",
    "\n",
    "![](https://cdn.mathpix.com/cropped/2025_02_27_429587f441ab5f434461g-22.jpg?height=394&width=974&top_left_y=817&top_left_x=668)\n",
    "\n",
    "Clearly, the more rectangles we choose the closer the sum of the areas of the rectangles will get to the integral.\n",
    "\n"
   ]
  },
  {
   "cell_type": "markdown",
   "metadata": {},
   "source": [
    "---\n",
    "\n",
    "### Exercise 3.32. \n",
    "\n",
    "Write code to approximate an integral with Riemann sums. You should ALWAYS start by writing pseudo-code as comments in your function. Your Python function should accept a Python Function, a lower bound, an upper bound, the number of subintervals, and an optional input that allows the user to designate whether they want left, right, or midpoint rectangles. Test your code on several functions for which you know the integral. You should write your code without any loops.\n",
    "\n"
   ]
  },
  {
   "cell_type": "markdown",
   "metadata": {},
   "source": [
    "---\n",
    "\n",
    "### Exercise 3.33. \n",
    "\n",
    "Consider the function $f(x)=\\sin (x)$. We know the antiderivative for this function, $F(x)=-\\cos (x)+C$, but in this question we are going to get a sense of the order of the error when doing Riemann Sum integration.\n",
    "\n",
    "1. Find the exact value of\n",
    "\n",
    "$$\n",
    "\\int_{0}^{1} f(x) \\,dx.\n",
    "$$\n",
    "\n",
    "2.  Now build a Riemann Sum approximation (using your code) with various values of $\\Delta x$. For all of your approximation use left-justified rectangles. Fill in the table with your results. (Or include code to print a similar table)\n",
    "\n",
    "| $\\Delta x$ | Approx. Integral | Exact Integral | Abs. Percent Error |\n",
    "| :--- | :--- | :--- | :--- |\n",
    "| $2^{-1}=0.5$ |  |  |  |\n",
    "| $2^{-2}=0.25$ |  |  |  |\n",
    "| $2^{-3}$ |  |  |  |\n",
    "| $2^{-4}$ |  |  |  |\n",
    "| $2^{-5}$ |  |  |  |\n",
    "| $2^{-6}$ |  |  |  |\n",
    "| $2^{-7}$ |  |  |  |\n",
    "| $2^{-8}$ |  |  |  |\n",
    "\n",
    "3. There was nothing really special about powers of 2 in part (b) of this problem. Examine other sequences of $\\Delta x$ with a goal toward answering the question:\n",
    "If we find an approximation of the integral with a fixed $\\Delta x$ and find an absolute percent error, then what would happen to the absolute percent error if we divide $\\Delta x$ by some positive constant $M$ ?\n",
    "\n",
    "4. What is the apparent approximation error of the Riemann Sum method using left-justified rectangles.\n",
    "\n"
   ]
  },
  {
   "cell_type": "markdown",
   "metadata": {},
   "source": [
    "---\n",
    "\n",
    "### Exercise 3.34. \n",
    "\n",
    "Repeat the previous problem using right-justified rectangles.\n",
    "\n"
   ]
  },
  {
   "cell_type": "markdown",
   "metadata": {},
   "source": [
    "---\n",
    "\n",
    "### Theorem 3.2. \n",
    "\n",
    "In approximating the integral $\\int_{a}^{b} f(x) \\, dx$ with a fixed interval width $\\Delta x$ we find an absolute percent error $P$.\n",
    "\n",
    "- If we use left rectangles and an interval width of $\\frac{\\Delta x}{M}$ then the absolute percent error will be approximately ??? .\n",
    "- If we use right rectangles and an interval width of $\\frac{\\Delta x}{M}$ then the absolute percent error will be approximately ??? .\n",
    "\n"
   ]
  },
  {
   "cell_type": "markdown",
   "metadata": {},
   "source": [
    "---\n",
    "\n",
    "### Exercise 3.35. \n",
    "\n",
    "The previous theorem could be stated in an equivalent way.\n",
    "In approximating the integral $\\int_{a}^{b} f(x)\\,dx$ with a fixed interval number of subintervals we find an absolute percent error $P$.\n",
    "\n",
    "- If we use left rectangles and $M$ times as many subintervals then the absolute percent error will be approximately ??? .\n",
    "- If we use right rectangles and $M$ times as many subintervals then the absolute percent error will be approximately ??? .\n",
    "\n"
   ]
  },
  {
   "cell_type": "markdown",
   "metadata": {},
   "source": [
    "---\n",
    "\n",
    "### Exercise 3.36. \n",
    "\n",
    "Create a plot with the width of the subintervals on the horizontal axis and the absolute error between your Riemann sum calculations (left, right,\n",
    "and midpoint) and the exact integral for a known definite integral. Your plot should be on a log-log scale. Based on your plot, what is the approximate order of the error in the Riemann sum approximation?\n",
    "\n"
   ]
  },
  {
   "cell_type": "markdown",
   "metadata": {},
   "source": [
    "---\n",
    "\n",
    "### 3.3.2 Trapezoidal Rule\n",
    "\n",
    "Now let's turn our attention to some slightly better algorithms for calculating the value of a definite integral: The Trapezoidal Rule and Simpson's Rule. There are many others, but in practice these two are relatively easy to implement and have reasonably good error approximations. To motivate the idea of the Trapezoid rule consider Figure 3.6. It is plain to see that trapezoids will make better approximations than rectangles at least in this particular case. Another way to think about using trapezoids, however, is to see the top side of the trapezoid as a secant line connecting two points on the curve. As $\\Delta x$ gets arbitrarily small, the secant lines become better and better approximations for tangent lines and are hence arbitrarily good approximations for the curve. For these reasons it seems like we should investigate how to systematically approximate definite integrals via trapezoids.\n",
    "\n",
    "**Figure 3.6: Motivation for using trapezoids to approximate a definite integral.**\n",
    "\n",
    "![](https://cdn.mathpix.com/cropped/2025_02_27_429587f441ab5f434461g-24.jpg?height=362&width=1117&top_left_y=1250&top_left_x=599)\n",
    "\n",
    "**Figure 3.7: A single trapezoid to approximate area under a curve.**\n",
    "\n",
    "![](https://cdn.mathpix.com/cropped/2025_02_27_429587f441ab5f434461g-25.jpg?height=418&width=492&top_left_y=425&top_left_x=719)\n",
    "\n"
   ]
  },
  {
   "cell_type": "markdown",
   "metadata": {},
   "source": [
    "---\n",
    "\n",
    "### Exercise 3.37. \n",
    "\n",
    "Consider a single trapezoid approximating the area under a curve. From geometry we recall that the area of a trapezoid is\n",
    "\n",
    "$$\n",
    "A=\\frac{1}{2}\\left(b_{1}+b_{2}\\right) h\n",
    "$$\n",
    "\n",
    "where $b_{1}, b_{2}$ and $h$ are marked in Figure 3.7. The function shown in the picture is $f(x)=\\frac{1}{5} x^{2}(5-x)$. Find the area of the shaded region as an approximation to\n",
    "\n",
    "$$\n",
    "\\int_{1}^{4}\\left(\\frac{1}{5} x^{2}(5-x)\\right)\\,dx .\n",
    "$$\n",
    "\n",
    "Now use the same idea with $h=\\Delta x=1$ from Figure 3.6 to approximate the area under the function $f(x)=\\frac{1}{5} x^{2}(5-x)$ between $x=1$ and $x=4$ using three trapezoids.\n",
    "\n"
   ]
  },
  {
   "cell_type": "markdown",
   "metadata": {},
   "source": [
    "---\n",
    "\n",
    "### Exercise 3.38. \n",
    "\n",
    "Again consider the function $f(x)=\\frac{1}{5} x^{2}(5-x)$ on the interval $[1,4]$. We want to evaluate the integral\n",
    "\n",
    "$$\n",
    "\\int_{1}^{4} f(x)\\,dx\n",
    "$$\n",
    "\n",
    "using trapezoids to approximate the area.\n",
    "\n",
    "\n",
    "1. Work out the exact value of the definite integral by hand.\n",
    "\n",
    "2. Summarize your answers to the previous problems in the following table then extend the data that you have for smaller and smaller values of $\\Delta x$. (Or write code)\n",
    "\n",
    "| $\\Delta x$ | Approx. Integral | Exact Integral | Abs. \\% Error |\n",
    "| :--- | :--- | :--- | :--- |\n",
    "| 3 |  |  |  |\n",
    "| 1 |  |  |  |\n",
    "| $1 / 3$ |  | $\\vdots$ |  |\n",
    "| $1 / 9$ |  | $\\vdots$ |  |\n",
    "| $\\vdots$ | $\\vdots$ | $\\vdots$ |  |\n",
    "\n",
    "3. From the table that you built in part (2), what do you conjecture is the order of the approximation error for the trapezoid method?\n",
    "\n"
   ]
  },
  {
   "cell_type": "markdown",
   "metadata": {},
   "source": [
    "---\n",
    "\n",
    "### Definition 3.3. (The Trapezoidal Rule) \n",
    "\n",
    "We want to approximate $\\int_{a}^{b} f(x)\\,dx$. One of the simplest ways is to approximate the area under the function with a trapezoid. Recall from basic geometry that area of a trapezoid is $A=\\frac{1}{2}\\left(b_{1}+b_{2}\\right) h$. In terms of the integration problem we can do the following:\n",
    "\n",
    "1. First partition $[a, b]$ into the set $\\left\\{x_{0}=a, x_{1}, x_{2}, \\ldots, x_{n-1}, x_{n}=b\\right\\}$.\n",
    "\n",
    "2. On each part of the partition approximate the area with a trapezoid:\n",
    "\n",
    "$$\n",
    "A_{j}=\\frac{1}{2}\\left[f\\left(x_{j}\\right)+f\\left(x_{j-1}\\right)\\right]\\left(x_{j}-x_{j-1}\\right)\n",
    "$$\n",
    "\n",
    "3. Approximate the integral as\n",
    "\n",
    "$$\n",
    "\\int_{a}^{b} f(x)\\,dx=\\sum_{j=1}^{n} A_{j}\n",
    "$$\n",
    "\n"
   ]
  },
  {
   "cell_type": "markdown",
   "metadata": {},
   "source": [
    "\n",
    "---\n",
    "\n",
    "### Exercise 3.39. \n",
    "\n",
    "Write code to give the trapezoidal rule approximation for the definite integral $\\int_{a}^{b} f(x)\\,dx$. Test your code on functions where you know the definite area. Then test your code on functions where you have approximated the area by examining a plot (i.e. you have a visual estimate of the area).\n",
    "\n"
   ]
  },
  {
   "cell_type": "markdown",
   "metadata": {},
   "source": [
    "---\n",
    "\n",
    "### Exercise 3.40. \n",
    "\n",
    "Use the code that you wrote in the previous problem to test your conjecture about the order of the approximation error for the trapezoid rule. Integrate the function $f(x)=\\sin (x)$ from $x=0$ to $x=1$ with more and more trapezoids. In each case compare to the exact answer and find the absolute percent error. The goal is to answer the question:\n",
    "If we calculate the definite integral with a fixed $\\Delta x$ and get an absolute percent error, $P$, then what absolute percent error will we get if we use a width of $\\Delta x / M$ for some positive number M?\n",
    "\n"
   ]
  },
  {
   "cell_type": "markdown",
   "metadata": {},
   "source": [
    "---\n",
    "\n",
    "### 3.3.3 Simpsons Rule\n",
    "\n",
    "The trapezoidal rule does a decent job approximating integrals, but ultimately you are using linear functions to approximate $f(x)$ and the accuracy may suffer if the step size is too large or the function too non-linear. You likely notice that the trapezoidal rule will give an exact answer if you were to integrate a linear or constant function. A potentially better approach would be to get an integral that evaluates quadratic functions exactly. In order to do this we need to evaluate the function at three points (not two like the trapezoidal rule). Let's integrate a function $f(x)$ on the interval $[a, b]$ by using the three points $(a, f(a))$, $(m, f(m))$, and $(b, f(b))$ where $m=\\frac{a+b}{2}$ is the midpoint of the two boundary points.\n",
    "\n",
    "We want to find constants $A_{1}, A_{2}$, and $A_{3}$ such that the integral $\\int_{a}^{b} f(x)\\,dx$ can be written as a linear combination of $f(a), f(m)$, and $f(b)$. Specifically, we want to find constants $A_{1}, A_{2}$, and $A_{3}$ in terms of $a, b, f(a), f(b)$, and $f(m)$ such that\n",
    "\n",
    "$$\n",
    "\\int_{a}^{b} f(x)\\,dx=A_{1} f(a)+A_{2} f(m)+A_{3} f(b)\n",
    "$$\n",
    "\n",
    "is exact for all constant, linear, and quadratic functions. This would guarantee that we have an exact integration method for all polynomials of order 2 or less but should serve as a decent approximation if the function is not quadratic.\n",
    "\n"
   ]
  },
  {
   "cell_type": "markdown",
   "metadata": {},
   "source": [
    "---\n",
    "\n",
    "### Exercise 3.41. \n",
    "\n",
    "Draw a picture showing what the previous two paragraphs discussed.\n",
    "\n"
   ]
  },
  {
   "cell_type": "markdown",
   "metadata": {},
   "source": [
    "---\n",
    "\n",
    "### Exercise 3.42. \n",
    "\n",
    "Follow these steps to find $A_{1}, A_{2}$, and $A_{3}$.\n",
    "\n",
    "1. Prove that\n",
    "\n",
    "$$\n",
    "\\int_{a}^{b} 1\\,dx=b-a=A_{1}+A_{2}+A_{3}\n",
    "$$\n",
    "\n",
    "2. Prove that\n",
    "\n",
    "$$\n",
    "\\int_{a}^{b} x\\,dx=\\frac{b^{2}-a^{2}}{2}=A_{1} a+A_{2}\\left(\\frac{a+b}{2}\\right)+A_{3} b .\n",
    "$$\n",
    "\n",
    "3. Prove that\n",
    "\n",
    "$$\n",
    "\\int_{a}^{b} x^{2}\\,dx=\\frac{b^{3}-a^{3}}{3}=A_{1} a^{2}+A_{2}\\left(\\frac{a+b}{2}\\right)^{2}+A_{3} b^{2}\n",
    "$$\n",
    "\n",
    "4. Now solve the linear system of equations to prove that\n",
    "\n",
    "$$\n",
    "A_{1}=\\frac{b-a}{6}, \\quad A_{2}=\\frac{4(b-a)}{6}, \\quad \\text { and } \\quad A_{3}=\\frac{b-a}{6}\n",
    "$$\n",
    "\n"
   ]
  },
  {
   "cell_type": "markdown",
   "metadata": {},
   "source": [
    "---\n",
    "\n",
    "### Exercise 3.43. \n",
    "\n",
    "At this point we can see that an integral can be approximated as\n",
    "\n",
    "$$\n",
    "\\int_{a}^{b} f(x)\\,dx \\approx\\left(\\frac{b-a}{6}\\right)\\left(f(a)+4 f\\left(\\frac{a+b}{2}\\right)+f(b)\\right)\n",
    "$$\n",
    "\n",
    "and the technique will give an exact answer for any polynomial of order 2 or below.\n",
    "\n",
    "Verify the previous sentence by integrating $f(x)=1, f(x)=x$ and $f(x)=x^{2}$ by hand on the interval $[0,1]$ and using the approximation formula\n",
    "\n",
    "$$\n",
    "\\int_{a}^{b} f(x)\\,dx \\approx\\left(\\frac{b-a}{6}\\right)\\left(f(a)+4 f\\left(\\frac{a+b}{2}\\right)+f(b)\\right)\n",
    "$$\n",
    "\n",
    "1. Use the method described above to approximate the area under the curve $f(x)=(1 / 5) x^{2}(5-x)$ on the interval $[1,4]$. To be clear, you will be using the points $a=1, m=2.5$, and $b=4$ in the above derivation.\n",
    "\n",
    "2. Next find the exact area under the curve $g(x)=(-1 / 2) x^{2}+3.3 x-2$ on the interval $[1,4]$.\n",
    "\n",
    "3. What do you notice about the two areas? What does this sample problem tell you about the formula that we derived above?\n",
    "\n"
   ]
  },
  {
   "cell_type": "markdown",
   "metadata": {},
   "source": [
    "---\n",
    "\n",
    "To make the punchline of the previous exercises a bit more clear, using the formula\n",
    "\n",
    "$$\n",
    "\\int_{a}^{b} f(x)\\,dx \\approx\\left(\\frac{a-b}{6}\\right)(f(a)+4 f(m)+f(b))\n",
    "$$\n",
    "\n",
    "is the same as fitting a parabola to the three points $(a, f(a)),(m, f(m))$, and $(b, f(b))$ and finding the area under the parabola exactly. That is exactly the step up from the trapezoid rule and Riemann sums that we were after:\n",
    "\n",
    "- Riemann sums approximate the function with constant functions,\n",
    "- the trapezoid rule uses linear functions, and\n",
    "- now we have a method for approximating with parabolas.\n",
    "\n",
    "To improve upon this idea we now examine the problem of partitioning the interval $[a, b]$ into small pieces and running this process on each piece. This is called Simpson's Rule for integration.\n",
    "\n",
    "### Definition 3.4. (Simpson's Rule) \n",
    "\n",
    "Now we put the process explained above into a form that can be coded to approximate integrals. We call this method Simpson's Rule after Thomas Simpson (1710-1761) who, by the way, was a basket weaver in his day job so he could pay the bills and keep doing math.\n",
    "\n",
    "1. First partition $[a, b]$ into the set $\\left\\{x_{0}=a, x_{1}, x_{2}, \\ldots, x_{n-1}, x_{n}=b\\right\\}$.\n",
    "\n",
    "2. On each part of the partition approximate the area with a parabola:\n",
    "\n",
    "$$\n",
    "A_{j}=\\frac{1}{6}\\left[f\\left(x_{j}\\right)+4 f\\left(\\frac{x_{j}+x_{j-1}}{2}\\right)+f\\left(x_{j-1}\\right)\\right]\\left(x_{j}-x_{j-1}\\right)\n",
    "$$\n",
    "\n",
    "3. Approximate the integral as\n",
    "\n",
    "$$\n",
    "\\int_{a}^{b} f(x)\\,dx=\\sum_{j=1}^{n} A_{j}\n",
    "$$\n",
    "\n"
   ]
  },
  {
   "cell_type": "markdown",
   "metadata": {},
   "source": [
    "---\n",
    "\n",
    "### Exercise 3.44. \n",
    "\n",
    "We have spent a lot of time over the past many pages building approximations of the order of the error for numerical integration and differentiation schemes. It is now up to you.\n",
    "\n",
    "Build a numerical experiment that allows you to conjecture the order of the approximation error for Simpson's rule. Remember that the goal is to answer the question:\n",
    "If I approximate the integral with a fixed $\\Delta x$ and find an absolute percent error of $P$, then what will the absolute percent error be using a width of $\\Delta x / M$ ?\n",
    "\n"
   ]
  },
  {
   "cell_type": "markdown",
   "metadata": {},
   "source": [
    "---\n",
    "\n",
    "### Exercise 3.45. \n",
    "\n",
    "Write a Python function that implements Simpson's Rule. You should ALWAYS start by writing pseudo-code as comments in your file. You shouldn't need a loop in your function.\n",
    "\n"
   ]
  },
  {
   "cell_type": "markdown",
   "metadata": {},
   "source": [
    "---\n",
    "\n",
    "### Exercise 3.46. \n",
    "\n",
    "Test your function on known integrals and approximate the order of the error based on the mesh size.\n",
    "\n"
   ]
  },
  {
   "cell_type": "markdown",
   "metadata": {},
   "source": [
    "---\n",
    "\n",
    "Thus far we have three numerical approximations for definite integrals: Riemann sums (with rectangles), the trapezoidal rule, and Simpsons's rule. There are MANY other approximations for integrals and we leave the further research to the curious reader.\n",
    "\n",
    "### Theorem 3.3. (Numerical Integration Schemes) \n",
    "\n",
    "Let $f(x)$ be a continuous function on the interval $[a, b]$. The integral $\\int_{a}^{b} f(x)\\,dx$ can be approximated with any of the following.\n",
    "\n",
    "* **Left/Right Riemann Sum:** $\\int_{a}^{b} f(x)\\,dx \\approx \\sum_{j=1}^{N} f\\left(x_{j}\\right) \\Delta x$\n",
    "    * Error for Left and Right Riemann Sums: $\\mathcal{O}(\\Delta x)$\n",
    "\n",
    "* **Midpoint Riemann Sum:** $\\int_{a}^{b} f(x)\\,dx \\approx \\sum_{m=1}^{N} f\\left(x_{m}\\right) \\Delta x$\n",
    "    * Error for Midpoint Riemann Sums: $\\mathcal{O}\\left(\\Delta x^{2}\\right)$\n",
    "\n",
    "* **Trapezoidal Rule:** $\\int_{a}^{b} f(x)\\,dx \\approx \\frac{1}{2} \\sum_{j=1}^{N}\\left(f\\left(x_{j}\\right)+f\\left(x_{j-1}\\right)\\right) \\Delta x$\n",
    "    * Error for Trapezoidal Rule: $\\mathcal{O}\\left(\\Delta x^{2}\\right)$\n",
    "\n",
    "* **Simpson's Rule:** $\\int_{a}^{b} f(x)\\,dx \\approx \\frac{1}{6} \\sum_{j=1}^{N}\\left(f\\left(x_{j}\\right)+4 f\\left(\\frac{x_{j}+x_{j-1}}{2}\\right)+f\\left(x_{j-1}\\right)\\right) \\Delta x$\n",
    "    * Error for Simpson's Rule: $\\mathcal{O}\\left(\\Delta x^{4}\\right)$ where $\\Delta x=x_{j}-x_{j-1}$ and $N$ is the number of subintervals.\n",
    "\n",
    "\n"
   ]
  },
  {
   "cell_type": "markdown",
   "metadata": {},
   "source": [
    "---\n",
    "\n",
    "### Exercise 3.47. \n",
    "\n",
    "Theorem 3.3 simply states the error rates for our three primary integration schemes. For this problem you need to empirically verify these error rates. Use the integration problem and exact answer\n",
    "\n",
    "$$\n",
    "\\int_{0}^{\\pi / 4} e^{3 x} \\sin (2 x)\\,dx=\\frac{3}{13} e^{3 \\pi / 4}+\\frac{2}{13}\n",
    "$$\n",
    "\n",
    "and write code that produces a log-log error plot with $\\Delta x$ on the horizontal axis and the absolute error on the vertical axis. Fully explain how the error rates show themselves in your plot.\n"
   ]
  }
 ],
 "metadata": {
  "language_info": {
   "name": "python"
  }
 },
 "nbformat": 4,
 "nbformat_minor": 2
}
