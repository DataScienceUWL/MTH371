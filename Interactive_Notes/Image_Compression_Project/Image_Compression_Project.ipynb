{
 "cells": [
  {
   "cell_type": "markdown",
   "id": "e4f3ac47",
   "metadata": {},
   "source": [
    "# 📚 Matrix Compression Project: Image Patches + LU / SVD / DCT\n",
    "\n",
    "In this project, you'll use matrix compression techniques to approximate grayscale images.\n",
    "You will break images into patches, compress each patch independently, and then reassemble the image.\n",
    "\n",
    "Instructions:\n",
    "- Resize your image to 256x256 pixels.\n",
    "- Use patch sizes that are powers of two (e.g., 8, 16, 32).\n",
    "- Use only grayscale images (convert if necessary).\n",
    "\n",
    "You can use any of the following images from skimage.data:\n",
    "- astronaut()\n",
    "- camera()\n",
    "- coins()\n",
    "- moon()"
   ]
  },
  {
   "cell_type": "markdown",
   "id": "9b33199b",
   "metadata": {},
   "source": [
    "## 📦 Part 1: Patch and Unpatch\n",
    "\n",
    "### 🔧 Function: Extract Patches"
   ]
  },
  {
   "cell_type": "code",
   "execution_count": null,
   "id": "9dcc2bd8",
   "metadata": {},
   "outputs": [],
   "source": [
    "\n",
    "def extract_patches(image, patch_size):\n",
    "    \"\"\"\n",
    "    Breaks the image into non-overlapping square patches.\n",
    "\n",
    "    Parameters:\n",
    "    - image: 2D NumPy array\n",
    "    - patch_size: size of each square patch (must evenly divide the image)\n",
    "\n",
    "    Returns:\n",
    "    - patches: 3D array of shape (num_patches, patch_size, patch_size)\n",
    "    \"\"\"\n",
    "    # Your code here\n",
    "    pass\n"
   ]
  },
  {
   "cell_type": "markdown",
   "id": "7fd6ec03",
   "metadata": {},
   "source": [
    "### 🔧 Function: Assemble Patches"
   ]
  },
  {
   "cell_type": "code",
   "execution_count": null,
   "id": "ac9428db",
   "metadata": {},
   "outputs": [],
   "source": [
    "def assemble_patches(patches, image_shape):\n",
    "    \"\"\"\n",
    "    Reassembles image from non-overlapping square patches.\n",
    "\n",
    "    Parameters:\n",
    "    - patches: 3D array of patches\n",
    "    - image_shape: tuple (height, width)\n",
    "\n",
    "    Returns:\n",
    "    - image: reconstructed 2D array\n",
    "    \"\"\"\n",
    "    # Your code here\n",
    "    pass\n"
   ]
  },
  {
   "cell_type": "markdown",
   "id": "c4c9754e",
   "metadata": {},
   "source": [
    "### ✅ Test Your Functions\n",
    " - Load and resize an image to 256x256.\n",
    " - Extract patches and reassemble.\n",
    " - Check if reassembled image matches the original.  They should be identical!"
   ]
  },
  {
   "cell_type": "markdown",
   "id": "65312aa8",
   "metadata": {},
   "source": [
    "## 🔁 Part 2: LU Decomposition Compression"
   ]
  },
  {
   "cell_type": "markdown",
   "id": "9842d789",
   "metadata": {},
   "source": [
    "### 🔧 Function: LU Compression for a Single Block\n",
    "\n",
    "Complete this function.  It should take a patch (block) as input and return the compressed patch and compression ratio."
   ]
  },
  {
   "cell_type": "code",
   "execution_count": null,
   "id": "9582778c",
   "metadata": {},
   "outputs": [],
   "source": [
    "\n",
    "def compress_block_lu(block, threshold):\n",
    "    \"\"\"\n",
    "    Compress a matrix block using LU decomposition and thresholding.\n",
    "\n",
    "    Parameters:\n",
    "    - block: 2D NumPy array representing the matrix block\n",
    "    - threshold: value to determine which LU components to retain\n",
    "\n",
    "    Returns:\n",
    "    - reconstructed_block: 2D NumPy array of the compressed block\n",
    "    - compression ratio: float that is percent compression of the block (use tutorial code)\n",
    "    \"\"\"\n",
    "    pass\n"
   ]
  },
  {
   "cell_type": "markdown",
   "id": "4b18dae0",
   "metadata": {},
   "source": [
    "### 🔧 Function: LU Compression for the Whole Image\n",
    "\n",
    "Now write a function that takes the whole image, block size, and threshold as inputs and returns the compressed image, average percent compression ratio, and percent relative reconstruction error measured in the Frobenius norm.\n",
    "\n",
    "#### Steps:\n",
    "1. Extract patches from the image using the `extract_patches` function.\n",
    "2. Apply `compress_block_lu` to each patch.\n",
    "3. Reassemble the compressed patches using the `assemble_patches` function."
   ]
  },
  {
   "cell_type": "code",
   "execution_count": null,
   "id": "fa332614",
   "metadata": {},
   "outputs": [],
   "source": [
    "def compress_image_lu(image, block_size, threshold):\n",
    "    \"\"\"\n",
    "    Compress an image using LU decomposition.\n",
    "\n",
    "    Parameters:\n",
    "    - image: 2D NumPy array representing the grayscale image\n",
    "    - block_size: size of each square block for compression\n",
    "    - threshold: value to determine which LU components to retain\n",
    "\n",
    "    Returns:\n",
    "    - compressed_image: 2D NumPy array of the compressed image\n",
    "    - avg_compression_ratio: float representing the average percent compression ratio\n",
    "    - reconstruction_error: float representing the percent relative reconstruction error (Frobenius norm)\n",
    "    \"\"\"\n",
    "    pass"
   ]
  },
  {
   "cell_type": "markdown",
   "id": "264edfda",
   "metadata": {},
   "source": [
    "### ✅ Test your LU Image Compressor\n",
    "\n",
    "Compress your selected image and display it side-by-side with the original image.  Print the average percent compression and the percent relative reconstruction error.  Play with the parameters and block size so the compressed image achieves at least 70% compression."
   ]
  },
  {
   "cell_type": "code",
   "execution_count": null,
   "id": "49297724",
   "metadata": {},
   "outputs": [],
   "source": []
  },
  {
   "cell_type": "markdown",
   "id": "3125f4b8",
   "metadata": {},
   "source": [
    "### 🔍 Questions\n",
    "Experiment with block size and threshold then answer the following questions in a separate markdown cell.\n",
    "\n",
    "1. How does block size affect LU compression performance?\n",
    "2. How does increasing the threshold affect reconstruction quality?\n",
    "3. Does LU compression preserve sharp edges?"
   ]
  },
  {
   "cell_type": "markdown",
   "id": "52fa9188",
   "metadata": {},
   "source": [
    "## 🔁 Part 3: SVD Compression"
   ]
  },
  {
   "cell_type": "markdown",
   "id": "619801cb",
   "metadata": {},
   "source": [
    "### 🔧 Function: SVD Compression for a Single Block\n",
    "\n",
    "Complete this function. It should take a patch (block) as input and return the compressed block and the percent compression ratio."
   ]
  },
  {
   "cell_type": "code",
   "execution_count": null,
   "id": "a05bc644",
   "metadata": {},
   "outputs": [],
   "source": [
    "def compress_block_svd(block, rank):\n",
    "    \"\"\"\n",
    "    Compress a matrix block using truncated SVD.\n",
    "\n",
    "    Parameters:\n",
    "    - block: 2D NumPy array representing the matrix block\n",
    "    - rank: number of singular values to retain\n",
    "\n",
    "    Returns:\n",
    "    - reconstructed_block: 2D NumPy array of the compressed block\n",
    "    - compression_ratio: float representing the percent compression of the block\n",
    "    \"\"\"\n",
    "    pass\n"
   ]
  },
  {
   "cell_type": "markdown",
   "id": "e05953d4",
   "metadata": {},
   "source": [
    "### 🔧 Function: SVD Compression for the Whole Image\n",
    "\n",
    "Now write a function that takes the whole image, block size, and rank as inputs and returns the SVD-compressed image, the average percent compression ratio, and the percent relative reconstruction error.\n"
   ]
  },
  {
   "cell_type": "code",
   "execution_count": null,
   "id": "d94fc700",
   "metadata": {},
   "outputs": [],
   "source": [
    "def compress_image_svd(image, block_size, rank):\n",
    "    \"\"\"\n",
    "    Compress an image using SVD.\n",
    "\n",
    "    Parameters:\n",
    "    - image: 2D NumPy array representing the grayscale image\n",
    "    - block_size: size of each square block for compression\n",
    "    - rank: number of singular values to retain\n",
    "\n",
    "    Returns:\n",
    "    - compressed_image: 2D NumPy array of the compressed image\n",
    "    - avg_compression_ratio: float representing the average percent compression ratio\n",
    "    - reconstruction_error: float representing the percent relative reconstruction error (Frobenius norm)\n",
    "    \"\"\"\n",
    "pass"
   ]
  },
  {
   "cell_type": "markdown",
   "id": "8e04bb2d",
   "metadata": {},
   "source": [
    "### ✅ Test your SVD Image Compressor\n",
    "\n",
    "Compress your selected image and display it side-by-side with the original image.  Print the average percent compression and the percent relative reconstruction error (Frobenius norm).   Experiment with the parameters and block size to observe the trade-off between compression quality and efficiency.  Your final displayed example should achieve at least 70% compression."
   ]
  },
  {
   "cell_type": "code",
   "execution_count": null,
   "id": "80d63a89",
   "metadata": {},
   "outputs": [],
   "source": []
  },
  {
   "cell_type": "markdown",
   "id": "2842d1f3",
   "metadata": {},
   "source": [
    "### 🔍 Questions\n",
    "\n",
    "1. How low can the rank go before quality noticeably degrades?\n",
    "2. Does using larger patches improve SVD performance?\n",
    "3. How much can you comrpress the image while keeping the relative reconstruction error under 5%?\n",
    "3. Compare LU vs SVD at similar compression levels."
   ]
  },
  {
   "cell_type": "markdown",
   "id": "d342cd24",
   "metadata": {},
   "source": [
    "## 🔁 Part 4: DCT Compression"
   ]
  },
  {
   "cell_type": "markdown",
   "id": "fd517df9",
   "metadata": {},
   "source": [
    "### 🔧 Function: DCT Compression for a Single Block\n",
    "\n",
    "Complete this function. It should take a patch (block) as input and return the compressed block and percent compression ratio using DCT and thresholding."
   ]
  },
  {
   "cell_type": "code",
   "execution_count": null,
   "id": "90b0a6e8",
   "metadata": {},
   "outputs": [],
   "source": [
    "\n",
    "\n",
    "def compress_block_dct(block, threshold):\n",
    "    \"\"\"\n",
    "    Compress a matrix block using Discrete Cosine Transform (DCT) and thresholding.\n",
    "\n",
    "    Parameters:\n",
    "    - block: 2D NumPy array representing the matrix block\n",
    "    - threshold: value to determine which DCT coefficients to retain\n",
    "\n",
    "    Returns:\n",
    "    - reconstructed_block: 2D NumPy array of the compressed block\n",
    "    - compression_ratio: float representing the percent compression of the block\n",
    "    \"\"\"\n",
    "\n",
    "    pass\n"
   ]
  },
  {
   "cell_type": "markdown",
   "id": "180d5c9f",
   "metadata": {},
   "source": [
    "### 🔧 Function: DCT Compression for the Whole Image\n",
    "\n",
    "Now write a function that takes the whole image, block size, and rank as inputs and returns the DCT-compressed image, average percent compression ratio, and percent relative image reconstruction error.\n"
   ]
  },
  {
   "cell_type": "code",
   "execution_count": null,
   "id": "61b0862c",
   "metadata": {},
   "outputs": [],
   "source": [
    "def compress_image_dct(image, block_size, threshold):\n",
    "    \"\"\"\n",
    "    Compress an image using Discrete Cosine Transform (DCT).\n",
    "\n",
    "    Parameters:\n",
    "    - image: 2D NumPy array representing the grayscale image\n",
    "    - block_size: size of each square block for compression\n",
    "    - threshold: value to determine which DCT coefficients to retain\n",
    "\n",
    "    Returns:\n",
    "    - compressed_image: 2D NumPy array of the compressed image\n",
    "    - avg_compression_ratio: float representing the average percent compression ratio\n",
    "    - reconstruction_error: float representing the percent relative reconstruction error (Frobenius norm)\n",
    "    \"\"\"\n",
    "    pass"
   ]
  },
  {
   "cell_type": "markdown",
   "id": "756117d4",
   "metadata": {},
   "source": [
    "### ✅ Test your DCT Image Compressor\n",
    "\n",
    "Compress your selected image and display it side-by-side with the original image. Print the average percent compression and the percent relative reconstruction error. Experiment with the parameters and block size to observe the trade-off between compression quality and efficiency. Your final displayed example should achieve at least 70% compression."
   ]
  },
  {
   "cell_type": "markdown",
   "id": "2071cf24",
   "metadata": {},
   "source": [
    "### 🔍 Questions\n",
    "1. How well does DCT compression preserve smooth regions and textures?\n",
    "2. How does changing the threshold impact DCT performance?\n",
    "3. How much can you comrpress the image while keeping the relative reconstruction error under 5%?\n",
    "4. Compare DCT vs SVD for image compression."
   ]
  },
  {
   "cell_type": "markdown",
   "id": "96e8c055",
   "metadata": {},
   "source": [
    "## 📊 Part 5: Reflection and Summary\n",
    "\n",
    "Reflect on what you learned by answering the following questions in a separate markdown cell."
   ]
  },
  {
   "cell_type": "markdown",
   "id": "ece79dfb",
   "metadata": {},
   "source": [
    "- Which method produced the best visual results?\n",
    "- Which method was most efficient in compression ratio?\n",
    "- What surprised you about the results?\n",
    "- How could real-world compressors build on these ideas?\n",
    "- Which method would you choose for real-world compression and why?"
   ]
  },
  {
   "cell_type": "markdown",
   "id": "96f24afb",
   "metadata": {},
   "source": [
    "## 📦 Part 6 (Optional / Extra Credit): Adaptive DCT Compression\n",
    "\n",
    "In this part, you'll design a smarter compression system that adapts to the content of the image. Instead of using one fixed threshold for all patches, you'll compute a different threshold for each patch based on its characteristics. This can improve compression by removing more data from smooth areas while preserving details where needed.\n",
    "\n",
    "### 🔧 Step 1: Adaptive Threshold Function"
   ]
  },
  {
   "cell_type": "code",
   "execution_count": null,
   "id": "e25f8383",
   "metadata": {},
   "outputs": [],
   "source": [
    "def compute_adaptive_threshold(Y_block, alpha=0.1):\n",
    "    \"\"\"\n",
    "    Compute an adaptive threshold for a given DCT block.\n",
    "    Threshold is set proportional to the maximum DCT coefficient magnitude.\n",
    "\n",
    "    Parameters:\n",
    "    - Y_block: 2D NumPy array (DCT coefficients for one block)\n",
    "    - alpha: scaling factor (tune this)\n",
    "\n",
    "    Returns:\n",
    "    - threshold: float value to use for this block\n",
    "    - compression_ratio: float representing the percent compression of the block\n",
    "    \"\"\"\n",
    "    # Your code here\n",
    "    pass\n"
   ]
  },
  {
   "cell_type": "markdown",
   "id": "95c6375e",
   "metadata": {},
   "source": [
    "\n",
    "\n",
    "### 🔧 Step 2: Adaptive DCT Compression of a Block"
   ]
  },
  {
   "cell_type": "code",
   "execution_count": null,
   "id": "13fe3f36",
   "metadata": {},
   "outputs": [],
   "source": [
    "def compress_block_dct_adaptive(block, alpha=0.1):\n",
    "    \"\"\"\n",
    "    Compress a matrix block using DCT with an adaptive threshold.\n",
    "\n",
    "    Parameters:\n",
    "    - block: 2D NumPy array\n",
    "    - alpha: scaling factor for adaptive threshold\n",
    "\n",
    "    Returns:\n",
    "    - reconstructed: block after adaptive DCT compression\n",
    "    \"\"\"\n",
    "    # Your code here\n",
    "    pass\n"
   ]
  },
  {
   "cell_type": "markdown",
   "id": "81aed94f",
   "metadata": {},
   "source": [
    "\n",
    "### 🔁 Step 3: Compress Full Image with Adaptive DCT Compression\n",
    "\n",
    "Similar to other approaches apply compress_block_dct_adaptive to each patch and reassemble.\n"
   ]
  },
  {
   "cell_type": "code",
   "execution_count": null,
   "id": "b55f2504",
   "metadata": {},
   "outputs": [],
   "source": [
    "def compress_image_dct_adaptive(image, block_size, alpha=0.1):\n",
    "    \"\"\"\n",
    "    Compress an image using Adaptive DCT Compression.\n",
    "\n",
    "    Parameters:\n",
    "    - image: 2D NumPy array representing the grayscale image\n",
    "    - block_size: size of each square block for compression\n",
    "    - alpha: scaling factor for adaptive threshold\n",
    "\n",
    "    Returns:\n",
    "    - compressed_image: 2D NumPy array of the compressed image\n",
    "    - avg_compression_ratio: float representing the average percent compression ratio\n",
    "    - reconstruction_error: float representing the percent relative reconstruction error (Frobenius norm)\n",
    "    \"\"\"\n",
    "    pass"
   ]
  },
  {
   "cell_type": "markdown",
   "id": "f6041f97",
   "metadata": {},
   "source": [
    "### ✅ Test your Adaptive DCT Image Compressor\n",
    "\n",
    "Compress your selected image using Adaptive DCT and display it side-by-side with the original image. Experiment with different block sizes and alpha values to observe the trade-off between compression quality and efficiency."
   ]
  },
  {
   "cell_type": "markdown",
   "id": "f6bbd906",
   "metadata": {},
   "source": [
    "\n",
    "### 🔍 Questions (Answer in a Markdown Cell)\n",
    "\n",
    "1. How does adaptive DCT compression compare to fixed-threshold DCT compression?\n",
    "2. Which regions of the image benefit the most from adaptivity?\n",
    "3. How does changing the alpha value affect compression ratio and image quality?"
   ]
  }
 ],
 "metadata": {
  "kernelspec": {
   "display_name": "DS776_env_v2",
   "language": "python",
   "name": "python3"
  },
  "language_info": {
   "codemirror_mode": {
    "name": "ipython",
    "version": 3
   },
   "file_extension": ".py",
   "mimetype": "text/x-python",
   "name": "python",
   "nbconvert_exporter": "python",
   "pygments_lexer": "ipython3",
   "version": "3.10.16"
  }
 },
 "nbformat": 4,
 "nbformat_minor": 5
}
