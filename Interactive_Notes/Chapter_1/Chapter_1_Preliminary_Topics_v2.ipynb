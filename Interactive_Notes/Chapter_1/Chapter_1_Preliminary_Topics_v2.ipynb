{
 "cells": [
  {
   "cell_type": "markdown",
   "metadata": {},
   "source": [
    "# Section 1.1: What is Numerical Analysis?\n",
    "\n",
    "---\n",
    "\n",
    "## Introduction\n",
    "\n",
    "*\"In the 1950s and 1960s, the founding fathers of Numerical Analysis discovered that inexact arithmetic can be a source of danger, causing errors in results that \"ought\" to be right. The source of such problems is numerical instability: that is, the amplification of rounding errors from microscopic to macroscopic scale by certain modes of computation.\" - Dr. Nick Trefethen, Oxford University, 2006.*\n",
    "\n",
    "Numerical analysis focuses on how to take mathematical problems and perform them efficiently and accurately on a computer. While it is powerful and versatile, numerical analysis is not always appropriate for every mathematical problem (e.g., finding an algebraic derivative of a function or proving a theorem). For many problems, however, a numerical method that gives an approximate answer is both efficient and versatile.\n",
    "\n",
    "Let’s explore several examples of numerical analysis applications:\n",
    "\n",
    "---"
   ]
  },
  {
   "cell_type": "markdown",
   "metadata": {},
   "source": [
    "## Example: Algebra\n",
    "\n",
    "**Problem:** Solve the equation $\\ln(x) = \\sin(x)$ for $x \\in (0, \\pi)$.\n",
    "\n",
    "### Solution (Python):\n",
    "\n",
    "This problem cannot be solved exactly by hand, but a numerical approach can approximate the solution efficiently."
   ]
  },
  {
   "cell_type": "code",
   "execution_count": null,
   "metadata": {},
   "outputs": [
    {
     "name": "stdout",
     "output_type": "stream",
     "text": [
      "Solution: x = 2.21911\n"
     ]
    }
   ],
   "source": [
    "import numpy as np\n",
    "from scipy.optimize import fsolve\n",
    "\n",
    "# Define the equation as a function\n",
    "def equation(x):\n",
    "    return np.log(x) - np.sin(x)\n",
    "\n",
    "# Solve using fsolve with an initial guess\n",
    "solution = fsolve(equation, np.pi / 2)\n",
    "print(f\"Solution: x = {solution[0]:.5f}\")"
   ]
  },
  {
   "cell_type": "markdown",
   "metadata": {},
   "source": [
    "---\n",
    "\n",
    "## Example: Calculus\n",
    "\n",
    "**Problem:** Evaluate the integral $\\int_0^\\pi \\sin(x^2)dx$.\n",
    "\n",
    "### Solution (Python):\n",
    "\n",
    "This integral has no elementary antiderivative, but it can be approximated numerically.\n",
    "\n"
   ]
  },
  {
   "cell_type": "code",
   "execution_count": null,
   "metadata": {},
   "outputs": [
    {
     "name": "stdout",
     "output_type": "stream",
     "text": [
      "Approximate value of the integral: 0.77265\n"
     ]
    }
   ],
   "source": [
    "from scipy.integrate import quad\n",
    "\n",
    "# Define the function to integrate\n",
    "def integrand(x):\n",
    "    return np.sin(x**2)\n",
    "\n",
    "# Perform numerical integration\n",
    "result, error = quad(integrand, 0, np.pi)\n",
    "print(f\"Approximate value of the integral: {result:.5f}\")"
   ]
  },
  {
   "cell_type": "markdown",
   "metadata": {},
   "source": [
    "---\n",
    "\n",
    "## Example: Differential Equations\n",
    "\n",
    "**Problem:** Solve the differential equation $\\frac{dy}{dt} = \\sin(y^2) + t$ numerically.\n",
    "\n",
    "### Solution (Python):\n",
    "\n",
    "A numerical method, such as Euler’s Method, can approximate the solution.\n",
    "\n"
   ]
  },
  {
   "cell_type": "code",
   "execution_count": null,
   "metadata": {},
   "outputs": [
    {
     "data": {
      "image/png": "[encoded data removed]",
      "text/plain": [
       "<Figure size 640x480 with 1 Axes>"
      ]
     },
     "metadata": {},
     "output_type": "display_data"
    }
   ],
   "source": [
    "from scipy.integrate import solve_ivp\n",
    "import matplotlib.pyplot as plt\n",
    "\n",
    "# Define the differential equation\n",
    "def dydt(t, y):\n",
    "    return np.sin(y**2) + t\n",
    "\n",
    "# Solve the ODE using solve_ivp\n",
    "solution = solve_ivp(dydt, [0, 10], [0], t_eval=np.linspace(0, 10, 100))\n",
    "\n",
    "# Plot the solution\n",
    "plt.plot(solution.t, solution.y[0])\n",
    "plt.xlabel('t')\n",
    "plt.ylabel('y')\n",
    "plt.title('Solution of dy/dt = sin(y^2) + t')\n",
    "plt.grid()\n",
    "plt.show()"
   ]
  },
  {
   "cell_type": "markdown",
   "metadata": {},
   "source": [
    "<hr>\n",
    "\n",
    "## Example: Linear Algebra\n",
    "\n",
    "**Problem:** Solve a large system of linear equations.\n",
    "\n",
    "### Solution (Python):\n",
    "\n",
    "Numerical methods are efficient for solving large systems. Here, we solve a random $100 \\times 100$ linear system."
   ]
  },
  {
   "cell_type": "code",
   "execution_count": null,
   "metadata": {},
   "outputs": [
    {
     "name": "stdout",
     "output_type": "stream",
     "text": [
      "Solution of the system (first 10 entries):\n",
      "[-0.15618809  0.08751383  0.97351724 -0.93677849  0.63851817 -0.97832579\n",
      "  0.22426455 -0.74339693  0.24797646  0.69791742]\n"
     ]
    }
   ],
   "source": [
    "# Generate a random 100x100 matrix and a random solution vector\n",
    "A = np.random.rand(100, 100)\n",
    "b = np.random.rand(100)\n",
    "\n",
    "# Solve the system Ax = b\n",
    "x = np.linalg.solve(A, b)\n",
    "\n",
    "# Display the solution\n",
    "print(\"Solution of the system (first 10 entries):\")\n",
    "print(x[:10])"
   ]
  },
  {
   "cell_type": "markdown",
   "metadata": {},
   "source": [
    "<hr>\n",
    "\n",
    "## Summary\n",
    "\n",
    "In this section, we introduced numerical analysis and explored several examples in algebra, calculus, differential equations, and linear algebra. These problems illustrate the versatility of numerical methods in approximating solutions that cannot be determined analytically.\n",
    "\n",
    "Next, we will discuss how computers represent numbers and the implications of this representation on numerical computations.\n",
    "\n",
    "<hr>\n"
   ]
  },
  {
   "cell_type": "markdown",
   "metadata": {},
   "source": [
    "# Section 1.2: Arithmetic in Base 2\n",
    "\n",
    "## Introduction\n",
    "\n",
    "A computer circuit knows two states: on and off. As such, anything saved in computer memory is stored using base-2 numbers. This is called a binary number system. To fully understand a binary number system, it is worthwhile to pause and reflect on our base-10 number system for a few moments.\n",
    "\n",
    "What do the digits in the number \"735\" really mean? The position of each digit tells us something particular about the magnitude of the overall number. The number 735 can be represented as a sum of powers of 10 as\n",
    "\n",
    "$$735 = 700 + 30 + 5 = 7 \\times 10^2 + 3 \\times 10^1 + 5 \\times 10^0$$\n",
    "\n",
    "and we can read this number as 7 hundreds, 3 tens, and 5 ones. As you can see, in a \"positional number system\" such as our base-10 system, the position of the number indicates the power of the base, and the value of the digit itself tells you the multiplier of that power.\n",
    "\n",
    "Now let’s switch to the number system used by computers: the binary number system. In a binary number system, the base is 2, so the only allowable digits are 0 and 1. In binary (base-2), the number \"101,101\" can be interpreted as\n",
    "\n",
    "$$101,101_2 = 1 \\times 2^5 + 0 \\times 2^4 + 1 \\times 2^3 + 1 \\times 2^2 + 0 \\times 2^1 + 1 \\times 2^0.$$  \n",
    "\n",
    "If we put this back into base 10, we get:\n",
    "\n",
    "$$101,101_2 = 32 + 0 + 8 + 4 + 0 + 1 = 45_{10}.$$  \n",
    "\n",
    "The reader should take note that the commas in the numbers are only to allow for greater readability – we can easily see groups of three digits and mentally keep track of what we’re reading.\n",
    "\n",
    "<hr>\n"
   ]
  },
  {
   "cell_type": "markdown",
   "metadata": {},
   "source": [
    "## Exercise 1.1\n",
    "\n",
    "By hand (no computers!) compute the first 50 terms of this sequence with the initial condition $x_0 = \\frac{1}{10}$.\n",
    "\n",
    "$$x_{n+1} = \\begin{cases} \n",
    "2x_n, & x_n \\in \\left[0, \\frac{1}{2}\\right] \\\\\n",
    "2x_n - 1, & x_n \\in \\left(\\frac{1}{2}, 1\\right]\n",
    "\\end{cases}$$\n",
    "\n"
   ]
  },
  {
   "cell_type": "markdown",
   "metadata": {},
   "source": [
    "REPLACE_ME"
   ]
  },
  {
   "cell_type": "markdown",
   "metadata": {},
   "source": [
    "<hr>\n",
    "\n",
    "## Exercise 1.2\n",
    "\n",
    "Now use a spreadsheet to do the computations. Display plenty of decimal places. Do you get the same answers?  (You can include a picture of the spreadsheet below.)\n",
    "\n"
   ]
  },
  {
   "cell_type": "markdown",
   "metadata": {},
   "source": [
    "REPLACE_ME"
   ]
  },
  {
   "cell_type": "markdown",
   "metadata": {},
   "source": [
    "<hr>\n",
    "\n",
    "## Exercise 1.3\n",
    "\n",
    "Finally, solve this problem with Python. Some starter code is given to you below:"
   ]
  },
  {
   "cell_type": "code",
   "execution_count": 1,
   "metadata": {},
   "outputs": [
    {
     "ename": "IndentationError",
     "evalue": "expected an indented block after 'if' statement on line 4 (1888093257.py, line 6)",
     "output_type": "error",
     "traceback": [
      "\u001b[1;36m  Cell \u001b[1;32mIn[1], line 6\u001b[1;36m\u001b[0m\n\u001b[1;33m    else:\u001b[0m\n\u001b[1;37m    ^\u001b[0m\n\u001b[1;31mIndentationError\u001b[0m\u001b[1;31m:\u001b[0m expected an indented block after 'if' statement on line 4\n"
     ]
    }
   ],
   "source": [
    "# FINISH THE CODE IN THIS CELL\n",
    "x = 1.0 / 10\n",
    "for n in range(50):\n",
    "    if x <= 0.5:\n",
    "        # put the correct assignment here\n",
    "    else:\n",
    "        # put the correct assignment here\n",
    "    print(x)"
   ]
  },
  {
   "cell_type": "markdown",
   "metadata": {},
   "source": [
    "<hr>\n",
    "\n",
    "## Exercise 1.4\n",
    "\n",
    "It seems like the computer has failed you! What do you think happened on the computer and why did it give you a different answer? What, do you suppose, is the cautionary tale hiding behind the scenes with this problem?\n",
    "\n"
   ]
  },
  {
   "cell_type": "markdown",
   "metadata": {},
   "source": [
    "\n",
    "REPLACE_ME\n"
   ]
  },
  {
   "cell_type": "markdown",
   "metadata": {},
   "source": [
    "<hr>\n",
    "\n",
    "## Exercise 1.5\n",
    "\n",
    "Now what happens with this problem when you start with $x_0 = \\frac{1}{8}$?  Do you get the same answers with exact and numerical solutions? Why does this new initial condition work better?</span"
   ]
  },
  {
   "cell_type": "markdown",
   "metadata": {},
   "source": [
    "\n",
    "REPLACE_ME\n"
   ]
  },
  {
   "cell_type": "markdown",
   "metadata": {},
   "source": [
    "<hr>\n",
    "\n",
    "A computer circuit knows two states: on and off. As such, anything saved in computer memory is stored using base-2 numbers. This is called a binary number system. To fully understand a binary number system it is worthwhile to pause and reflect on our base-10 number system for a few moments.\n",
    "\n",
    "What do the digits in the number \"735\" really mean? The position of each digit tells us something particular about the magnitude of the overall number. The number 735 can be represented as a sum of powers of 10 as\n",
    "\n",
    "$$735 = 700 + 30 + 5 = 7 \\times 10^2 + 3 \\times 10^1 + 5 \\times 10^0$$\n",
    "\n",
    "Now let’s switch to the number system used by computers: the binary number system. In a binary number system the base is 2 so the only allowable digits are 0 and 1 (just like in base-10 the allowable digits were 0 through 9). In binary (base-2), the number \"101, 101\" can be interpreted as\n",
    "\n",
    "$$101, 101_2 = 1 \\times 2^5 + 0 \\times 2^4 + 1 \\times 2^3 + 1 \\times 2^2 + 0 \\times 2^1 + 1 \\times 2^0$$\n",
    "\n",
    "(where the subscript “2” indicates the base to the reader). If we put this back into base 10, so that we can read it more comfortably, we get\n",
    "\n",
    "$$101, 101_2 = 32 + 0 + 8 + 4 + 0 + 1 = 45_{10}.$$  \n",
    "\n",
    "The reader should take note that the commas in the numbers are only to allow for greater readability – we can easily see groups of three digits and mentally keep track of what we’re reading.\n",
    "\n",
    "<hr>\n",
    "\n",
    "## Example 1.1\n",
    "\n",
    "Convert the number 137 from base 10 to base 2.\n",
    "\n",
    "### Solution\n",
    "\n",
    "One way to do the conversion is to first look for the largest power of 2 less than or equal to your number. In this case, $128 = 2^7$ is the largest power of 2 that is less than 137. Then looking at the remainder, 9, look for the largest power of 2 that is less than this remainder. Repeat until you have the number.\n",
    "\n",
    "$$137_{10} = 128 + 8 + 1 = 2^7 + 2^3 + 2^0$$\n",
    "\n",
    "$$= 1 \\times 2^7 + 0 \\times 2^6 + 0 \\times 2^5 + 0 \\times 2^4 + 1 \\times 2^3 + 0 \\times 2^2 + 0 \\times 2^1 + 1 \\times 2^0$$\n",
    "\n",
    "$$= 10001001_2$$\n"
   ]
  },
  {
   "cell_type": "markdown",
   "metadata": {},
   "source": [
    "\n",
    "<hr>\n",
    "\n",
    "## Exercise 1.6\n",
    "\n",
    "Express the following binary numbers in base-10.\n",
    "\n",
    "1. $111_2$\n",
    "2. $10,101_2$\n",
    "3. $1,111,111,111_2$"
   ]
  },
  {
   "cell_type": "markdown",
   "metadata": {},
   "source": [
    "\n",
    "REPLACE_ME\n"
   ]
  },
  {
   "cell_type": "markdown",
   "metadata": {},
   "source": [
    "<hr>\n",
    "\n",
    "## Exercise 1.7\n",
    "\n",
    "Explain the joke: \"There are 10 types of people. Those who understand binary and those who don’t.\""
   ]
  },
  {
   "cell_type": "markdown",
   "metadata": {},
   "source": [
    "\n",
    "REPLACE_ME\n"
   ]
  },
  {
   "cell_type": "markdown",
   "metadata": {},
   "source": [
    "<hr>\n",
    "\n",
    "## Exercise 1.8\n",
    "\n",
    "**Discussion:** With your group, discuss how you would convert a base-10 number into its binary representation. Once you have a proposed method, put it into action on the number $237_{10}$ to show that the base-2 expression is $11,101,101_2$.\n"
   ]
  },
  {
   "cell_type": "markdown",
   "metadata": {},
   "source": [
    "\n",
    "REPLACE_ME\n"
   ]
  },
  {
   "cell_type": "markdown",
   "metadata": {},
   "source": [
    "<hr>\n",
    "\n",
    "## Exercise 1.9\n",
    "\n",
    "Convert the following numbers from base 10 to base 2 or vice versa.\n",
    "\n",
    "1. Write $12_{10}$ in binary.\n",
    "2. Write $11_{10}$ in binary.\n",
    "3. Write $23_{10}$ in binary.\n",
    "4. Write $11_2$ in base 10.\n",
    "5. What is $100101_2$ in base 10?\n"
   ]
  },
  {
   "cell_type": "markdown",
   "metadata": {},
   "source": [
    "\n",
    "REPLACE_ME\n"
   ]
  },
  {
   "cell_type": "markdown",
   "metadata": {},
   "source": [
    "\n",
    "<hr>\n",
    "\n",
    "## Exercise 1.10\n",
    "\n",
    "Now that you have converted several base-10 numbers to base-2, summarize an efficient technique to do the conversion.\n",
    "\n"
   ]
  },
  {
   "cell_type": "markdown",
   "metadata": {},
   "source": [
    "\n",
    "REPLACE_ME\n"
   ]
  },
  {
   "cell_type": "markdown",
   "metadata": {},
   "source": [
    "<hr>\n",
    "\n",
    "## Exercise 1.11\n",
    "\n",
    "The base-2 number $1,101.01_2$ can be expanded in powers of 2. Fill in the question marks below and observe the pattern in the powers:\n"
   ]
  },
  {
   "cell_type": "markdown",
   "metadata": {},
   "source": [
    "\n",
    "\n",
    "$$1,101.01_2 = ? \\times 2^3 + 1 \\times 2^2 + 0 \\times 2^1 + ? \\times 2^0 + 0 \\times 2^{?} + 1 \\times 2^{-2}.$$  \n"
   ]
  },
  {
   "cell_type": "markdown",
   "metadata": {},
   "source": [
    "<hr>\n",
    "\n",
    "## Exercise 1.12\n",
    "\n",
    "Repeating digits in binary numbers are rather intriguing. The number $0.\\overline{0111} = 0.01110111011101110111 \\ldots$ surely also has a decimal representation. I’ll get you started:\n",
    "\n",
    "$$0.0_2 = 0 \\times 2^0 + 0 \\times 2^{-1} = 0.0_{10}$$\n",
    "\n",
    "$$0.01_2 = 0.0_{10} + 1 \\times 2^{-2} = 0.25_{10}$$\n",
    "\n",
    "$$0.011_2 = 0.25_{10} + 1 \\times 2^{-3} = 0.25_{10} + 0.125_{10} = 0.375_{10}$$\n",
    "\n",
    "$$0.0111_2 = 0.375_{10} + 1 \\times 2^{-4} = 0.4375_{10}$$\n",
    "\n",
    "$$0.01110_2 = 0.4375_{10} + 0 \\times 2^{-5} = 0.4375_{10}$$\n",
    "\n",
    "$$0.011101_2 = 0.4375_{10} + 1 \\times 2^{-6} = 0.453125_{10}$$\n",
    "\n",
    "The above approach will allow you to approximate the decimal representation.  Since a repeating expansion converges to a rational number (a fraction) you can also find the fraction, then convert the fraction to decimal:\n",
    "\n",
    "* treat the repeating expansion as a geometric series and find its sum as a fraction then use long division to find the repeating decimal\n",
    "* use algebra tricks to find the fraction, then use long division\n",
    "* ???\n",
    "\n",
    "We want to know what this series converges to in base 10. Work with your partners to approximate the base-10 number by some method.\n",
    "\n",
    "\n"
   ]
  },
  {
   "cell_type": "markdown",
   "metadata": {},
   "source": [
    "\n",
    "REPLACE_ME\n"
   ]
  },
  {
   "cell_type": "markdown",
   "metadata": {},
   "source": [
    "<hr>\n",
    "\n",
    "## Example 1.2\n",
    "\n",
    "Convert $11.01011_2$ to base 10.\n",
    "\n",
    "### Solution\n",
    "\n",
    "$$11.01011_2 = 2 + 1 + 0 \\times 2^{-1} + 1 \\times 2^{-2} + 0 \\times 2^{-3} + 1 \\times 2^{-4} + 1 \\times 2^{-5}$$\n",
    "\n",
    "$$= 1 \\times 2^1 + 1 \\times 2^0 + 0 \\times 2^{-1} + 1 \\times 2^{-2} + 0 \\times 2^{-3} + 1 \\times 2^{-4} + 1 \\times 2^{-5}$$\n",
    "\n",
    "$$= 3.34375_{10}$$\n",
    "\n"
   ]
  },
  {
   "cell_type": "markdown",
   "metadata": {},
   "source": [
    "<hr>\n",
    "\n",
    "## Exercise 1.13\n",
    "\n",
    "Convert the following numbers from base 10 to binary:\n",
    "\n",
    "1. What is $\\frac{1}{2}$ in binary?\n",
    "2. What is $\\frac{1}{8}$ in binary?\n",
    "3. What is $4.125$ in binary?\n",
    "4. What is $0.15625$ in binary?\n"
   ]
  },
  {
   "cell_type": "markdown",
   "metadata": {},
   "source": [
    "\n",
    "REPLACE_ME\n"
   ]
  },
  {
   "cell_type": "markdown",
   "metadata": {},
   "source": [
    "<hr>\n",
    "\n",
    "## Exercise 1.14\n",
    "\n",
    "Convert the base-10 decimal $0.6$ to binary using the following steps:\n",
    "\n",
    "1. Multiply $0.6$ by $2$. The whole number part of the result is the first binary digit to the right of the decimal point.\n",
    "2. Take the result of the previous multiplication and ignore the digit to the left of the decimal point. Multiply the remaining decimal by $2$. The whole number part is the second binary decimal digit.\n",
    "3. Repeat the previous step until you have nothing left, until a repeating pattern has revealed itself, or until your precision is close enough.\n",
    "\n",
    "Explain why each step gives the binary digit that it does.\n"
   ]
  },
  {
   "cell_type": "markdown",
   "metadata": {},
   "source": [
    "\n",
    "REPLACE_ME\n"
   ]
  },
  {
   "cell_type": "markdown",
   "metadata": {},
   "source": [
    "<hr>\n",
    "\n",
    "## Exercise 1.15\n",
    "\n",
    "Based on your previous problem, write an algorithm that will convert base-10 decimals (less than 1) to base-2 decimal expansions.\n"
   ]
  },
  {
   "cell_type": "markdown",
   "metadata": {},
   "source": [
    "\n",
    "REPLACE_ME\n"
   ]
  },
  {
   "cell_type": "markdown",
   "metadata": {},
   "source": [
    "<hr>\n",
    "\n",
    "## Exercise 1.16\n",
    "\n",
    "Convert the base-10 fraction $\\frac{1}{10}$ into binary. Use your solution to fully describe what went wrong in Exercise 1.3.\n"
   ]
  },
  {
   "cell_type": "markdown",
   "metadata": {},
   "source": [
    "\n",
    "REPLACE_ME\n"
   ]
  },
  {
   "cell_type": "markdown",
   "metadata": {},
   "source": [
    "# Section 1.3 - Floating Point Arithmetic\n",
    "\n",
    "Everything stored in the memory of a computer is a number, but how does a computer actually store a number? More specifically, since computers only have finite memory, we would really like to know the full range of numbers that are possible to store in a computer. Moreover, since there is finite space in a computer, we can only ever store rational numbers (stop and think: why is this). Therefore, we need to know what gaps in our number system to expect when using a computer to store and do computations on numbers.\n",
    "\n",
    "<hr>"
   ]
  },
  {
   "cell_type": "markdown",
   "metadata": {},
   "source": [
    "## Exercise 1.17\n",
    "\n",
    "Let’s start the discussion with a very concrete example. Consider the number $x = −123.15625$ (in base 10). As we’ve seen this number can be converted into binary. Indeed:\n",
    "\n",
    "$$x = −123.15625_{10} = −1111011.00101_2$$\n",
    "\n",
    "(you should check this).\n"
   ]
  },
  {
   "cell_type": "markdown",
   "metadata": {},
   "source": [
    "Fill in the blanks and answer the questions:\n",
    "\n",
    "#### Part (a)\n",
    "If a computer needs to store this number, then first they put it in the binary version of scientific notation. In this case, we write:\n",
    "\n",
    "$$x = −1.??? * 2^{???}$$\n",
    "\n",
    "REPLACE ??? WITH CORRECT ANSWERS\n",
    "\n",
    "#### Part (b)\n",
    "Based on the fact that every binary number, other than 0, can be written in this way, what three things do you suppose a computer needs to store for any given number?\n",
    "\n",
    "REPLACE_ME\n",
    "\n",
    "#### Part (c)\n",
    "Using your answer to part (b), what would a computer need to store for the binary number $x = 10001001.1100110011_2$?\n",
    "\n",
    "REPLACE_ME\n"
   ]
  },
  {
   "cell_type": "markdown",
   "metadata": {},
   "source": [
    "<hr>\n",
    "\n",
    "## Explanation of Binary Storage\n",
    "\n",
    "For any base-2 number $x$, we can write:\n",
    "\n",
    "$$x = (-1)^s \\times (1 + m) \\times 2^E$$\n",
    "\n",
    "where:\n",
    "- $s \\in \\{0, 1\\}$ is called the sign bit.\n",
    "- $m$ is a binary number such that $0 \\leq m < 1$.\n",
    "- $E$ is the exponent.\n",
    "\n",
    "For a number $x$ stored in a computer, the number $m$ is called the **mantissa** (or **significand**), $s$ is known as the sign bit, and $E$ is known as the exponent.\n",
    "\n",
    "<hr>"
   ]
  },
  {
   "cell_type": "markdown",
   "metadata": {},
   "source": [
    "## Example 1.3\n",
    "\n",
    "### Problem\n",
    "What are the mantissa, sign bit, and exponent for the numbers $7_{10}$, $-7_{10}$, and $(0.1)_{10}$?\n",
    "\n",
    "### Solution\n",
    "1. For the number $7_{10}$:\n",
    "    - Binary representation: $7_{10} = {111}_2 = 1.11 \\times 2^2$\n",
    "    - Sign bit $s = 0$\n",
    "    - Mantissa $m = 0.11$\n",
    "    - Exponent $E = 2$\n",
    "\n",
    "2. For the number $-7_{10}$:\n",
    "    - Binary representation: $-7_{10} = -111_2 = -1.11 \\times 2^2$\n",
    "    - Sign bit $s = 1$\n",
    "    - Mantissa $m = 0.11$\n",
    "    - Exponent $E = 2$\n",
    "\n",
    "3. For the number $(0.1)_{10}$:\n",
    "    - Binary representation: $0.0\\overline{0011}$\n",
    "    - Scientific notation: $1.100110011 \\times 2^{-4}$\n",
    "    - Sign bit $s = 0$\n",
    "    - Mantissa $m = 0.100110011\\ldots$\n",
    "    - Exponent $E = -4$\n",
    "\n",
    "<hr>"
   ]
  },
  {
   "cell_type": "markdown",
   "metadata": {},
   "source": [
    "## IEEE Standards for Floating-Point Representation\n",
    "\n",
    "In the last part of the previous example, we saw that the number $(0.1)10$ is actually a repeating decimal in base-2. This means that in order to completely represent the number (0.1)10 in base-2, we need infinitely many decimal places. Obviously, that can’t happen since we are dealing with computers with finite memory.\n",
    "\n",
    "Over the course of the past several decades, there have been many systems developed to properly store numbers. The IEEE standard that we now use is the accumulated effort of many computer scientists, much trial and error, and deep scientific research. We now have three standard precisions for storing numbers on a computer:\n",
    "\n",
    "### Definition 1.1\n",
    "\n",
    "1. A **single-precision** number consists of 32 bits:\n",
    "    - 1 bit for the sign.\n",
    "    - 8 bits for the exponent.\n",
    "    - 23 bits for the significand.\n",
    "\n",
    "2. A **double-precision** number consists of 64 bits:\n",
    "    - 1 bit for the sign.\n",
    "    - 11 bits for the exponent.\n",
    "    - 52 bits for the significand.\n",
    "\n",
    "3. An **extended-precision** number consists of 80 bits:\n",
    "    - 1 bit for the sign.\n",
    "    - 15 bits for the exponent.\n",
    "    - 64 bits for the significand.\n",
    "\n",
    "<hr>\n",
    "\n",
    "## Definition 1.2: Machine Precision\n",
    "\n",
    "Machine precision is the gap between the number 1 and the next larger floating-point number. Often, it is represented by the symbol $\\epsilon$. To clarify, the number 1 can always be stored in a computer system exactly, and if $1+\\epsilon$ is the machine precision for that computer, then $1 + \\epsilon$ is the next largest number that can be stored with that machine.\n",
    "\n",
    "For all practical purposes, the computer cannot tell the difference between two numbers if the difference is smaller than machine precision. This is of the utmost importance when you want to check that something is “zero” since a computer just cannot know the difference between 0 and $\\epsilon$.\n",
    "\n",
    "<hr>"
   ]
  },
  {
   "cell_type": "markdown",
   "metadata": {},
   "source": [
    "## Exercise 1.18\n",
    "\n",
    "To make all of these ideas concrete, let’s play with a small computer system where each number is stored as a 5-tuple:\n",
    "\n",
    "$$s, E, b_1, b_2, b_3$$\n",
    "\n",
    "1. The first entry is a bit for the sign ($0 = +$ and $1 = -$).\n",
    "2. The second entry, $E$, is for the exponent, and we’ll assume in this example that the exponent can be 0, 1, or -1.\n",
    "3. The three bits on the right represent the significand of the number.\n",
    "\n",
    "Hence, every number in this number system takes the form:\n",
    "\n",
    "$$(-1)^s \\times (1 + 0.b_1 b_2 b_3) \\times 2^E$$\n",
    "\n",
    "### Questions\n",
    "1. What is the smallest positive number that can be represented in this form?\n",
    "2. What is the largest positive number that can be represented in this form?\n",
    "3. What is the machine precision in this number system?\n",
    "4. What would change if we allowed $E \\in \\{-2, -1, 0, 1, 2\\}$?"
   ]
  },
  {
   "cell_type": "markdown",
   "metadata": {},
   "source": [
    "REPLACE_ME"
   ]
  },
  {
   "cell_type": "markdown",
   "metadata": {},
   "source": [
    "<hr>\n",
    "\n",
    "## Exercise 1.19\n",
    "\n",
    "What are the largest and smallest numbers that can be stored in single and double precision?"
   ]
  },
  {
   "cell_type": "markdown",
   "metadata": {},
   "source": [
    "REPLACE_ME"
   ]
  },
  {
   "cell_type": "markdown",
   "metadata": {},
   "source": [
    "<hr>\n",
    "\n",
    "## Exercise 1.20\n",
    "\n",
    "What is the machine precision for the single- and double-precision standards?\n"
   ]
  },
  {
   "cell_type": "markdown",
   "metadata": {},
   "source": [
    "REPLACE_ME"
   ]
  },
  {
   "cell_type": "markdown",
   "metadata": {},
   "source": [
    "<hr>\n",
    "\n",
    "## Exercise 1.21\n",
    "\n",
    "Explain the behavior of the sequence from the first problem in these notes (Exercise 1.3 from Section 1.1) using what you know about how computers store numbers in double precision:\n",
    "\n",
    "$$x_{n+1} = \\begin{cases}\n",
    "2x_n, & \\text{if } x_n \\in [0, \\frac{1}{2}] \\\\\n",
    "2x_n - 1, & \\text{if } x_n \\in (\\frac{1}{2}, 1]\n",
    "\\end{cases}$$\n",
    "\n",
    "with $x_0 = \\frac{1}{10}$\n",
    "\n",
    "### Questions\n",
    "- How long do you expect it to take until the truncation error creeps into the computation?\n",
    "- How does the precision affect the results?\n"
   ]
  },
  {
   "cell_type": "markdown",
   "metadata": {},
   "source": [
    "REPLACE_ME"
   ]
  },
  {
   "cell_type": "markdown",
   "metadata": {},
   "source": [
    "<hr>\n",
    "\n",
    "## Key Takeaways\n",
    "\n",
    "Much more can be said about floating point numbers such as how we store infinity, how we store NaN, and how we store 0. The [Wikipedia page for floating point arithmetic](https://en.wikipedia.org/wiki/Floating-point_arithmetic) might be of interest for the curious reader. It is beyond the scope of this class and this book to go into all of those details here. Instead, the biggest takeaway points from this section and the previous are:\n",
    "\n",
    "1. All numbers in a computer are stored with finite precision.\n",
    "2. Nice numbers like 0.1 are sometimes not representable in binary.\n",
    "3. Machine precision is the gap between 1 and the next largest number that can be stored.\n",
    "4. Computers cannot distinguish two numbers if their difference is smaller than machine precision.\n",
    "5. Understanding precision is crucial for ensuring accurate numerical computations."
   ]
  },
  {
   "cell_type": "markdown",
   "metadata": {},
   "source": [
    "# Section 1.4 -Approximating Functions\n",
    "\n",
    "## Introduction\n",
    "Numerical analysis is all about doing mathematics on a computer in accurate and predictable ways. Since a computer can only ever store finite bits of information for any number, most of what we do in a computer is naturally an approximation of the real mathematics. In this section, we will look at a very powerful way to approximate mathematical functions.\n",
    "\n",
    "How does a computer understand a function like $f(x) = e^x$, $f(x) = \\sin(x)$, or $f(x) = \\ln(x)$? A computer is very good at arithmetic, but working with transcendental functions like these, or any sufficiently complicated functions, causes challenges in a computer. Approximation of the function is always happening under the hood.\n",
    "\n",
    "<hr>"
   ]
  },
  {
   "cell_type": "markdown",
   "metadata": {},
   "source": [
    "## Exercise 1.22\n",
    "In this problem, we’re going to make a wish list for everything a computer should do when approximating a function. \n",
    "\n",
    "If we are going to approximate $f(x)$ near the point $x = x_0$ with a simpler function $g(x)$, then:\n",
    "\n",
    "- The functions $f(x)$ and $g(x)$ should agree at $x = x_0$, i.e., $f(x_0) = g(x_0)$.\n",
    "- The function $g(x)$ should involve only addition, subtraction, multiplication, division, and integer exponents, as computers are efficient with these operations.\n",
    "\n",
    "Complete the following sentences:"
   ]
  },
  {
   "cell_type": "markdown",
   "metadata": {},
   "source": [
    "- If $f(x)$ is increasing/decreasing to the right of $x = x_0$, then $g(x)$ should...\n",
    "- If $f(x)$ is increasing/decreasing to the left of $x = x_0$, then $g(x)$ should...\n",
    "- If $f(x)$ is concave up/down to the right of $x = x_0$, then $g(x)$ should...\n",
    "- If $f(x)$ is concave up/down to the left of $x = x_0$, then $g(x)$ should...\n",
    "- If we zoom into plots of $f(x)$ and $g(x)$ near $x = x_0$, then...\n",
    "\n",
    "What else would you add to the wish list?\n"
   ]
  },
  {
   "cell_type": "markdown",
   "metadata": {},
   "source": [
    "REPLACE_ME"
   ]
  },
  {
   "cell_type": "markdown",
   "metadata": {},
   "source": [
    "<hr>\n",
    "\n",
    "## Exercise 1.23\n",
    "Discuss: Could a polynomial function with a high enough degree satisfy everything in the wish list from the previous problem? Explain your reasoning.\n"
   ]
  },
  {
   "cell_type": "markdown",
   "metadata": {},
   "source": [
    "REPLACE_ME"
   ]
  },
  {
   "cell_type": "markdown",
   "metadata": {},
   "source": [
    "<hr>\n",
    "\n",
    "## Exercise 1.24\n",
    "Let $f(x)$ be a differentiable function at $x = x_0$, and let $g(x) = A + B(x - x_0) + C(x - x_0)^2 + D(x - x_0)^3$.\n",
    "\n",
    "- (a) What is the value of $A$ such that $f(x_0) = g(x_0)$? (Hint: substitute $x = x_0$ into $g(x)$.)\n",
    "- (b) What is the value of $B$ such that $f'(x_0) = g'(x_0)$? (Hint: Start by differentiating $g(x)$.)\n",
    "- (c) What is the value of $C$ such that $f''(x_0) = g''(x_0)$?\n",
    "- (d) What is the value of $D$ such that $f'''(x_0) = g'''(x_0)$?"
   ]
  },
  {
   "cell_type": "markdown",
   "metadata": {},
   "source": [
    "REPLACE_ME"
   ]
  },
  {
   "cell_type": "markdown",
   "metadata": {},
   "source": [
    "<hr>\n",
    "\n",
    "### Exercise 1.25\n",
    "Put the answers from Exercise 1.24 into action and build a cubic polynomial that approximates $f(x) = e^x$ near $x_0 = 0$."
   ]
  },
  {
   "cell_type": "markdown",
   "metadata": {},
   "source": [
    "REPLACE_ME"
   ]
  },
  {
   "cell_type": "markdown",
   "metadata": {},
   "source": [
    "<hr>\n",
    "\n",
    "In the previous 4 exercises you have built up some basic intuition for what we would want out of a mathematical operation that might build an approximation of a complicated function. What we’ve built is actually a way to get better and better approximations for functions out to pretty much any arbitrary accuracy that we like so long as we are near some anchor point (which we called $x_0$ in the previous exercises).\n",
    "\n",
    "In the next several problems you’ll unpack the approximations of $f(x)=e^x$ a bit more carefully and we’ll wrap the whole discussion with a little bit of formal mathematical language. Then we’ll examine other functions like sine, cosine, logarithms, etc. One of the points of this whole discussion is to give you a little glimpse as to what is happening behind the scenes in scientific programming languages when you do computations with these functions. A bigger point is to start getting a feel for how we might go in reverse and approximate an unknown function out of much simpler parts. This last goal is one of the big takeaways from numerical analysis: *we can mathematically model highly complicated functions out of fairly simple pieces*."
   ]
  },
  {
   "cell_type": "markdown",
   "metadata": {},
   "source": [
    "## Exercise 1.26\n",
    "\n",
    "What is Euler’s number $e$? You likely remember using this number often in Calculus and Differential Equations. Do you know the decimal approximation for this number? Moreover, is there a way that we could approximate something like $\\sqrt{e} = e^{0.5}$ or $e^{-1}$ without actually having access to the full decimal expansion?\n",
    "\n",
    "For all of the questions below let’s work with the function $f(x) = e^x$.\n",
    "\n",
    "The function $g(x) = 1$ matches $f(x) = e^x$ exactly at the point $x = 0$ since $f(0) = e^0 = 1$. Furthermore, if $x$ is very close to $0$, then the functions $f(x)$ and $g(x)$ are really close to each other. Hence, we could say that $g(x) = 1$ is an approximation of the function $f(x) = e^x$ for values of $x$ very close to $x = 0$. Admittedly, though, it is probably clear that this is a horrible approximation for any $x$ just a little bit away from $x = 0$.  We call $g(x)$ the zero-order approximation to $f(x)$ near $x=0$.\n",
    "\n",
    "Let’s get a better approximation. What if we insist that our approximation $g(x)$ matches $f(x) = e^x$ exactly at $x = 0$ and ALSO has exactly the same first derivative as $f(x)$ at $x = 0$?\n",
    "\n",
    "What is the first derivative of $f(x)$? What is $f'(0)$? Use the point-slope form of a line to write the equation of the function $g(x)$ that goes through the point $(0, f(0))$ and has slope $f'(0)$. Recall from algebra that the point-slope form of a line is $y = f(x_0) + m(x - x_0)$. In this case, we are taking $x_0 = 0$, so we are using the formula $g(x) = f(0) + f'(0)(x - 0)$ to get the equation of the line.\n",
    "\n",
    "Find the linear or first-order approximation to $f(x)$ near $x=0$:\n"
   ]
  },
  {
   "cell_type": "markdown",
   "metadata": {},
   "source": [
    "REPLACE_ME"
   ]
  },
  {
   "cell_type": "markdown",
   "metadata": {},
   "source": [
    "Here is code to plot $e^x$, a horizontal line, and another line.  Modify the code to produce the plot of $e^x$ and the zero- and first-order approximations to $e^x$ near $x=0$.  Modify the title and labels appropriately."
   ]
  },
  {
   "cell_type": "code",
   "execution_count": 3,
   "metadata": {},
   "outputs": [
    {
     "data": {
      "image/png": "[encoded data removed]",
      "text/plain": [
       "<Figure size 1000x600 with 1 Axes>"
      ]
     },
     "metadata": {},
     "output_type": "display_data"
    }
   ],
   "source": [
    "import numpy as np\n",
    "\n",
    "import matplotlib.pyplot as plt\n",
    "\n",
    "# Define the range of x values\n",
    "x = np.linspace(-1.5, 1.5, 500)\n",
    "\n",
    "# Define the functions\n",
    "exp_x = np.exp(x)\n",
    "horizontal_line = 3*np.ones_like(x)\n",
    "another_line = 2*x-1\n",
    "\n",
    "# Plot the functions\n",
    "plt.figure(figsize=(10, 6))\n",
    "plt.plot(x, exp_x, label='$e^x$', color='black', linestyle='-', linewidth=2)\n",
    "plt.plot(x, horizontal_line, label='Horizontal Line', color='red', linestyle='--', linewidth=2)\n",
    "plt.plot(x, another_line, label='Another Line', color='blue', linestyle='-.', linewidth=2)\n",
    "\n",
    "# Add title and legend\n",
    "plt.title('Plot of $e^x$, a Horizontal Line, and Another Line', fontsize=16)\n",
    "plt.xlabel('$x$', fontsize=14)\n",
    "plt.ylabel('$y$', fontsize=14)\n",
    "plt.legend(fontsize=12)\n",
    "plt.grid(True)\n",
    "\n",
    "# Show the plot\n",
    "plt.show()"
   ]
  },
  {
   "cell_type": "markdown",
   "metadata": {},
   "source": [
    "<hr>\n",
    "\n",
    "## Exercise 1.27\n",
    "\n",
    "Let’s extend the idea from the previous problem to much better approximations of the function $f(x) = e^x$.\n",
    "\n",
    "Let’s build a function $g(x)$ that matches $f(x)$ exactly at $x = 0$, has exactly the same first derivative as $f(x)$ at $x = 0$, AND has exactly the same second derivative as $f(x)$ at $x = 0$. To do this we’ll use a quadratic function. For a quadratic approximation of a function we just take a slight extension to the point-slope form of a line and use the equation:\n",
    "\n",
    "$$y = f(x_0) + f'(x_0)(x - x_0) + \\frac{f''(x_0)}{2}(x - x_0)^2$$\n",
    "\n",
    "In this case, we are using $x_0 = 0$, so the quadratic approximation function looks like:\n",
    "\n",
    "$$y = f(0) + f'(0)x + \\frac{f''(0)}{2}x^2$$\n",
    "\n",
    "Find the quadratic approximation for $f(x) = e^x$.  \n",
    "How do you know that this function matches $f(x)$ in all of the ways described above at $x = 0$?  \n",
    "Add your new function to the plot in the code cell at the bottom of this exercise."
   ]
  },
  {
   "cell_type": "markdown",
   "metadata": {},
   "source": [
    "REPLACE_ME"
   ]
  },
  {
   "cell_type": "markdown",
   "metadata": {},
   "source": [
    "Let’s keep going!! Next we’ll do a cubic approximation. A cubic approximation takes the form:\n",
    "\n",
    "$$y = f(x_0) + f'(0)(x - x_0) + \\frac{f''(0)}{2}(x - x_0)^2 + \\frac{f'''(0)}{3!}(x - x_0)^3$$\n",
    "\n",
    "Find the cubic approximation for $f(x) = e^x$.  \n",
    "How do we know that this function matches the first, second, and third derivatives of $f(x)$ at $x = 0$?  \n",
    "Add your function to the plot.\n"
   ]
  },
  {
   "cell_type": "markdown",
   "metadata": {},
   "source": [
    "REPLACE_ME"
   ]
  },
  {
   "cell_type": "markdown",
   "metadata": {},
   "source": [
    "\n",
    "Pause and think: What’s the deal with the $3!$ on the cubic term?  \n",
    "\n",
    "Your turn: Build the next couple approximations of $f(x) = e^x$ at $x = 0$ up to order 5.\n",
    "\n",
    "Add these plots to the plot that we’ve been building all along.\n"
   ]
  },
  {
   "cell_type": "markdown",
   "metadata": {},
   "source": [
    "REPLACE_ME"
   ]
  },
  {
   "cell_type": "code",
   "execution_count": 4,
   "metadata": {},
   "outputs": [],
   "source": [
    "# Add your code to this cell for all approximations up to order 5"
   ]
  },
  {
   "cell_type": "markdown",
   "metadata": {},
   "source": [
    "<hr>\n",
    "\n",
    "## Exercise 1.28\n",
    "\n",
    "We can get a decimal expansion of $e$ pretty easily:\n",
    "\n",
    "$$e \\approx 2.718281828459045$$\n",
    "\n",
    "In Python, just type `np.exp(1)` which will evaluate $f(x) = e^x$ at $x = 1$ (and hence give you a value for $e^1 = e$). We built our approximations in the previous problems centered at $x = 0$, and $x = 1$ is not too terribly far from $x = 0$, so perhaps we can get a good approximation with the functions that we’ve already built. Complete the following table to see how we did with our approximations.\n",
    "\n",
    "| Approximation Function | Value at $x = 1$ | Absolute Error                     |\n",
    "|-------------------------|------------------|------------------------------------|\n",
    "| Constant                | 1               | $\\|2.71828... - 1\\| \\approx 1.71828...$ |\n",
    "| Linear                  | $1 + 1 = 2$     | $\\|2.71828... - 2\\| \\approx 0.71828...$ |\n",
    "| Quadratic               |                  |                                    |\n",
    "| Cubic                   |                  |                                    |\n",
    "| Quartic                 |                  |                                    |\n",
    "| Quintic                 |                  |                                    |\n"
   ]
  },
  {
   "cell_type": "markdown",
   "metadata": {},
   "source": [
    "<hr>\n",
    "\n",
    "### Exercise 1.29\n",
    "Using your polynomial approximations, approximate $\\sqrt{e} = e^{0.5}$. Verify the accuracy using Python’s `np.exp(0.5)`.  Starter code is below:\n"
   ]
  },
  {
   "cell_type": "code",
   "execution_count": 7,
   "metadata": {},
   "outputs": [
    {
     "name": "stdout",
     "output_type": "stream",
     "text": [
      "At x=0.5, the approximation is 1.875 and the exact value is 1.6487212707001282\n",
      "the absolute error is 0.2262787292998718\n"
     ]
    }
   ],
   "source": [
    "# you can calculate your approximation here, something like this:\n",
    "x = 0.5\n",
    "approximation = 1 + x + x**2 + x**3 # fix and add more terms\n",
    "exact_value = np.exp(x)\n",
    "print(f'At {x=}, the approximation is {approximation} and the exact value is {exact_value}')\n",
    "print(f'the absolute error is {np.abs(exact_value - approximation)}')"
   ]
  },
  {
   "cell_type": "markdown",
   "metadata": {},
   "source": [
    "<hr>\n",
    "\n",
    "### Exercise 1.30\n",
    "Approximate $1/e = e^{-1}$. Verify the accuracy using Python’s `np.exp(-1)`."
   ]
  },
  {
   "cell_type": "code",
   "execution_count": null,
   "metadata": {},
   "outputs": [],
   "source": [
    "# mimic the code above for the other values of x"
   ]
  },
  {
   "cell_type": "markdown",
   "metadata": {},
   "source": [
    "<hr>\n",
    "\n",
    "What we've been exploring so far in this seciton is the **Taylor Series** of a function.\n",
    "\n",
    "## Definition 1.3: Taylor Series\n",
    "\n",
    "If $f(x)$ is an infinitely differentiable function at the point $x_0$, then:\n",
    "\n",
    "$$\n",
    "f(x) = f(x_0) + f'(x_0)(x - x_0) + \\frac{f''(x_0)}{2!}(x - x_0)^2 + \\cdots + \\frac{f^{(n)}(x_0)}{n!}(x - x_0)^n + \\cdots\n",
    "$$\n",
    "\n",
    "for any reasonably small interval around $x_0$. The infinite polynomial expansion is called the **Taylor Series** of the function $f(x)$. Taylor Series are named for the mathematician Brook Taylor.\n",
    "\n",
    "The Taylor Series of a function is often written with summation notation as:\n",
    "\n",
    "$$\n",
    "f(x) = \\sum_{k=0}^{\\infty} \\frac{f^{(k)}(x_0)}{k!} (x - x_0)^k.\n",
    "$$\n",
    "\n",
    "Don’t let the notation scare you. In a Taylor Series, you are just saying: give me a function that:\n",
    "\n",
    "1. Matches $f(x)$ at $x = x_0$ exactly,\n",
    "2. Matches $f'(x)$ at $x = x_0$ exactly,\n",
    "3. Matches $f''(x)$ at $x = x_0$ exactly,\n",
    "4. Matches $f'''(x)$ at $x = x_0$ exactly,\n",
    "5. Etc.\n",
    "\n",
    "Moreover, Taylor Series are built out of the easiest types of functions: polynomials. Computers are rather good at doing computations with addition, subtraction, multiplication, division, and integer exponents, so Taylor Series are a natural way to express functions in a computer. The downside is that we can only get true equality in the Taylor Series if we have infinitely many terms in the series. A computer cannot do infinitely many computations. So, in practice, we truncate Taylor Series after many terms and think of the new polynomial function as being close enough to the actual function so far as we don’t stray too far from the anchor $x_0$.\n",
    "\n",
    "<hr>\n",
    "\n",
    "## Definition 1.4: Maclaurin Series\n",
    "\n",
    "A Taylor Series that is centered at $x_0 = 0$ is called a **Maclaurin Series** after the mathematician Colin Maclaurin. This is just a special case of a Taylor Series, so throughout this book, we will refer to both Taylor Series and Maclaurin Series simply as Taylor Series.\n",
    "\n"
   ]
  },
  {
   "cell_type": "markdown",
   "metadata": {},
   "source": [
    "\n",
    "<hr>\n",
    "\n",
    "## Exercise 1.31\n",
    "\n",
    "Verify from your previous work that the Taylor Series centered at $x_0 = 0$ (i.e., the Maclaurin Series) for $f(x) = e^x$ is indeed:\n",
    "\n",
    "$$\n",
    "e^x = 1 + x + \\frac{x^2}{2!} + \\frac{x^3}{3!} + \\frac{x^4}{4!} + \\frac{x^5}{5!} + \\cdots\n",
    "$$"
   ]
  },
  {
   "cell_type": "markdown",
   "metadata": {},
   "source": [
    "REPLACE_ME"
   ]
  },
  {
   "cell_type": "markdown",
   "metadata": {},
   "source": [
    "\n",
    "<hr>\n",
    "\n",
    "## Exercise 1.32\n",
    "\n",
    "Do all of the calculations to show that the Taylor Series centered at $x_0 = 0$ for the function $f(x) = \\sin(x)$ is indeed:\n",
    "\n",
    "$$\n",
    "\\sin(x) = x - \\frac{x^3}{3!} + \\frac{x^5}{5!} - \\frac{x^7}{7!} + \\cdots\n",
    "$$\n"
   ]
  },
  {
   "cell_type": "markdown",
   "metadata": {},
   "source": [
    "REPLACE_ME"
   ]
  },
  {
   "cell_type": "markdown",
   "metadata": {},
   "source": [
    "<hr>\n",
    "\n",
    "## Exercise 1.33\n",
    "\n",
    "Do all of the calculations to show that the Taylor Series centered at $x_0 = 0$ for the function $f(x) = \\cos(x)$ is indeed:\n",
    "\n",
    "$$\n",
    "\\cos(x) = 1 - \\frac{x^2}{2!} + \\frac{x^4}{4!} - \\frac{x^6}{6!} + \\cdots\n",
    "$$\n"
   ]
  },
  {
   "cell_type": "markdown",
   "metadata": {},
   "source": [
    "REPLACE_ME"
   ]
  },
  {
   "cell_type": "markdown",
   "metadata": {},
   "source": [
    "\n",
    "<hr>\n",
    "\n",
    "## Exercise 1.33\n",
    "\n",
    "Do all of the calculations to show that the Taylor Series centered at $x_0 = 0$ for the function $f(x) = \\cos(x)$ is indeed:\n",
    "\n",
    "$$\n",
    "\\cos(x) = 1 - \\frac{x^2}{2!} + \\frac{x^4}{4!} - \\frac{x^6}{6!} + \\cdots\n",
    "$$"
   ]
  },
  {
   "cell_type": "markdown",
   "metadata": {},
   "source": [
    "REPLACE_ME"
   ]
  },
  {
   "cell_type": "markdown",
   "metadata": {},
   "source": [
    "\n",
    "\n",
    "\n",
    "## Exercise 1.34\n",
    "\n",
    "Let’s compute a few Taylor Series that are not centered at $x_0 = 0$ (that is, Taylor Series that are not Maclaurin Series). For example, let’s approximate the function $f(x) = \\sin(x)$ near $x_0 = \\frac{\\pi}{2}$. Near the point $x_0 = \\frac{\\pi}{2}$, the Taylor Series approximation will take the form:\n",
    "\n",
    "$$\n",
    "f(x) = f\\left(\\frac{\\pi}{2}\\right) + f'\\left(\\frac{\\pi}{2}\\right)\\left(x - \\frac{\\pi}{2}\\right) + \\frac{f''\\left(\\frac{\\pi}{2}\\right)}{2!}\\left(x - \\frac{\\pi}{2}\\right)^2 + \\frac{f'''\\left(\\frac{\\pi}{2}\\right)}{3!}\\left(x - \\frac{\\pi}{2}\\right)^3 + \\cdots\n",
    "$$\n",
    "\n",
    "### Tasks\n",
    "1. Write the first several terms of the Taylor Series for $f(x) = \\sin(x)$ centered at $x_0 = \\frac{\\pi}{2}$.\n",
    "2. Write Python code to build a plot showing successive approximations for $f(x) = \\sin(x)$ centered at $x_0 = \\frac{\\pi}{2}$. (We'll show you how in the code cell below, then modify the code for the next exercise)"
   ]
  },
  {
   "cell_type": "markdown",
   "metadata": {},
   "source": [
    "#### Solution to Task 1\n",
    "\n",
    "REPLACE_ME"
   ]
  },
  {
   "cell_type": "code",
   "execution_count": null,
   "metadata": {},
   "outputs": [
    {
     "data": {
      "image/png": "[encoded data removed]",
      "text/plain": [
       "<Figure size 1000x600 with 1 Axes>"
      ]
     },
     "metadata": {},
     "output_type": "display_data"
    }
   ],
   "source": [
    "#### Solution to Task 2\n",
    "\n",
    "import numpy as np\n",
    "import matplotlib.pyplot as plt\n",
    "from math import factorial\n",
    "\n",
    "# Define the sine function\n",
    "def sine_function(x):\n",
    "    return np.sin(x)\n",
    "\n",
    "# Define Taylor Series approximations around x0 = pi/2\n",
    "def taylor_sine_approximation_near_pi_over_2(x, degree):\n",
    "    x0 = np.pi / 2  # Center point of the Taylor Series\n",
    "    num_terms = degree // 2  # Number of terms to use in the approximation\n",
    "    approximation = 0\n",
    "    for n in range(num_terms + 1):\n",
    "        coefficient = (-1)**n / factorial(2 * n)\n",
    "        term = coefficient * (x - x0)**(2 * n)\n",
    "        approximation += term\n",
    "    return approximation\n",
    "\n",
    "# Generate x values\n",
    "x = np.linspace(0, 2 * np.pi, 500)\n",
    "\n",
    "# Compute the true sine function values\n",
    "true_sine = sine_function(x)\n",
    "\n",
    "# Plot the true sine function\n",
    "plt.figure(figsize=(10, 6))\n",
    "plt.plot(x, true_sine, label=\"True $\\\\sin(x)$\", color=\"black\", linewidth=2)\n",
    "\n",
    "# Plot Taylor Series approximations for various orders\n",
    "degrees = [0, 2, 4, 6]  # Orders of approximation\n",
    "colors = [\"red\", \"blue\", \"green\", \"orange\"]\n",
    "\n",
    "for degree, color in zip(degrees, colors):\n",
    "    approximation = taylor_sine_approximation_near_pi_over_2(x, degree)\n",
    "    plt.plot(x, approximation, label=f\"Degree {degree} Approximation\", linestyle=\"--\", color=color)\n",
    "\n",
    "# Customize the plot\n",
    "plt.title(\"Taylor Series Approximations of $\\\\sin(x)$ Near $x = \\\\frac{\\\\pi}{2}$\", fontsize=16)\n",
    "plt.xlabel(\"$x$\", fontsize=14)\n",
    "plt.ylabel(\"$y$\", fontsize=14)\n",
    "plt.legend(fontsize=12, loc=\"lower left\")\n",
    "plt.grid(alpha=0.3)\n",
    "plt.xlim(0, 2 * np.pi)\n",
    "plt.ylim(-1, 1.5)\n",
    "plt.xticks(ticks=np.arange(0, 2 * np.pi + np.pi / 2, np.pi / 2), \n",
    "           labels=['0', '$\\\\frac{\\\\pi}{2}$', '$\\\\pi$', '$\\\\frac{3\\\\pi}{2}$', '$2\\\\pi$'])\n",
    "\n",
    "# Show the plot\n",
    "plt.show()\n"
   ]
  },
  {
   "cell_type": "markdown",
   "metadata": {},
   "source": [
    "<hr>\n",
    "\n",
    "## Exercise 1.35\n",
    "\n",
    "Repeat the previous exercise for the following functions:\n",
    "\n",
    "1. $f(x) = \\cos(x)$ centered at $x_0 = \\pi$\n",
    "2. $f(x) = \\ln(x)$ centered at $x_0 = 1$\n",
    "\n",
    "Also make plots similar the one above showing Taylor approximations of several orders.\n"
   ]
  },
  {
   "cell_type": "markdown",
   "metadata": {},
   "source": [
    "#### Solutions\n",
    "\n",
    "REPLACE_ME"
   ]
  },
  {
   "cell_type": "code",
   "execution_count": null,
   "metadata": {},
   "outputs": [],
   "source": [
    "# code for cosine approximations"
   ]
  },
  {
   "cell_type": "code",
   "execution_count": null,
   "metadata": {},
   "outputs": [],
   "source": [
    "# code for ln approximations"
   ]
  },
  {
   "cell_type": "markdown",
   "metadata": {},
   "source": [
    "<hr>\n",
    "\n",
    "## Exercise 1.36\n",
    "\n",
    "Approximate $\\cos(3)$ using a Taylor Series.\n",
    "\n"
   ]
  },
  {
   "cell_type": "markdown",
   "metadata": {},
   "source": [
    "REPLACE_ME"
   ]
  },
  {
   "cell_type": "markdown",
   "metadata": {},
   "source": [
    "<hr>\n",
    "\n",
    "## Exercise 1.37\n",
    "\n",
    "Approximate $\\ln(1.1)$ using a Taylor Series.\n",
    "\n"
   ]
  },
  {
   "cell_type": "markdown",
   "metadata": {},
   "source": [
    "REPLACE_ME"
   ]
  },
  {
   "cell_type": "markdown",
   "metadata": {},
   "source": [
    "<hr>\n",
    "\n",
    "### Example 1.4\n",
    "\n",
    "Let’s conclude this brief section by examining an interesting example. Consider the function:\n",
    "\n",
    "$$\n",
    "f(x) = \\frac{1}{1-x}.\n",
    "$$\n",
    "\n",
    "If we build a Taylor series centered at $ x_0 = 0 $ (i.e., the Maclaurin series), it isn’t too hard to show that we get:\n",
    "\n",
    "$$\n",
    "f(x) = 1 + x + x^2 + x^3 + x^4 + x^5 + \\cdots\n",
    "$$\n",
    "\n",
    "*(You should stop now and verify this!)*\n",
    "\n",
    "However, if we plot the function $ f(x) $ along with several successive approximations for $ f(x) $, we find that beyond $ x = 1 $, we don’t get the correct behavior of the function (see Figure 1.3). More specifically, we cannot get the Taylor series to change behavior across the vertical asymptote of the function at $ x = 1 $. \n",
    "\n",
    "This example is meant to point out the fact that a Taylor series will only ever make sense near the point at which you center the expansion. For the function $ f(x) = \\frac{1}{1-x} $ centered at $ x_0 = 0 $, we can only get good approximations within the interval $ x \\in (-1, 1) $ and no further.\n",
    "\n",
    "Several Taylor series approximations of the function $ f(x) = \\frac{1}{1-x} $.\n",
    "\n"
   ]
  },
  {
   "cell_type": "code",
   "execution_count": null,
   "metadata": {},
   "outputs": [
    {
     "data": {
      "image/png": "[encoded data removed]",
      "text/plain": [
       "<Figure size 1000x600 with 1 Axes>"
      ]
     },
     "metadata": {},
     "output_type": "display_data"
    }
   ],
   "source": [
    "import numpy as np\n",
    "import matplotlib.pyplot as plt\n",
    "\n",
    "def taylor_approximation(x, order):\n",
    "    \"\"\"Compute the Taylor series approximation to 1/(1-x) up to the given order.\"\"\"\n",
    "    approximation = np.zeros_like(x)\n",
    "    for n in range(order + 1):\n",
    "        approximation += x**n\n",
    "    return approximation\n",
    "\n",
    "# Define the range of x values\n",
    "x = np.linspace(-1, 1.5, 500)\n",
    "xleft = np.linspace(-1, 0.999, 300)\n",
    "\n",
    "# Compute the Taylor approximations\n",
    "constant_approx = taylor_approximation(x, 0)\n",
    "linear_approx = taylor_approximation(x, 1)\n",
    "quadratic_approx = taylor_approximation(x, 2)\n",
    "tenth_order_approx = taylor_approximation(x, 10)\n",
    "\n",
    "# Compute the actual function\n",
    "actual_function = 1 / (1 - xleft)\n",
    "\n",
    "# Plot the results\n",
    "plt.figure(figsize=(10, 6))\n",
    "\n",
    "plt.plot(xleft, actual_function, label=\"$f(x) = 1/(1-x)$\", color=\"black\", linewidth=2)\n",
    "plt.plot(x, constant_approx, label=\"Constant Approximation\", linestyle=\"--\")\n",
    "plt.plot(x, linear_approx, label=\"Linear Approximation\", linestyle=\"--\")\n",
    "plt.plot(x, quadratic_approx, label=\"Quadratic Approximation\", linestyle=\"--\")\n",
    "plt.plot(x, tenth_order_approx, label=\"10th Order Approximation\", linestyle=\"--\")\n",
    "\n",
    "# Set axis limits\n",
    "plt.xlim(-1, 1.5)\n",
    "plt.ylim(-1, 2.5)\n",
    "\n",
    "# Add labels, title, and legend\n",
    "plt.xlabel(\"x\", fontsize=12)\n",
    "plt.ylabel(\"f(x)\", fontsize=12)\n",
    "plt.title(\"Taylor Series Approximations to $f(x) = 1/(1-x)$\", fontsize=14)\n",
    "plt.axvline(x=1, color=\"red\", linestyle=\":\", label=\"Vertical Asymptote at x=1\")\n",
    "plt.legend(fontsize=10)\n",
    "plt.grid(True)\n",
    "\n",
    "# Show the plot\n",
    "plt.show()"
   ]
  },
  {
   "cell_type": "markdown",
   "metadata": {},
   "source": [
    "\n",
    "---\n",
    "\n",
    "### Domain of Convergence\n",
    "\n",
    "In the previous example, we saw that we cannot always get approximations from Taylor series that are good everywhere. For every Taylor series, there is a domain of convergence where the Taylor series actually makes sense and gives good approximations. While it is beyond the scope of this section to give all of the details for finding the domain of convergence for a Taylor series, a good heuristic is to observe that a Taylor series will only give reasonable approximations of a function from the center of the series to the nearest asymptote. The domain of convergence is typically symmetric about the center as well. \n",
    "\n",
    "For example:\n",
    "\n",
    "1. **Logarithmic Function**\n",
    "\n",
    "   If we were to build a Taylor series approximation for the function:\n",
    "\n",
    "   $$\n",
    "   f(x) = \\ln(x)\n",
    "   $$\n",
    "\n",
    "   centered at the point $ x_0 = 1 $, then the domain of convergence should be $ x \\in (0, 2) $ since there is a vertical asymptote for the natural logarithm function at $ x = 0 $.\n",
    "\n",
    "2. **Rational Function**\n",
    "\n",
    "   If we were to build a Taylor series approximation for the function:\n",
    "\n",
    "   $$\n",
    "   f(x) = \\frac{5}{2x - 3}\n",
    "   $$\n",
    "\n",
    "   centered at the point $ x_0 = 4 $, then the domain of convergence should be $ x \\in (1.5, 6.5) $ since there is a vertical asymptote at $ x = 1.5 $, and the distance from $ x_0 = 4 $ to $ x = 1.5 $ is 2.5 units.\n",
    "\n",
    "3. **Quadratic Denominator Function**\n",
    "\n",
    "   If we were to build a Taylor series approximation for the function:\n",
    "\n",
    "   $$\n",
    "   f(x) = \\frac{1}{1 + x^2}\n",
    "   $$\n",
    "\n",
    "   centered at the point $ x_0 = 0 $, then the domain of convergence should be $ x \\in (-1, 1) $. \n",
    "\n",
    "   This may seem quite odd (and perhaps quite surprising!), but let’s think about where the nearest asymptote might be. To find the asymptote, we need to solve:\n",
    "\n",
    "   $$\n",
    "   1 + x^2 = 0,\n",
    "   $$\n",
    "\n",
    "   which gives the values $ x = \\pm i $. In the complex plane, the numbers $ i $ and $ -i $ are 1 unit away from $ x_0 = 0 $. Thus, the “asymptote” isn’t visible in a real-valued plot, but it is still only one unit away. Hence, the domain of convergence is $ x \\in (-1, 1) $. \n",
    "\n",
    "   *You should pause now and build some plots to show yourself that this indeed appears to be true.*\n",
    "\n",
    "\n",
    "A Taylor series will give good approximations to the function within the domain of convergence, but will give garbage outside of it. For more details about the domain of convergence of a Taylor series, you can refer to the **Taylor Series** section of the online [Active Calculus textbook](https://activecalculus.org/single/book-1.html).\n"
   ]
  },
  {
   "cell_type": "markdown",
   "metadata": {},
   "source": [
    "# Section 1.5 Approximation Error with Taylor Series\n",
    "\n",
    "The great thing about Taylor Series is that they allow for the representation of potentially very complicated functions as polynomials – and polynomials are easily dealt with on a computer since they involve only addition, subtraction, multiplication, division, and integer powers. The downside is that the order of the polynomial is infinite. Hence, every time we use a Taylor Series on a computer, we are actually using a **Truncated Taylor Series** where we only take a finite number of terms. The idea here is simple in principle:\n",
    "\n",
    "1. If a function $ f(x) $ has a Taylor Series representation, it can be written as an infinite sum.\n",
    "2. Computers can’t do infinite sums.\n",
    "3. So stop the sum at some point $ n $ and throw away the rest of the infinite sum.\n",
    "4. Now $ f(x) $ is approximated by some finite sum so long as you stay pretty close to $ x = x_0 $, and everything that we just chopped off is called the **remainder** for the finite sum.\n",
    "\n",
    "Let’s be a bit more concrete about it. The Taylor Series for $ f(x) = e^x $ centered at $ x_0 = 0 $ is:\n",
    "\n",
    "$$\n",
    "e^x = 1 + x + \\frac{x^2}{2!} + \\frac{x^3}{3!} + \\frac{x^4}{4!} + \\cdots\n",
    "$$\n",
    "\n",
    "---\n",
    "\n",
    "### 0th Order Approximation of $ f(x) = e^x $\n",
    "\n",
    "If we want to use a zeroth-order (constant) approximation of $ f(x) = e^x $, then we only take the first term in the Taylor Series and discard the rest:\n",
    "\n",
    "$$\n",
    "e^x = 1 \\underbrace{+ x + \\frac{x^2}{2!} + \\frac{x^3}{3!} + \\frac{x^4}{4!} + \\cdots}_{\\text{remainder}}\n",
    "$$\n",
    "\n",
    "Therefore, we would approximate $ e^x $ as $ e^x \\approx 1 $ for values of $ x $ that are close to $ x_0 = 0 $. For small values of $ x $ (e.g., $ x = 0.01 $), the largest term in the remainder is $ x $, since $ x^2 $ will be even smaller, $ x^3 $ even smaller than that, and so on. Using Big-O notation, we can write:\n",
    "\n",
    "$$\n",
    "\\text{0th Order Approximation: } e^x \\approx 1 + O(x)\n",
    "$$\n",
    "\n",
    "Here, $ O(x) $ (read “Big-O of $ x $”) tells us that the expected error for approximations close to $ x_0 = 0 $ is about the same size as $ x $.\n",
    "\n",
    "---\n",
    "\n",
    "### 1st Order Approximation of $ f(x) = e^x $\n",
    "\n",
    "If we want to use a first-order (linear) approximation of $ f(x) = e^x $, then we gather the $ 0 $-order and $ 1 $-order terms together as our approximation:\n",
    "\n",
    "$$\n",
    "e^x = 1 + x \\underbrace{+ \\frac{x^2}{2!} + \\frac{x^3}{3!} + \\frac{x^4}{4!} + \\cdots}_{\\text{remainder}}\n",
    "$$\n",
    "\n",
    "Thus, we approximate $ e^x $ as $ e^x \\approx 1 + x $ for values of $ x $ that are close to $ x_0 = 0 $. For values of $ x $ very close to $ x_0 = 0 $, the largest term in the remainder is $ \\frac{x^2}{2!} $. Using Big-O notation:\n",
    "\n",
    "$$\n",
    "\\text{1st Order Approximation: } e^x \\approx 1 + x + O(x^2)\n",
    "$$\n",
    "\n",
    "This indicates that using the linear function $ y = 1 + x $ to approximate $ e^x $ near $ x_0 = 0 $ will result in errors proportional to $ x^2 $.\n",
    "\n",
    "---\n",
    "\n",
    "### 2nd Order Approximation of $ f(x) = e^x $\n",
    "\n",
    "If we want to use a second-order (quadratic) approximation of $ f(x) = e^x $, then we gather the $ 0 $-order, $ 1 $-order, and $ 2 $-order terms together:\n",
    "\n",
    "$$\n",
    "e^x = 1 + x + \\frac{x^2}{2!} \\underbrace{+ \\frac{x^3}{3!} + \\frac{x^4}{4!} + \\cdots}_{\\text{remainder}}\n",
    "$$\n",
    "\n",
    "Therefore, we approximate $ e^x $ as $ e^x \\approx 1 + x + \\frac{x^2}{2} $ for values of $ x $ close to $ x_0 = 0 $. For values of $ x $ very close to $ x_0 = 0 $, the largest term in the remainder is $ \\frac{x^3}{3!} $. Using Big-O notation:\n",
    "\n",
    "$$\n",
    "\\text{2nd Order Approximation: } e^x \\approx 1 + x + \\frac{x^2}{2} + O(x^3)\n",
    "$$\n",
    "\n",
    "This indicates that using the quadratic function $ y = 1 + x + \\frac{x^2}{2} $ to approximate $ e^x $ near $ x_0 = 0 $ will result in errors proportional to $ x^3 $.\n",
    "\n",
    "---\n",
    "\n",
    "## General Approximation for $ f(x) = e^x $\n",
    "\n",
    "For the function $ f(x) = e^x $, the idea of approximating the error by truncating the Taylor Series is straightforward. If we want an $ n $-th order polynomial approximation of $ e^x $ near $ x_0 = 0 $, we have:\n",
    "\n",
    "$$\n",
    "e^x = 1 + x + \\frac{x^2}{2!} + \\frac{x^3}{3!} + \\frac{x^4}{4!} + \\cdots + \\frac{x^n}{n!} + O(x^{n+1})\n",
    "$$\n",
    "\n",
    "This means that we expect the error to be proportional to $ x^{n+1} $.\n",
    "\n",
    "---\n",
    "\n",
    "### Important Notes\n",
    "\n",
    "- This analysis only works for values of $ x $ that are very close to the center of the Taylor Series.\n",
    "- If approximations are made too far away from $ x_0 $, the approximation may no longer hold, and the error can grow significantly.\n"
   ]
  },
  {
   "cell_type": "markdown",
   "metadata": {},
   "source": [
    "<hr>\n",
    "\n",
    "## Exercise 1.38\n",
    "\n",
    "Let’s make the previous discussion a bit more concrete. We know the Taylor Series for  \n",
    "$ f(x) = e^x $ quite well at this point, so let’s use it to approximate the value of  \n",
    "$ f(0.1) = e^{0.1} $ with different order polynomials. Notice that $ x = 0.1 $ is pretty close to the center of the Taylor Series $ x_0 = 0 $, so this sort of approximation is reasonable.\n",
    "\n",
    "Using `np.exp(0.1)`, we have Python’s approximation:  \n",
    "$$\n",
    "e^{0.1} \\approx \\text{np.exp(0.1)} = 1.1051709181\n",
    "$$\n",
    "\n",
    "Fill in the blanks in the table below:"
   ]
  },
  {
   "cell_type": "markdown",
   "metadata": {},
   "source": [
    "| Taylor Series | Approximation | Absolute Error                  | Expected Error         |\n",
    "|---------------|---------------|---------------------------------|------------------------|\n",
    "| $ 0^{\\text{th}} $ Order | $ 1 $         | $ \\lvert e^{0.1} - 1\\rvert = 0.1051709181 $ | $ O(x) = 0.1 $       |\n",
    "| $ 1^{\\text{st}} $ Order | $ 1.1 $       | $ \\lvert e^{0.1} - 1.1\\rvert = 0.0051709181 $ | $ O(x^2) = 0.1^2 = 0.01 $ |\n",
    "| $ 2^{\\text{nd}} $ Order | $ 1.105 $     |                                 |                        |\n",
    "| $ 3^{\\text{rd}} $ Order |                 |                                 |                        |\n",
    "| $ 4^{\\text{th}} $ Order |                 |                                 |                        |\n",
    "| $ 5^{\\text{th}} $ Order |                 |                                 |                        |"
   ]
  },
  {
   "cell_type": "markdown",
   "metadata": {},
   "source": [
    "Observe in the previous exercise that the actual absolute error is usually less than the expected error. Using the first term in the remainder to estimate the approximation error of truncating a Taylor Series is crude but very easy to implement."
   ]
  },
  {
   "cell_type": "markdown",
   "metadata": {},
   "source": [
    "---\n",
    "\n",
    "## Theorem 1.1\n",
    "\n",
    "The approximation error when using a truncated Taylor Series is roughly proportional to the size of the next term in the Taylor Series.\n",
    "\n",
    "---\n"
   ]
  },
  {
   "cell_type": "markdown",
   "metadata": {},
   "source": [
    "## Taylor’s Theorem (Precise error estimate)\n",
    "\n",
    "If the function $f$ possesses continuous derivatives of orders $0, 1, 2, \\dots, (n+1)$ in a closed interval $I = [a, b]$, then for any $x_0$ and $x$ in $I$,\n",
    "\n",
    "$$\n",
    "f(x) = \\sum_{k=0}^{n} \\frac{f^{(k)}(c)}{k!} (x - x_0)^k + R_{n+1}(x)\n",
    "$$\n",
    "\n",
    "where the remainder (or error) term $R_{n+1}$ can be given in the form\n",
    "\n",
    "$$\n",
    "R_{n+1}(x) = \\frac{f^{(n+1)}(\\xi)}{(n+1)!} (x - x_0)^{n+1}\n",
    "$$\n",
    "\n",
    "Here $\\xi$ is a point that lies between $x_0$ and $x$ and depends on both.\n",
    "\n",
    "---\n"
   ]
  },
  {
   "cell_type": "markdown",
   "metadata": {},
   "source": [
    "\n",
    "## Exercise 1.39\n",
    "\n",
    "Next, we will examine the approximation error for the sine function near $ x_0 = 0 $. We know that the sine function has the Taylor Series centered at $ x_0 = 0 $ as:\n",
    "\n",
    "$$\n",
    "\\sin(x) = x - \\frac{x^3}{3!} + \\frac{x^5}{5!} - \\frac{x^7}{7!} + \\cdots\n",
    "$$\n",
    "\n",
    "### Linear Approximation\n",
    "\n",
    "A linear approximation of $ \\sin(x) $ near $ x_0 = 0 $ is:\n",
    "\n",
    "$$\n",
    "\\sin(x) = x + O(x^3)\n",
    "$$\n",
    "\n",
    "Use the linear approximation formula to approximate $ \\sin(0.2) $.  \n",
    "What does $ O(x^3) $ mean about the approximation of $ \\sin(0.2) $?  \n",
    "(Take note that we ignore the minus sign on the approximation error since we are only interested in absolute error — we don’t care if we overshoot or undershoot.)\n"
   ]
  },
  {
   "cell_type": "markdown",
   "metadata": {},
   "source": [
    "REPLACE_ME"
   ]
  },
  {
   "cell_type": "markdown",
   "metadata": {},
   "source": [
    "\n",
    "### Notice\n",
    "\n",
    "There are no quadratic terms in the Taylor Series, so there is no quadratic approximation for $ \\sin(x) $ near $ x_0 = 0 $.\n",
    "\n",
    "### Cubic Approximation\n",
    "\n",
    "A cubic approximation of $ \\sin(x) $ near $ x_0 = 0 $ is:\n"
   ]
  },
  {
   "cell_type": "markdown",
   "metadata": {},
   "source": [
    "$$\\sin(x) = ?? - ?? + O(??)$$"
   ]
  },
  {
   "cell_type": "markdown",
   "metadata": {},
   "source": []
  },
  {
   "cell_type": "markdown",
   "metadata": {},
   "source": [
    "\n",
    "1. Fill in the question marks in the cubic approximation formula.\n",
    "2. Use the cubic approximation formula to approximate $ \\sin(0.2) $.\n",
    "3. What is the approximation error for your approximation?"
   ]
  },
  {
   "cell_type": "markdown",
   "metadata": {},
   "source": [
    "\n",
    "ANSWER 2 and 3 HERE\n"
   ]
  },
  {
   "cell_type": "markdown",
   "metadata": {},
   "source": [
    "\n",
    "### Higher-Order Approximation\n",
    "\n",
    "What is the next approximation formula for $ \\sin(x) $ near $ x_0 = 0 $?  \n",
    "Use it to approximate $ \\sin(0.2) $, and give the expected approximation error.\n",
    "\n",
    "---\n",
    "\n",
    "Now let’s check all of our answers against what Python says we should get for $ \\sin(0.2) $. If you use `np.sin(0.2)`, you should get:\n",
    "\n",
    "$$\n",
    "\\sin(0.2) \\approx \\text{np.sin(0.2)} = 0.1986693308\n",
    "$$\n",
    "\n",
    "\n",
    "Fill in the blanks in the table below and then discuss the quality of our error approximations:\n",
    "\n"
   ]
  },
  {
   "cell_type": "markdown",
   "metadata": {},
   "source": [
    "\n",
    "\n",
    "| Taylor Series | Estimated Error            | Actual Absolute Error          |\n",
    "|---------------|----------------------------|---------------------------------|\n",
    "| $ 1^{\\text{st}} $ Order | $ O(x^3) = 0.2^3 = 0.008 $ | $ 0.001330669205 $         |\n",
    "| $ 3^{\\text{rd}} $ Order |                            |                                 |\n",
    "| $ 5^{\\text{th}} $ Order |                            |                                 |\n",
    "| $ 7^{\\text{th}} $ Order |                            |                                 |\n",
    "| $ 9^{\\text{th}} $ Order |                            |                                 |\n",
    "\n"
   ]
  },
  {
   "cell_type": "markdown",
   "metadata": {},
   "source": [
    "### Discussion\n",
    "\n",
    "What observations do you make about the estimate of the approximation error and the actual approximation error? "
   ]
  },
  {
   "cell_type": "markdown",
   "metadata": {},
   "source": [
    "\n",
    "REPLACE_ME\n",
    "\n"
   ]
  },
  {
   "cell_type": "markdown",
   "metadata": {},
   "source": [
    "\n",
    "---"
   ]
  },
  {
   "cell_type": "markdown",
   "metadata": {},
   "source": [
    "## Exercise 1.40\n",
    "\n",
    "What if we want an approximation of $ \\ln(1.1) $ and we want that approximation to be accurate within 5 decimal places? The number $ 1.1 $ is very close to $ 1 $, and we know that:\n",
    "\n",
    "$$\n",
    "\\ln(1) = 0\n",
    "$$\n",
    "\n",
    "Hence, it seems like a good idea to build a Taylor Series approximation for $ \\ln(x) $ centered at $ x_0 = 1 $ to solve this problem.\n",
    "\n",
    "(a) Complete the table of derivatives below to get the Taylor coefficients for the Taylor Series of $ \\ln(x) $ centered at $ x_0 = 1 $ \n",
    "\n"
   ]
  },
  {
   "cell_type": "markdown",
   "metadata": {},
   "source": [
    "\n",
    "\n",
    "| Order of Derivative | Derivative               | Value at $ x_0 = 1 $ | Taylor Coefficient         |\n",
    "|----------------------|--------------------------|-------------------------|----------------------------|\n",
    "| 0                    | $ \\ln(x) $            | $ 0 $                | $ 0 $                   |\n",
    "| 1                    | $ \\frac{1}{x} = x - 1 $ | $ 1 $                | $ 1 $                   |\n",
    "| 2                    | $ -\\frac{1}{x^2} $    | $ -1 $               | $ -\\frac{1}{2!} = -\\frac{1}{2} $ |\n",
    "| 3                    | $ \\frac{2}{x^3} $     | $ 2 $                | $ \\frac{2}{3!} = \\frac{1}{3} $ |\n",
    "| 4                    | $ -\\frac{6}{x^4} $    | $ -6 $               |                                |\n",
    "| 5                    |                       |                      |                                 |\n",
    "| 6                    |                       |                      |                                 |\n",
    "| ⋮                    | ⋮                        | ⋮                       | ⋮                          |\n",
    "\n"
   ]
  },
  {
   "cell_type": "markdown",
   "metadata": {},
   "source": [
    "\n",
    "(b) Complete the Taylor Series for $ \\ln(x) $ centered at $ x_0 = 1 $.\n"
   ]
  },
  {
   "cell_type": "markdown",
   "metadata": {},
   "source": [
    "\n",
    "\n",
    "$$\n",
    "\\ln(x) = 0 + 1(x - 1) - \\frac{1}{2}(x - 1)^2 + \\frac{1}{3}(x - 1)^3 - \\frac{??}{??}(x - 1)^4 + \\frac{??}{??}(x - 1)^5 + \\cdots\n",
    "$$\n",
    "\n"
   ]
  },
  {
   "cell_type": "markdown",
   "metadata": {},
   "source": [
    "\n",
    "(c) Write the $ n $-th order Taylor approximation of $ \\ln(x) $ near $ x_0 = 1 $. What is the order of the estimated approximation error?\n"
   ]
  },
  {
   "cell_type": "markdown",
   "metadata": {},
   "source": [
    "\n",
    "\n",
    "The $ n $-th order Taylor approximation is:\n",
    "\n",
    "$$\n",
    "\\ln(x) = (x - 1) - \\frac{(x - 1)^2}{2} + \\frac{(x - 1)^3}{3} - \\cdots + (-1)^{n-1} \\frac{(x - 1)^n}{n} + O(???)\n",
    "$$\n",
    "\n"
   ]
  },
  {
   "cell_type": "markdown",
   "metadata": {},
   "source": [
    "\n",
    "(d) Finally we want to get an approximation for $\\ln(1.1)$ accurate to 5 decimal places (or better). What is the minimum number of terms we expect to need from the Taylor Series? Support your answer mathematically.\n"
   ]
  },
  {
   "cell_type": "markdown",
   "metadata": {},
   "source": [
    "\n",
    "\n",
    "REPLACE_ME\n"
   ]
  },
  {
   "cell_type": "markdown",
   "metadata": {},
   "source": [
    "(e) Use Python’s `np.log(1.1)` to get an approximation for $\\ln(1.1)$ and then numerically verify your answer to part (d)."
   ]
  },
  {
   "cell_type": "code",
   "execution_count": null,
   "metadata": {},
   "outputs": [],
   "source": [
    "# Your code here:"
   ]
  },
  {
   "cell_type": "markdown",
   "metadata": {},
   "source": [
    "---"
   ]
  },
  {
   "cell_type": "markdown",
   "metadata": {},
   "source": [
    "## Exercise 1.41 \n",
    "In the previous problem you found an approximation for $\\ln(1.1)$ to 5 decimal places. In doing so you had to build a Taylor Series at a well-known point nearby 1.1 and then use our approximation of the error to determine the number of terms to keep in the approximation. In this exercise we want an approximation of $\\cos\\left( \\frac{\\pi}{2} + 0.05 \\right).$ To do so you should build a Taylor Series for the cosine function centered at an appropriate point, determine an estimate for the approximation error, and then use that estimate to determine the number of terms to keep in the approximation."
   ]
  },
  {
   "cell_type": "markdown",
   "metadata": {},
   "source": [
    "\n",
    "REPLACE_ME\n"
   ]
  }
 ],
 "metadata": {
  "kernelspec": {
   "display_name": "DS776v2",
   "language": "python",
   "name": "python3"
  },
  "language_info": {
   "codemirror_mode": {
    "name": "ipython",
    "version": 3
   },
   "file_extension": ".py",
   "mimetype": "text/x-python",
   "name": "python",
   "nbconvert_exporter": "python",
   "pygments_lexer": "ipython3",
   "version": "3.11.9"
  }
 },
 "nbformat": 4,
 "nbformat_minor": 2
}
