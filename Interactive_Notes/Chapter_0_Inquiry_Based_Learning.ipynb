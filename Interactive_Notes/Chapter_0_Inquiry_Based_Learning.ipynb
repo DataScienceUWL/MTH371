{
 "cells": [
  {
   "cell_type": "markdown",
   "metadata": {},
   "source": [
    "## The Inquiry-Based Approach  \n",
    "\n",
    "Let’s start the book off right away with a problem designed for groups, discussion, disagreement, and deep critical thinking. This problem is inspired by Dana Ernst’s first day IBL activity titled: *Setting the Stage*.  \n",
    "\n",
    "---\n",
    "\n",
    "### Exercise 0.1  \n",
    "- **Get in groups of size 3-4.**  \n",
    "- Group members should introduce themselves.  \n",
    "- For each of the questions that follow, I will ask you to:  \n",
    "  1. Think about a possible answer on your own.  \n",
    "  2. Discuss your answers with the rest of the group.  \n",
    "  3. Share a summary of each group’s discussion.  \n",
    "\n",
    "---\n",
    "\n",
    "#### Questions:  \n",
    "- **Question #1:** What are the goals of a university education?  \n",
    "- **Question #2:** How does a person learn something new?  \n",
    "- **Question #3:** What do you reasonably expect to remember from your courses in 20 years?  \n",
    "- **Question #4:** What is the value of making mistakes in the learning process?  \n",
    "- **Question #5:** How do we create a safe environment where risk-taking is encouraged and productive failure is valued?  \n",
    "\n",
    "---\n",
    "\n",
    "This material is written with an Inquiry-Based Learning (IBL) flavor. In that sense, this document could be used as a stand-alone set of materials for the course, but these notes are not a traditional textbook containing all of the expected theorems, proofs, code, examples, and exposition. You are encouraged to work through problems and homework, present your findings, and work together when appropriate.  \n",
    "\n",
    "You will find that this text mostly just contains collections of problems with minimal interweaving exposition. It is expected that you do every one of the problems and use the sequencing of the problems to guide your learning and understanding. Much of the code in this book is incomplete, so it is highly encouraged that you have a Google Colab (or Jupyter Notebook) open to work through every problem (though not every problem requires you to write code). Most students find it easiest to have one dedicated Colab notebook (or Jupyter notebook) per section of the book, but some students will want to have one per chapter. You are highly encouraged to write explanatory text into your Google Colab notebooks as you go so that future-you can tell what it is that you were doing, which problem(s) you were solving, and what your thought processes were. In the end, your collection of Colab (or Jupyter) notebooks will contain solutions to every problem in the book and can serve as a reference manual for future numerical analysis problems.  \n",
    "\n",
    "To learn more about Inquiry-Based Learning (IBL), go to [http://www.inquirybasedlearning.org/about/](http://www.inquirybasedlearning.org/about/). The long and short of it is that you, the student, are the one that is doing the work: proving theorems, writing code, working problems, leading discussions, and pushing the pace. The instructor acts as a guide who only steps in to redirect conversations or to provide necessary insight.  \n",
    "\n",
    "---\n",
    "\n",
    "### You have the following jobs as a student in this class:\n",
    "\n",
    "1. **Fight!** You will have to fight hard to work through this material. The fight is exactly what we’re after since it is ultimately what leads to innovative thinking.  \n",
    "2. **Screw Up!** More accurately, don’t be afraid to screw up. You should write code, work problems, and prove theorems then be completely unafraid to scrap what you’ve done and redo it from scratch.  \n",
    "3. **Collaborate!** You should collaborate with your peers with the following caveats:  \n",
    "   - When you are done collaborating, you should go your separate ways. When you write your solution, you should have no written (or digital) record of your collaboration.  \n",
    "   - Use of the internet to help solve these problems robs you of the most important part of this class: the chance for original thought.  \n",
    "4. **Enjoy!** Part of the fun of IBL is that you get to experience what it is like to think like a true mathematician/scientist. It takes hard work, but ultimately this should be fun!  \n"
   ]
  }
 ],
 "metadata": {
  "language_info": {
   "name": "python"
  }
 },
 "nbformat": 4,
 "nbformat_minor": 2
}
