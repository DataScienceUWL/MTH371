{
 "cells": [
  {
   "cell_type": "markdown",
   "metadata": {},
   "source": [
    "<hr>\n",
    "\n",
    "### Exercise 1.49\n",
    "\n",
    "\n",
    "The number $2520$ is the smallest number that can be divided by each of the numbers from $1$ to $10$ without any remainder. Write code to find the smallest positive number that is evenly divisible by all of the numbers from $1$ to $20$.\n",
    "\n",
    "**Hint:** You will likely want to use [modular division](https://python-reference.readthedocs.io/en/latest/docs/operators/modulus.html) for this problem.\n",
    "\n",
    "(This problem is modified from [3])\n",
    "\n"
   ]
  },
  {
   "cell_type": "code",
   "execution_count": 31,
   "metadata": {
    "tags": [
     "solution"
    ]
   },
   "outputs": [
    {
     "name": "stdout",
     "output_type": "stream",
     "text": [
      "Approach 1: The smallest positive number that is evenly divisible by\n",
      "all of the numbers from 1 to 20 is 232,792,560.\n",
      "Time taken: 6.34311 seconds\n",
      "\n",
      "Approach 2: The smallest positive number that is evenly divisible by\n",
      "all of the numbers from 1 to 20 is 232,792,560\n",
      "Time taken: 0.00100 seconds\n",
      "\n"
     ]
    }
   ],
   "source": [
    "#### Solution 1.49 - Approach 1\n",
    "\n",
    "# IDEA:  we can find the smallest multiple of a number by checking if it is divisible by all numbers from 1 to n, \n",
    "#       and incrementing it until we find the smallest multiple\n",
    "\n",
    "import time\n",
    "\n",
    "def smallest_multiple(n):\n",
    "    # Initialize the smallest multiple\n",
    "    smallest_mult = n\n",
    "    # Loop until we find the smallest multiple\n",
    "    while True:\n",
    "        # Check if the current number is divisible by all numbers from 1 to n\n",
    "        if all(smallest_mult % i == 0 for i in range(1, n + 1)):\n",
    "            return smallest_mult\n",
    "        # Increment the smallest multiple\n",
    "        smallest_mult += n\n",
    "\n",
    "number = 20\n",
    "start_time = time.time()\n",
    "lcm = smallest_multiple(number)\n",
    "end_time = time.time()\n",
    "\n",
    "print(f'Approach 1: The smallest positive number that is evenly divisible by')\n",
    "print(f'all of the numbers from 1 to {number} is {lcm:,}.')\n",
    "print(f'Time taken: {end_time - start_time:.5f} seconds\\n')\n",
    "\n",
    "#### Solution 1.49 - Approach 2 (much faster, but not obvious)\n",
    "\n",
    "# IDEA:  we can find the least common multiple of a number by using the formula lcm(a, b) = a*b / gcd(a, b), \n",
    "#        and applying it iteratively to all numbers from 1 to n\n",
    "\n",
    "def least_common_multiple(n):\n",
    "    # Initialize the least common multiple\n",
    "    lcm = 1\n",
    "    # Loop through all numbers from 2 to n\n",
    "    for i in range(2, n + 1):\n",
    "        lcm *= i // np.gcd(lcm, i)\n",
    "    return lcm\n",
    "\n",
    "number = 20\n",
    "start_time = time.time()\n",
    "lcm = least_common_multiple(number)\n",
    "end_time = time.time()\n",
    "print(f'Approach 2: The smallest positive number that is evenly divisible by')\n",
    "print(f'all of the numbers from 1 to {number} is {lcm:,}')\n",
    "print(f'Time taken: {end_time - start_time:.5f} seconds\\n')"
   ]
  },
  {
   "cell_type": "markdown",
   "metadata": {},
   "source": [
    "<hr>\n",
    "\n",
    "### Exercise 1.50\n",
    "\n",
    "The following iterative sequence is defined for the set of positive integers:\n",
    "\n",
    "$$\n",
    "\\begin{aligned}\n",
    "    & n \\to \\frac{n}{2} \\quad \\text{(n is even)} \\\\\n",
    "    & n \\to 3n + 1 \\quad \\text{(n is odd)}\n",
    "\\end{aligned}\n",
    "$$\n",
    "\n",
    "Using the rule above and starting with $13$, we generate the following sequence:\n",
    "\n",
    "$$\n",
    "13 \\to  40 \\to 20 \\to 10 \\to 5 \\to 16 \\to 8 \\to 4 \\to 2 \\to 1\n",
    "$$\n",
    "\n",
    "It can be seen that this sequence (starting at 13 and finishing at 1) contains 10 terms. Although it has not been proved yet (Collatz Problem), it is thought that all starting numbers finish at 1. This has been verified on computers for massively large starting numbers, but this does not constitute a proof that it will work this way for *all* starting numbers.\n",
    "\n",
    "Write code to determine which starting number, under one million, produces the longest chain.\n",
    "\n",
    "**Note:** Once the chain starts, the terms are allowed to go above one million. \n",
    "\n"
   ]
  },
  {
   "cell_type": "code",
   "execution_count": 34,
   "metadata": {
    "tags": [
     "solution"
    ]
   },
   "outputs": [
    {
     "name": "stdout",
     "output_type": "stream",
     "text": [
      "The starting number 837,799 produces the longest chain of 525 terms.\n",
      "Time taken: 13.44103 seconds\n",
      "\n",
      "Longest Collatz sequence starts at 837,799 with length 525\n",
      "Time taken: 0.72954 seconds\n",
      "\n"
     ]
    }
   ],
   "source": [
    "# Solution 1.50 - Approach 1\n",
    "# IDEA:  we can find the largest chain of numbers that eventually reach 1 by iterating through all numbers from 1 to n,\n",
    "import time\n",
    "\n",
    "time_start = time.time()\n",
    "# Initialize variables to track the longest chain and its starting number\n",
    "longest_starting_number = 0\n",
    "longest_chain = 0\n",
    "\n",
    "# Iterate through all numbers from 1 to 1,000,000\n",
    "for start in range(1, 1_000_000):\n",
    "    count = 1  # Start with count = 1 to include the starting number\n",
    "    n = start\n",
    "    # Generate the Collatz sequence for the current starting number\n",
    "    while n != 1:\n",
    "        if n % 2 == 0:\n",
    "            n = n // 2  # If n is even, divide it by 2\n",
    "        else:\n",
    "            n = 3 * n + 1  # If n is odd, multiply it by 3 and add 1\n",
    "        count += 1  # Increment the count for each step in the sequence\n",
    "    # Update the longest chain and starting number if the current chain is longer\n",
    "    if count > longest_chain:\n",
    "        longest_chain = count\n",
    "        longest_starting_number = start\n",
    "end_time = time.time()\n",
    "\n",
    "print(f'The starting number {longest_starting_number:,} produces the longest chain of {longest_chain} terms.')\n",
    "print(f'Time taken: {end_time - time_start:.5f} seconds\\n')\n",
    "\n",
    "#### Solution - Approach 2\n",
    "# IDEA: keep track of the length of the chain for each number and check to see if we've already calculated it\n",
    "\n",
    "def collatz_length(n, cache={}):\n",
    "    \"\"\"Returns the length of the Collatz sequence starting at n using memoization (caching).\"\"\"\n",
    "    if n in cache:\n",
    "        return cache[n]\n",
    "\n",
    "    original_n = n\n",
    "    length = 1\n",
    "    while n != 1:\n",
    "        if n in cache:\n",
    "            length += cache[n] - 1\n",
    "            break\n",
    "        n = n // 2 if n % 2 == 0 else 3 * n + 1\n",
    "        length += 1\n",
    "\n",
    "    cache[original_n] = length\n",
    "    return length\n",
    "\n",
    "def longest_collatz(limit):\n",
    "    \"\"\"Finds the starting number under `limit` that produces the longest Collatz sequence.\"\"\"\n",
    "    max_length = 0\n",
    "    best_start = 0\n",
    "\n",
    "    for i in range(1, limit):\n",
    "        length = collatz_length(i)\n",
    "        if length > max_length:\n",
    "            max_length = length\n",
    "            best_start = i\n",
    "\n",
    "    return best_start, max_length\n",
    "\n",
    "time_start = time.time()\n",
    "# Compute the result for numbers under 1,000,000\n",
    "limit = 1_000_000\n",
    "best_start, max_length = longest_collatz(limit)\n",
    "end_time = time.time()\n",
    "\n",
    "print(f\"Longest Collatz sequence starts at {best_start:,} with length {max_length}\")\n",
    "print(f'Time taken: {end_time - time_start:.5f} seconds\\n')\n"
   ]
  },
  {
   "cell_type": "markdown",
   "metadata": {},
   "source": [
    "<hr>\n",
    "\n",
    "### Exercise 1.54\n",
    "\n",
    "Find the Taylor Series for $f(x) = \\frac{1}{\\ln(x)}$ centered at the point $x_0 = e$. Then use the Taylor Series to approximate the number $\\frac{1}{\\ln(3)}$ to 4 decimal places. \n",
    "\n"
   ]
  },
  {
   "cell_type": "code",
   "execution_count": null,
   "metadata": {},
   "outputs": [
    {
     "name": "stdout",
     "output_type": "stream",
     "text": [
      "Taylor Series: 11*(x - E)**4*exp(-4)/3 - 7*(x - E)**3*exp(-3)/3 + 3*(x - E)**2*exp(-2)/2 - (x - E)*exp(-1) + 1\n",
      "Approximation at x=3: 0.9102986473536269\n",
      "Exact value at x=3: 0.9102392266268373\n",
      "Absolute error: 5.942072678954968e-05\n"
     ]
    }
   ],
   "source": [
    "# 1.54 Solution\n",
    "\n",
    "# We're going to cheat and use SymPy to generate the series (a symbolic math library)\n",
    "\n",
    "import sympy as sp\n",
    "import numpy as np\n",
    "\n",
    "# Define the variable and function\n",
    "x = sp.symbols('x')\n",
    "f = 1 / sp.ln(x)\n",
    "\n",
    "# Taylor series expansion centered at x_0 = e\n",
    "x0 = sp.E  # e in symbolic form\n",
    "taylor_series = sp.series(f, x, x0, n=5).removeO()  # Expanding up to 4th degree and remove big-O term\n",
    "\n",
    "# Convert the Taylor series into a Python function\n",
    "taylor_func = sp.lambdify(x, taylor_series, 'numpy')\n",
    "\n",
    "# Example usage: Evaluate the Taylor series at x = 3\n",
    "approximation = taylor_func(3)\n",
    "\n",
    "# the exact value and absolute error    \n",
    "exact_value = 1 / np.log(3)\n",
    "abs_error = np.abs(approximation - exact_value)\n",
    "\n",
    "# Print results\n",
    "print(\"Taylor Series:\", taylor_series)\n",
    "print(\"Approximation at x=3:\", approximation)\n",
    "print(\"Exact value at x=3:\", exact_value)\n",
    "print(\"Absolute error:\", abs_error)\n"
   ]
  },
  {
   "cell_type": "markdown",
   "metadata": {},
   "source": [
    "<hr>\n",
    "\n",
    "### Exercise 1.55\n",
    "\n",
    "In this problem, we will use Taylor Series to build approximations for the irrational number $\\pi$.\n",
    "\n",
    "**a.** Write the Taylor series centered at $x_0=0$ for the function  \n",
    "$$ f(x) = \\frac{1}{1+x}. $$\n"
   ]
  },
  {
   "cell_type": "markdown",
   "metadata": {},
   "source": [
    "Earlier in the book we show that the Taylor series for $\\frac{1}{1-x}$ centered at $x_0 = 0$ is given by:\n",
    "\n",
    "$$\n",
    "\\frac{1}{1-x} = 1 + x + x^2 + x^3 + x^4 + \\cdots = \\sum_{n=0}^{\\infty} x^n\n",
    "$$\n",
    "\n",
    "This series converges for $|x| < 1$.\n",
    "\n",
    "Since we want the series for $\\frac{1}{1+x}$ at $x_0 = 0$ we can substitute $-x$ for $x$ in the previous series to get:\n",
    "\n",
    "$$\n",
    "\\frac{1}{1+x} = 1 - x + x^2 - x^3 + x^4 - \\cdots = \\sum_{n=0}^{\\infty} (-1)^n x^n\n",
    "$$\n",
    "\n",
    "This series converges for $|x| < 1$."
   ]
  },
  {
   "cell_type": "markdown",
   "metadata": {},
   "source": [
    "\n",
    "**b.** Now we want to get the Taylor Series for the function $g(x) = \\frac{1}{1+x^2}$. It would be quite time-consuming to take all of the necessary derivatives to get this Taylor Series. Instead, we will use our answer from part (a) of this problem to shortcut the whole process.  \n",
    "   **i.** Substitute $x^2$ for every $x$ in the Taylor Series for $f(x) = \\frac{1}{1+x}$.  \n",
    "   **ii.** Make a few plots to verify that we indeed now have a Taylor Series for the function $g(x) = \\frac{1}{1+x^2}$.\n"
   ]
  },
  {
   "cell_type": "markdown",
   "metadata": {},
   "source": [
    "# 1.54b Solution\n",
    "\n",
    "To get the Taylor Series for $g(x) = \\frac{1}{1+x^2}$ from the series for $f(x) = \\frac{1}{1+x}$, we substitute $x^2$ for x$ in the series for $f(x)$:\n",
    "\n",
    "$$\n",
    "\\frac{1}{1+x} = \\sum_{n=0}^{\\infty} (-1)^n x^n\n",
    "$$\n",
    "\n",
    "Substituting x^2$ for x$:\n",
    "\n",
    "$$\n",
    "\\frac{1}{1+x^2} = \\sum_{n=0}^{\\infty} (-1)^n (x^2)^n = \\sum_{n=0}^{\\infty} (-1)^n x^{2n}\n",
    "$$\n",
    "\n",
    "To verify, we can plot the Taylor Series approximation and compare it to the actual function $g(x) = \\frac{1}{1+x^2}$."
   ]
  },
  {
   "cell_type": "code",
   "execution_count": 6,
   "metadata": {},
   "outputs": [
    {
     "data": {
      "image/png": "[encoded data removed]",
      "text/plain": [
       "<Figure size 1000x600 with 1 Axes>"
      ]
     },
     "metadata": {},
     "output_type": "display_data"
    }
   ],
   "source": [
    "import numpy as np\n",
    "import matplotlib.pyplot as plt\n",
    "\n",
    "def taylor_approximation_g(x, degree):\n",
    "    \"\"\"Compute the Taylor series approximation to 1/(1+x^2) up to the given degree.\"\"\"\n",
    "    approximation = np.zeros_like(x)\n",
    "    for n in range(degree//2 + 1):\n",
    "        approximation += (-1)**n * x**(2*n)\n",
    "    return approximation\n",
    "\n",
    "# Define the range of x values\n",
    "x = np.linspace(-2, 2, 500)\n",
    "\n",
    "# Compute the Taylor approximations\n",
    "constant_approx = taylor_approximation_g(x, 0)\n",
    "second_order_approx = taylor_approximation_g(x, 2)\n",
    "fourth_order_approx = taylor_approximation_g(x, 4)\n",
    "sixth_order_approx = taylor_approximation_g(x, 6)\n",
    "eighth_order_approx = taylor_approximation_g(x, 8)\n",
    "\n",
    "# Compute the actual function\n",
    "actual_function = 1 / (1 + x**2)\n",
    "\n",
    "# Plot the results\n",
    "plt.figure(figsize=(10, 6))\n",
    "\n",
    "plt.plot(x, actual_function, label=\"$g(x) = 1/(1+x^2)$\", color=\"black\", linewidth=2)\n",
    "plt.plot(x, constant_approx, label=\"0th Order Approximation\", linestyle=\"--\")\n",
    "plt.plot(x, second_order_approx, label=\"2nd Order Approximation\", linestyle=\"--\")\n",
    "plt.plot(x, fourth_order_approx, label=\"4th Order Approximation\", linestyle=\"--\")\n",
    "plt.plot(x, sixth_order_approx, label=\"6th Order Approximation\", linestyle=\"--\")\n",
    "plt.plot(x, eighth_order_approx, label=\"8th Order Approximation\", linestyle=\"--\")\n",
    "\n",
    "# Set axis limits\n",
    "plt.xlim(-2, 2)\n",
    "plt.ylim(-0.5, 1.5)\n",
    "\n",
    "# Add labels, title, and legend\n",
    "plt.xlabel(\"x\", fontsize=12)\n",
    "plt.ylabel(\"g(x)\", fontsize=12)\n",
    "plt.title(\"Taylor Series Approximations to $g(x) = 1/(1+x^2)$\", fontsize=14)\n",
    "plt.legend(fontsize=10)\n",
    "plt.grid(True)\n",
    "\n",
    "# Show the plot\n",
    "plt.show()\n"
   ]
  },
  {
   "cell_type": "markdown",
   "metadata": {},
   "source": [
    "\n",
    "**c.** Recall from Calculus that  \n",
    "$$ \\int \\frac{1}{1+x^2} dx = \\arctan(x). $$  \n",
    "Hence, if we integrate each term of the Taylor Series that results from part (b), we should have a Taylor Series for $\\arctan(x)$. What is that series? (See Footnote 1)\n"
   ]
  },
  {
   "cell_type": "markdown",
   "metadata": {},
   "source": [
    "To integrate the series for $\\frac{1}{1+x^2}$ to get a series for $\\arctan(x)$, we start with the Taylor series for $\\frac{1}{1+x^2}$:\n",
    "\n",
    "$$\n",
    "\\frac{1}{1+x^2} = \\sum_{n=0}^{\\infty} (-1)^n x^{2n}\n",
    "$$\n",
    "\n",
    "We integrate term by term:\n",
    "\n",
    "$$\n",
    "\\int \\frac{1}{1+x^2} \\, dx = \\int \\sum_{n=0}^{\\infty} (-1)^n x^{2n} \\, dx = \\sum_{n=0}^{\\infty} (-1)^n \\int x^{2n} \\, dx\n",
    "$$\n",
    "\n",
    "The integral of $x^{2n}$ is $\\frac{x^{2n+1}}{2n+1}$, so we get:\n",
    "\n",
    "$$\n",
    "\\arctan(x) = \\sum_{n=0}^{\\infty} (-1)^n \\frac{x^{2n+1}}{2n+1}\n",
    "$$\n",
    "\n",
    "This is the Taylor series for $\\arctan(x)$."
   ]
  },
  {
   "cell_type": "markdown",
   "metadata": {},
   "source": [
    "\n",
    "**d.** Now recall the following from Calculus:  \n",
    "   - $\\tan(\\pi/4) = 1$,  \n",
    "   - so $\\arctan(1) = \\pi/4$,  \n",
    "   - and therefore $\\pi = 4\\arctan(1)$.  \n",
    "\n",
    "Let’s use these facts along with the Taylor Series for $\\arctan(x)$ to approximate $\\pi$: we can just plug in $x=1$ to the series, add up a bunch of terms, and then multiply by 4. Write a loop in Python that builds successively better and better approximations of $\\pi$. Stop the loop when you have an approximation that is correct to 6 decimal places. \n",
    "\n"
   ]
  },
  {
   "cell_type": "code",
   "execution_count": 7,
   "metadata": {},
   "outputs": [
    {
     "name": "stdout",
     "output_type": "stream",
     "text": [
      "Approximation of pi: 3.141594\n",
      "Number of terms: 1000001\n",
      "Absolute error: 9.999990e-07\n"
     ]
    }
   ],
   "source": [
    "# 1.54d Solution\n",
    "\n",
    "# Initialize variables\n",
    "approx_pi = 0\n",
    "n = 0\n",
    "target_precision = 1e-6\n",
    "\n",
    "# Loop to build successively better approximations of pi\n",
    "while True:\n",
    "    term = (-1)**n / (2*n + 1)\n",
    "    approx_pi += term\n",
    "    n += 1\n",
    "    if abs(4 * approx_pi - np.pi) < target_precision:\n",
    "        break\n",
    "\n",
    "# Multiply the final approximation by 4 to get pi\n",
    "approx_pi *= 4\n",
    "\n",
    "# Print the results\n",
    "print(f'Approximation of pi: {approx_pi:.6f}')\n",
    "print(f'Number of terms: {n}')\n",
    "print(f'Absolute error: {abs(approx_pi - np.pi):.6e}')"
   ]
  },
  {
   "cell_type": "markdown",
   "metadata": {},
   "source": [
    "To approximate $\\pi$ more efficiently, we can use the Machin-like formula for $\\pi$:\n",
    "\n",
    "$$\n",
    "\\pi = 16 \\arctan\\left(\\frac{1}{5}\\right) - 4 \\arctan\\left(\\frac{1}{239}\\right)\n",
    "$$\n",
    "\n",
    "The Taylor series for $\\arctan(x)$ is:\n",
    "\n",
    "$$\n",
    "\\arctan(x) = \\sum_{n=0}^{\\infty} (-1)^n \\frac{x^{2n+1}}{2n+1}\n",
    "$$\n",
    "\n",
    "Using this series, we can approximate $\\pi$ as follows:\n"
   ]
  },
  {
   "cell_type": "code",
   "execution_count": null,
   "metadata": {},
   "outputs": [
    {
     "name": "stdout",
     "output_type": "stream",
     "text": [
      "Approximation of pi: 3.141592653589794\n",
      "Absolute error: 8.881784197001252e-16\n"
     ]
    }
   ],
   "source": [
    "def arctan(x, terms=100):\n",
    "    result = 0\n",
    "    for n in range(terms):\n",
    "        term = ((-1)**n * x**(2*n + 1)) / (2*n + 1)\n",
    "        result += term\n",
    "    return result\n",
    "\n",
    "def approximate_pi(terms=100):\n",
    "    pi_approx = 16 * arctan(1/5, terms) - 4 * arctan(1/239, terms)\n",
    "    return pi_approx\n",
    "\n",
    "# Set the number of terms for the series\n",
    "terms = 1\n",
    "\n",
    "# Calculate the approximation of pi\n",
    "pi_approx = approximate_pi(terms)\n",
    "\n",
    "# Print the results\n",
    "print(f'Approximation of pi: {pi_approx:.15f}')\n",
    "print(f'Absolute error: {abs(pi_approx - np.pi):.15e}')\n"
   ]
  },
  {
   "cell_type": "markdown",
   "metadata": {},
   "source": [
    "\n",
    "\n",
    "This method converges much faster than using the series for $\\arctan(1)$. Adjust the `terms` variable to increase or decrease the number of terms in the series for better accuracy."
   ]
  },
  {
   "cell_type": "markdown",
   "metadata": {},
   "source": [
    "<hr>\n",
    "\n",
    "### Exercise 1.56\n",
    "\n",
    "In this problem, we will prove the famous (and the author’s favorite) formula:\n",
    "\n",
    "$$ e^{i\\theta} = \\cos(\\theta) + i \\sin(\\theta). $$\n",
    "\n",
    "This is known as Euler’s formula after the famous mathematician Leonard Euler. Show all of your work for the following tasks:\n",
    "\n",
    "a. Write the Taylor series for the functions $e^x$, $\\sin(x)$, and $\\cos(x)$.\n",
    "\n",
    "b. Replace $x$ with $i\\theta$ in the Taylor expansion of $e^x$. Recall that $i = \\sqrt{-1}$ so $i^2 = -1$, $i^3 = -i$, and $i^4 = 1$. Simplify all of the powers of $i\\theta$ that arise in the Taylor expansion. I’ll get you started:\n",
    "\n",
    "$$\n",
    "\\begin{aligned}\n",
    "  e^x &= 1 + x + \\frac{x^2}{2} + \\frac{x^3}{3!} + \\frac{x^4}{4!} + \\frac{x^5}{5!} + \\cdots \\\\\n",
    "  e^{i\\theta} &= 1 + (i\\theta) + \\frac{(i\\theta)^2}{2!} + \\frac{(i\\theta)^3}{3!} + \\frac{(i\\theta)^4}{4!} + \\frac{(i\\theta)^5}{5!} + \\cdots \\\\\n",
    "  &= 1 + i\\theta + i^2 \\frac{\\theta^2}{2!} + i^3 \\frac{\\theta^3}{3!} + i^4 \\frac{\\theta^4}{4!} + i^5 \\frac{\\theta^5}{5!} + \\cdots \\\\\n",
    "  &= \\ldots \\text{ keep simplifying ... } \\ldots\n",
    "\\end{aligned}\n",
    "$$\n",
    "\n",
    "c. Gather all of the real terms and all of the imaginary terms together. Factor the $i$ out of the imaginary terms. What do you notice?\n",
    "\n",
    "d. Use your result from part (c) to prove that $e^{i\\pi} + 1 = 0$. \n",
    "\n"
   ]
  },
  {
   "cell_type": "markdown",
   "metadata": {},
   "source": [
    "### Solution to Exercise 1.56\n",
    "\n",
    "#### a. Write the Taylor series for the functions $e^x$, $\\sin(x)$, and $\\cos(x)$.\n",
    "\n",
    "The Taylor series for $e^x$ centered at $x = 0$ is:\n",
    "$$\n",
    "e^x = \\sum_{n=0}^{\\infty} \\frac{x^n}{n!} = 1 + x + \\frac{x^2}{2!} + \\frac{x^3}{3!} + \\frac{x^4}{4!} + \\cdots\n",
    "$$\n",
    "\n",
    "The Taylor series for $\\sin(x)$ centered at $x = 0$ is:\n",
    "$$\n",
    "\\sin(x) = \\sum_{n=0}^{\\infty} (-1)^n \\frac{x^{2n+1}}{(2n+1)!} = x - \\frac{x^3}{3!} + \\frac{x^5}{5!} - \\frac{x^7}{7!} + \\cdots\n",
    "$$\n",
    "\n",
    "The Taylor series for $\\cos(x)$ centered at $x = 0$ is:\n",
    "$$\n",
    "\\cos(x) = \\sum_{n=0}^{\\infty} (-1)^n \\frac{x^{2n}}{(2n)!} = 1 - \\frac{x^2}{2!} + \\frac{x^4}{4!} - \\frac{x^6}{6!} + \\cdots\n",
    "$$\n",
    "\n",
    "#### b. Replace $x$ with i\\theta$ in the Taylor expansion of $e^x$. Simplify all of the powers of $i\\theta$.\n",
    "\n",
    "Starting with the Taylor series for $e^x$:\n",
    "$$\n",
    "e^x = 1 + x + \\frac{x^2}{2!} + \\frac{x^3}{3!} + \\frac{x^4}{4!} + \\cdots\n",
    "$$\n",
    "\n",
    "Replace $x$ with $i\\theta$:\n",
    "$$\n",
    "e^{i\\theta} = 1 + (i\\theta) + \\frac{(i\\theta)^2}{2!} + \\frac{(i\\theta)^3}{3!} + \\frac{(i\\theta)^4}{4!} + \\cdots\n",
    "$$\n",
    "\n",
    "Simplify the powers of $i$:\n",
    "$$\n",
    "e^{i\\theta} = 1 + i\\theta + \\frac{(i\\theta)^2}{2!} + \\frac{(i\\theta)^3}{3!} + \\frac{(i\\theta)^4}{4!} + \\cdots\n",
    "$$\n",
    "$$\n",
    "= 1 + i\\theta - \\frac{\\theta^2}{2!} - i\\frac{\\theta^3}{3!} + \\frac{\\theta^4}{4!} + \\cdots\n",
    "$$\n",
    "\n",
    "#### c. Gather all of the real terms and all of the imaginary terms together. Factor the i$ out of the imaginary terms.\n",
    "\n",
    "$$\n",
    "e^{i\\theta} = \\left(1 - \\frac{\\theta^2}{2!} + \\frac{\\theta^4}{4!} - \\cdots \\right) + i\\left(\\theta - \\frac{\\theta^3}{3!} + \\frac{\\theta^5}{5!} - \\cdots \\right)\n",
    "$$\n",
    "\n",
    "Notice that the real part is the Taylor series for $\\cos(\\theta)$ and the imaginary part is $i$ times the Taylor series for $\\sin(\\theta)$:\n",
    "$$\n",
    "e^{i\\theta} = \\cos(\\theta) + i\\sin(\\theta)\n",
    "$$\n",
    "\n",
    "#### d. Use your result from part (c) to prove that $e^{i\\pi} + 1 = 0$.\n",
    "\n",
    "Using Euler's formula:\n",
    "$$\n",
    "e^{i\\pi} = \\cos(\\pi) + i\\sin(\\pi)\n",
    "$$\n",
    "\n",
    "We know that:\n",
    "$$\n",
    "\\cos(\\pi) = -1 \\quad \\text{and} \\quad \\sin(\\pi) = 0\n",
    "$$\n",
    "\n",
    "Therefore:\n",
    "$$\n",
    "e^{i\\pi} = -1 + 0i = -1\n",
    "$$\n",
    "\n",
    "Adding 1 to both sides:\n",
    "$$\n",
    "e^{i\\pi} + 1 = -1 + 1 = 0\n",
    "$$\n",
    "\n",
    "Thus, we have proved that:\n",
    "$$\n",
    "e^{i\\pi} + 1 = 0\n",
    "$$"
   ]
  },
  {
   "cell_type": "markdown",
   "metadata": {},
   "source": [
    "<hr>\n",
    "\n",
    "### Exercise 1.57\n",
    "\n",
    "In physics, the *relativistic energy* of an object is defined as:\n",
    "\n",
    "$$E_{rel} = \\gamma mc^2$$\n",
    "\n",
    "where:\n",
    "\n",
    "$$\\gamma = \\frac{1}{\\sqrt{1 - \\frac{v^2}{c^2}}}.$$\n",
    "\n",
    "In these equations, $m$ is the mass of the object, $c$ is the speed of light ($c \\approx 3 \\times 10^8 \\, \\text{m/s}$), and $v$ is the velocity of the object. For an object of fixed mass ($m$), we can expand the Taylor Series centered at $v = 0$ for $E_{rel}$ to get:\n",
    "\n",
    "$$E_{rel} = mc^2 + \\frac{1}{2} mv^2 + \\frac{3}{8} \\frac{mv^4}{c^2} + \\frac{5}{16} \\frac{mv^6}{c^4} + \\cdots.$$\n",
    "\n",
    "a. What do we recover if we consider an object with zero velocity?\n",
    "\n",
    "b. Why might it be completely reasonable to only use the quadratic approximation:\n",
    "\n",
    "$$E_{rel} = mc^2 + \\frac{1}{2} mv^2$$\n",
    "\n",
    "for the relativistic energy equation? (See Footnote 2)\n",
    "\n",
    "c. (*Some physics knowledge required*) What do you notice about the second term in the Taylor Series approximation of the relativistic energy function?\n",
    "\n",
    "d. Show all of the work to derive the Taylor Series centered at $v = 0$ given above.\n",
    "\n"
   ]
  },
  {
   "cell_type": "markdown",
   "metadata": {},
   "source": [
    "### Solution to Exercise 1.57\n",
    "\n",
    "#### a. What do we recover if we consider an object with zero velocity?\n",
    "\n",
    "If the velocity $v = 0$, then the relativistic energy equation simplifies to:\n",
    "\n",
    "$$ E_{rel} = mc^2 $$\n",
    "\n",
    "This is the famous equation from Einstein's theory of relativity, which states that the energy of an object at rest is equal to its mass times the speed of light squared.\n",
    "\n",
    "#### b. Why might it be completely reasonable to only use the quadratic approximation:\n",
    "\n",
    "$$ E_{rel} = mc^2 + \\frac{1}{2} mv^2 $$\n",
    "\n",
    "for the relativistic energy equation?\n",
    "\n",
    "For velocities $v$ that are much smaller than the speed of light $c$, the higher-order terms in the Taylor series expansion become very small and can be neglected. Therefore, the quadratic approximation $E_{rel} = mc^2 + \\frac{1}{2} mv^2$ is sufficient to describe the energy of the object accurately. This approximation is often used in classical mechanics where velocities are much smaller than the speed of light.\n",
    "\n",
    "#### c. (*Some physics knowledge required*) What do you notice about the second term in the Taylor Series approximation of the relativistic energy function?\n",
    "\n",
    "The second term in the Taylor Series approximation of the relativistic energy function is $\\frac{1}{2} mv^2$, which is the classical kinetic energy of an object. This shows that the relativistic energy equation reduces to the classical kinetic energy equation for small velocities.\n",
    "\n",
    "#### d. Show all of the work to derive the Taylor Series centered at v = 0$ given above.\n",
    "\n",
    "To derive the Taylor Series for $E_{rel}$ centered at $v = 0$, we start with the expression for $\\gamma$:\n",
    "\n",
    "$$ \\gamma = \\frac{1}{\\sqrt{1 - \\frac{v^2}{c^2}}} $$\n",
    "\n",
    "We can rewrite \\gamma$ as:\n",
    "\n",
    "$$ \\gamma = \\left(1 - \\frac{v^2}{c^2}\\right)^{-\\frac{1}{2}} $$\n",
    "\n",
    "To expand this expression, we use the Taylor series expansion for $(1 - x)^{-\\frac{1}{2}}$. The Taylor series for a function $f(x)$ around $x = 0$ is given by:\n",
    "\n",
    "$$ f(x) = f(0) + f'(0)x + \\frac{f''(0)}{2!}x^2 + \\frac{f'''(0)}{3!}x^3 + \\cdots $$\n",
    "\n",
    "For $f(x) = (1 - x)^{-\\frac{1}{2}}$, we need to find the derivatives of $f(x)$ and evaluate them at $x = 0$.\n",
    "\n",
    "1. $f(x) = (1 - x)^{-\\frac{1}{2}}$\n",
    "2. $f'(x) = \\frac{d}{dx} (1 - x)^{-\\frac{1}{2}} = \\frac{1}{2}(1 - x)^{-\\frac{3}{2}}$\n",
    "3. $f''(x) = \\frac{d}{dx} \\left( \\frac{1}{2}(1 - x)^{-\\frac{3}{2}} \\right) = \\frac{3}{4}(1 - x)^{-\\frac{5}{2}}$\n",
    "4. $f'''(x) = \\frac{d}{dx} \\left( \\frac{3}{4}(1 - x)^{-\\frac{5}{2}} \\right) = \\frac{15}{8}(1 - x)^{-\\frac{7}{2}}$\n",
    "\n",
    "Evaluating these derivatives at $x = 0$:\n",
    "\n",
    "1. $f(0) = 1$\n",
    "2. $f'(0) = \\frac{1}{2}$\n",
    "3. $f''(0) = \\frac{3}{4}$\n",
    "4. $f'''(0) = \\frac{15}{8}$\n",
    "\n",
    "Using these values, the Taylor series expansion for $(1 - x)^{-\\frac{1}{2}}$ around $x = 0$ is:\n",
    "\n",
    "$$ (1 - x)^{-\\frac{1}{2}} = 1 + \\frac{1}{2}x + \\frac{3}{8}x^2 + \\frac{5}{16}x^3 + \\cdots $$\n",
    "\n",
    "Substituting $x = \\frac{v^2}{c^2}$:\n",
    "\n",
    "$$ \\gamma = 1 + \\frac{1}{2}\\left(\\frac{v^2}{c^2}\\right) + \\frac{3}{8}\\left(\\frac{v^4}{c^4}\\right) + \\frac{5}{16}\\left(\\frac{v^6}{c^6}\\right) + \\cdots $$\n",
    "\n",
    "Multiplying by $mc^2$ to get $E_{rel}$:\n",
    "\n",
    "$$ E_{rel} = mc^2 \\left(1 + \\frac{1}{2}\\left(\\frac{v^2}{c^2}\\right) + \\frac{3}{8}\\left(\\frac{v^4}{c^4}\\right) + \\frac{5}{16}\\left(\\frac{v^6}{c^6}\\right) + \\cdots \\right) $$\n",
    "\n",
    "Simplifying, we get:\n",
    "\n",
    "$$ E_{rel} = mc^2 + \\frac{1}{2}mv^2 + \\frac{3}{8}\\frac{mv^4}{c^2} + \\frac{5}{16}\\frac{mv^6}{c^4} + \\cdots $$\n",
    "\n",
    "This is the Taylor Series expansion for the relativistic energy function centered at $v = 0$."
   ]
  },
  {
   "cell_type": "markdown",
   "metadata": {},
   "source": [
    "<hr>\n",
    "\n",
    "### Exercise 1.58\n",
    "\n",
    "**The Python Caret Operator**\n",
    "\n",
    "Now that you’re used to using Python to do some basic computations, you are probably comfortable with the fact that the caret, `^`, does **not** do exponentiation like it does in many other programming languages. But what does the caret operator do? That’s what we explore here.\n",
    "\n",
    "a. Consider the numbers $9$ and $5$. Write these numbers in binary representation. We are going to use four bits to represent each number (it is okay if the first bit happens to be zero).\n",
    "\n",
    "$$\n",
    "\\begin{aligned}\n",
    "9 & = \\underline{\\hspace{0.2in}} \\, \\underline{\\hspace{0.2in}} \\, \\underline{\\hspace{0.2in}} \\, \\underline{\\hspace{0.2in}} \\\\\n",
    "5 & = \\underline{\\hspace{0.2in}} \\, \\underline{\\hspace{0.2in}} \\, \\underline{\\hspace{0.2in}} \\, \\underline{\\hspace{0.2in}}\n",
    "\\end{aligned}\n",
    "$$\n"
   ]
  },
  {
   "cell_type": "markdown",
   "metadata": {},
   "source": [
    "$(9)_{10} = (1001)_2, (5)_{10} = (0101)_2$"
   ]
  },
  {
   "cell_type": "markdown",
   "metadata": {},
   "source": [
    "\n",
    "b. Now go to Python and evaluate the expression `9^5`. Convert Python’s answer to a binary representation (again using four bits).\n"
   ]
  },
  {
   "cell_type": "code",
   "execution_count": 1,
   "metadata": {},
   "outputs": [
    {
     "data": {
      "text/plain": [
       "12"
      ]
     },
     "execution_count": 1,
     "metadata": {},
     "output_type": "execute_result"
    }
   ],
   "source": [
    "# 1.58b Solution\n",
    "9^5"
   ]
  },
  {
   "cell_type": "markdown",
   "metadata": {},
   "source": [
    "$(12)_{10} = (1100)_2$"
   ]
  },
  {
   "cell_type": "markdown",
   "metadata": {},
   "source": [
    "\n",
    "c. Make a conjecture: How do we go from the binary representations of $a$ and $b$ to the binary representation for Python’s `a^b` for numbers $a$ and $b$? Test and verify your conjecture on several different examples, and then write a few sentences explaining what the caret operator does in Python. \n",
    "\n"
   ]
  },
  {
   "cell_type": "markdown",
   "metadata": {},
   "source": [
    "Notice that we get 0's wherever the bits are the same and 1's where they differ.  This is called the XOR operator which is short for \"exclusive or\".   In other words we get 1 whenever we have \"0\" or \"1\" but not both, otherwise we get 0."
   ]
  },
  {
   "cell_type": "code",
   "execution_count": 2,
   "metadata": {},
   "outputs": [
    {
     "name": "stdout",
     "output_type": "stream",
     "text": [
      "a   = 1001\n",
      "b   = 0101\n",
      "a^b = 1100\n"
     ]
    }
   ],
   "source": [
    "def display_binary_xor(a: int, b: int):\n",
    "    # Determine the minimum bit length needed to represent both numbers\n",
    "    bit_length = max(a.bit_length(), b.bit_length())\n",
    "\n",
    "    # Format numbers as binary with leading zeros\n",
    "    a_bin = f\"{a:0{bit_length}b}\"\n",
    "    b_bin = f\"{b:0{bit_length}b}\"\n",
    "    xor_bin = f\"{(a ^ b):0{bit_length}b}\"  # Compute XOR and format\n",
    "\n",
    "    # Display the results\n",
    "    print(f\"a   = {a_bin}\")\n",
    "    print(f\"b   = {b_bin}\")\n",
    "    print(f\"a^b = {xor_bin}\")\n",
    "\n",
    "display_binary_xor(9,5)"
   ]
  },
  {
   "cell_type": "code",
   "execution_count": 4,
   "metadata": {},
   "outputs": [
    {
     "name": "stdout",
     "output_type": "stream",
     "text": [
      "a   = 11011\n",
      "b   = 00011\n",
      "a^b = 11000\n"
     ]
    }
   ],
   "source": [
    "display_binary_xor(27,3)"
   ]
  },
  {
   "cell_type": "markdown",
   "metadata": {},
   "source": [
    "<hr>\n",
    "\n",
    "#### References\n",
    "\n",
    "* [3] M. Boelkins, “Active calculus.” [https://activecalculus.org/single/frontmatter.html](https://activecalculus.org/single/frontmatter.html), 2018.\n",
    "\n",
    "* [3] “ProjectEuler.net.” [https://projecteuler.net/](https://projecteuler.net/).\n",
    "\n",
    "* [4] A. Greenbaum and T. Chartier, *Numerical methods: Design, analysis, and computer implementation of algorithms*. Princeton University Press, 2012.\n",
    "\n",
    "#### Footnotes\n",
    "\n",
    "1. There are many reasons why integrating an infinite series term by term should give you a moment of pause. For the sake of this problem, we are doing this operation a little blindly, but in reality, we should have verified that the infinite series actually converges uniformly. [↩︎](#fnref1)\n",
    "\n",
    "2. This is something that people in physics and engineering do all the time – there is some complicated nonlinear relationship that they wish to use, but the first few terms of the Taylor Series capture almost all of the behavior since the higher-order terms are very small. [↩︎](#fnref2)."
   ]
  },
  {
   "cell_type": "markdown",
   "metadata": {},
   "source": []
  }
 ],
 "metadata": {
  "kernelspec": {
   "display_name": "DS776_env",
   "language": "python",
   "name": "python3"
  },
  "language_info": {
   "codemirror_mode": {
    "name": "ipython",
    "version": 3
   },
   "file_extension": ".py",
   "mimetype": "text/x-python",
   "name": "python",
   "nbconvert_exporter": "python",
   "pygments_lexer": "ipython3",
   "version": "3.11.10"
  }
 },
 "nbformat": 4,
 "nbformat_minor": 2
}
