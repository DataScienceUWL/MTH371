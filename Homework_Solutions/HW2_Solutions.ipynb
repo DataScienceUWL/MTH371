{
 "cells": [
  {
   "cell_type": "markdown",
   "metadata": {},
   "source": [
    "<hr>\n",
    "\n",
    "### Exercise 1.45\n",
    "\n",
    "My favorite prime number is 8675309. Yep. Jenny’s phone number is prime! Write a script that verifies this fact.\n",
    "\n",
    "- **Hint**: You only need to check divisors as large as the square root of 8675309 (why).\n",
    "\n"
   ]
  },
  {
   "cell_type": "code",
   "execution_count": 4,
   "metadata": {
    "tags": [
     "solution"
    ]
   },
   "outputs": [
    {
     "name": "stdout",
     "output_type": "stream",
     "text": [
      "Approach 1: 8,675,309 is prime? True\n",
      "Approach 2: 8,675,309 is prime? True\n"
     ]
    }
   ],
   "source": [
    "#### Solution 1.45 - Approach 1\n",
    "\n",
    "# instead of checking only 8675309, we write a function that can be used for any number\n",
    "\n",
    "import numpy as np\n",
    "\n",
    "def is_prime(n):\n",
    "    # Check if the number is less than 2 or even\n",
    "    if n < 2 or n % 2 == 0:\n",
    "        return False\n",
    "    # Check for factors from 3 to the square root of n, skipping even numbers\n",
    "    for i in range(3, int(np.sqrt(n)) + 1, 2):\n",
    "        if n % i == 0:\n",
    "            return False\n",
    "    return True\n",
    "\n",
    "number = 8675309\n",
    "print(f'Approach 1: {number:,} is prime? {is_prime(number)}')\n",
    "\n",
    "#### Approach 2 - A more optimized solution\n",
    "\n",
    "# instead of checking only 8675309, we write a function that can be used for any number\n",
    "\n",
    "import numpy as np\n",
    "\n",
    "def is_prime(n):\n",
    "    # Check if the number is less than 2 or even\n",
    "    if n < 2:\n",
    "        return False\n",
    "    if n in (2, 3):\n",
    "        return True\n",
    "    if n % 2 == 0 or n % 3 == 0:\n",
    "        return False\n",
    "    # Check for factors from 5 to the square root of n, skipping multiples of 2 and 3\n",
    "    i = 5\n",
    "    while i * i <= n:\n",
    "        if n % i == 0 or n % (i + 2) == 0:\n",
    "            return False\n",
    "        i += 6\n",
    "    return True\n",
    "\n",
    "number = 8675309\n",
    "print(f'Approach 2: {number:,} is prime? {is_prime(number)}')"
   ]
  },
  {
   "cell_type": "markdown",
   "metadata": {},
   "source": [
    "<hr>\n",
    "\n",
    "### Exercise 1.46\n",
    "\n",
    "Write a function that accepts an integer and returns a binary variable:\n",
    "\n",
    "- 0 = not prime,\n",
    "- 1 = prime.\n",
    "\n",
    "Next, write a script to find the sum of all of the prime numbers less than 1000.\n",
    "\n",
    "**Hint:**\n",
    "Remember that a prime number has exactly two divisors: 1 and itself. You only need to check divisors as large as the square root of $n$. Your script should probably be smart enough to avoid all of the non-prime even numbers.\n",
    "\n",
    "(This problem is modified from [3])\n",
    "\n"
   ]
  },
  {
   "cell_type": "code",
   "execution_count": 5,
   "metadata": {
    "tags": [
     "solution"
    ]
   },
   "outputs": [
    {
     "name": "stdout",
     "output_type": "stream",
     "text": [
      "Approach 1: Sum of primes below 1000 = 76127\n",
      "Approach 2: Sum of primes below 1000 = 76127\n"
     ]
    }
   ],
   "source": [
    "#### Soution 1.46 - Approach 1\n",
    "\n",
    "# in this approach we'll use the is_prime function from the previous solution which returns a boolean\n",
    "\n",
    "limit = 1000\n",
    "sum_primes = sum(x for x in range(limit) if is_prime(x))\n",
    "print(f'Approach 1: Sum of primes below {limit} = {sum_primes}')\n",
    "\n",
    "#### Approach 2 - We'll use a function that returns 0 or 1\n",
    "\n",
    "def is_prime_zero_one(n):\n",
    "    # returns 1 if n is prime, 0 otherwise\n",
    "    return int(is_prime(n))\n",
    "\n",
    "sum_primes = sum(is_prime_zero_one(x)*x for x in range(limit))\n",
    "print(f'Approach 2: Sum of primes below {limit} = {sum_primes}')"
   ]
  },
  {
   "cell_type": "markdown",
   "metadata": {},
   "source": [
    "<hr>\n",
    "\n",
    "### Exercise 1.47\n",
    "\n",
    "The sum of the squares of the first ten natural numbers is:\n",
    "\n",
    "$$1^2 + 2^2 + \\dots + 10^2 = 385$$\n",
    "\n",
    "The square of the sum of the first ten natural numbers is:\n",
    "\n",
    "$$(1 + 2 + \\dots + 10)^2 = 55^2 = 3025$$\n",
    "\n",
    "Hence, the difference between the square of the sum of the first ten natural numbers and the sum of the squares is:\n",
    "\n",
    "$$3025 - 385 = 2640.$$\n",
    "\n",
    "Write code to find the difference between the square of the sum of the first one hundred natural numbers and the sum of the squares. Your code needs to run error-free and output only the difference. \n",
    "\n",
    "(This problem is modified from [3])\n",
    "\n"
   ]
  },
  {
   "cell_type": "code",
   "execution_count": 3,
   "metadata": {
    "tags": [
     "solution"
    ]
   },
   "outputs": [
    {
     "name": "stdout",
     "output_type": "stream",
     "text": [
      "Approach 1: For the first 100 natural numbers:\n",
      "The square of the sum is 25,502,500\n",
      "The sum of the squares is 338,350\n",
      "The difference of the square of the sum and sum of the squares is 25,164,150\n",
      "\n",
      "Approach 2: For the first 100 natural numbers:\n",
      "The difference of the square of the sum and sum of the squares is 25,164,150\n"
     ]
    }
   ],
   "source": [
    "#### Solution 1.47 - Approach 1 - using a simple loop\n",
    "\n",
    "n = 100\n",
    "total = 0\n",
    "squares_total = 0\n",
    "\n",
    "# Loop through the first n natural numbers\n",
    "for i in range(1, n + 1):\n",
    "    total += i  # Sum of the numbers\n",
    "    squares_total += i ** 2  # Sum of the squares of the numbers\n",
    "\n",
    "total_squared = total ** 2  # Square of the sum of the numbers\n",
    "diff = total_squared - squares_total  # Difference between the square of the sum and the sum of the squares\n",
    "\n",
    "# Print the results\n",
    "print(f'Approach 1: For the first {n} natural numbers:')\n",
    "print(f'The square of the sum is {total_squared:,}')\n",
    "print(f'The sum of the squares is {squares_total:,}')\n",
    "print(f'The difference of the square of the sum and sum of the squares is {diff:,}\\n')\n",
    "\n",
    "#### Approach 2 - more pythonic using list comprehensions\n",
    "\n",
    "def square_sum_minus_sum_square(n):\n",
    "    return sum(range(1, n+1))**2 - sum(x**2 for x in range(1, n+1))\n",
    "\n",
    "n = 100\n",
    "diff = square_sum_minus_sum_square(n)\n",
    "print(f'Approach 2: For the first {n} natural numbers:')\n",
    "print(f'The difference of the square of the sum and sum of the squares is {diff:,}')"
   ]
  },
  {
   "cell_type": "markdown",
   "metadata": {},
   "source": [
    "<hr>\n",
    "\n",
    "### Exercise 1.48\n",
    "\n",
    "The prime factors of $13195$ are $5, 7, 13,$ and $29$. Write code to find the largest prime factor of the number $600851475143$. Your code needs to run error-free and output only the largest prime factor.\n",
    "\n",
    "(This problem is modified from [3])\n",
    "\n"
   ]
  },
  {
   "cell_type": "code",
   "execution_count": 28,
   "metadata": {
    "tags": [
     "solution"
    ]
   },
   "outputs": [
    {
     "name": "stdout",
     "output_type": "stream",
     "text": [
      "The largest prime factor of 2025 is 5\n",
      "The largest prime factor of 13195 is 29\n",
      "The largest prime factor of 600851475143 is 6857\n"
     ]
    }
   ],
   "source": [
    "#### Solution 1.48\n",
    "\n",
    "# IDEA:  we can find the largest prime factor of a number by dividing it \n",
    "#        by its smallest prime factor until we reach 1\n",
    "\n",
    "def largest_prime_factor(n):\n",
    "    # Initialize the largest prime factor\n",
    "    largest = 1\n",
    "    # Check for factors of 2 and divide them out\n",
    "    while n % 2 == 0:\n",
    "        largest = 2\n",
    "        n = n // 2\n",
    "    # Check for odd factors from 3 to the square root of n and divide them out\n",
    "    for i in range(3, int(np.sqrt(n)) + 1, 2):\n",
    "        while n % i == 0:\n",
    "            largest = i\n",
    "            n = n // i\n",
    "    # If n is greater than 2, it is prime\n",
    "    if n > 2:\n",
    "        largest = n\n",
    "    return largest\n",
    "\n",
    "print(f'The largest prime factor of 2025 is {largest_prime_factor(2025)}')\n",
    "print(f'The largest prime factor of 13195 is {largest_prime_factor(13195)}')\n",
    "print(f'The largest prime factor of 600851475143 is {largest_prime_factor(600851475143)}')"
   ]
  },
  {
   "cell_type": "markdown",
   "metadata": {},
   "source": [
    "### Exercise 1.51\n",
    "\n",
    "Sometimes floating point arithmetic does not work like we would expect (and hope) as compared to by-hand mathematics. In each of the following problems, we have a mathematical problem that the computer gets wrong. Explain why the computer is getting these wrong.\n",
    "\n",
    "a. Mathematically, we know that $ \\sqrt{5}^2 $ should just give us 5 back. In Python, type `np.sqrt(5)**2 == 5`. What do you get and why do you get it?"
   ]
  },
  {
   "cell_type": "code",
   "execution_count": 44,
   "metadata": {
    "tags": [
     "solution"
    ]
   },
   "outputs": [
    {
     "name": "stdout",
     "output_type": "stream",
     "text": [
      "np.sqrt(5)**2==5 is False.\n",
      "The absolute error is: 8.881784197001252e-16\n"
     ]
    }
   ],
   "source": [
    "#### Solution 1.51a\n",
    "\n",
    "import numpy as np\n",
    "print(f'np.sqrt(5)**2==5 is {np.sqrt(5)**2==5}.')\n",
    "print(f'The absolute error is: {np.abs(np.sqrt(5)**2-5)}')"
   ]
  },
  {
   "cell_type": "markdown",
   "metadata": {
    "tags": [
     "solution"
    ]
   },
   "source": [
    "$\\sqrt{5}$ is an irrational number and has an infinite decimal (or binary) expansion.  When we represent it in the computer there will a small error since the finite binary expansion can't match exactly the infinite expansion of the true value.  In double precision, machine epsilon is $\\epsilon = 2^{-52}$ and absolute round off error for a number $x$ is\n",
    "$$ \\text{Error} \\approx |x| \\cdot \\epsilon = |x| \\cdot 2^{-52}$$ \n",
    "\n",
    "For $\\sqrt{5}$ the approximate absolute rounding error is"
   ]
  },
  {
   "cell_type": "code",
   "execution_count": 13,
   "metadata": {
    "tags": [
     "solution"
    ]
   },
   "outputs": [
    {
     "name": "stdout",
     "output_type": "stream",
     "text": [
      "4.965068306494546e-16\n"
     ]
    }
   ],
   "source": [
    "sqrt5_roundoff = np.sqrt(5)*2**(-52)\n",
    "print( sqrt5_roundoff )"
   ]
  },
  {
   "cell_type": "markdown",
   "metadata": {
    "tags": [
     "solution"
    ]
   },
   "source": [
    "The discrepancy between `np.sqrt(5)**2` and 5 is because of using this floating point approximation in our calculation."
   ]
  },
  {
   "cell_type": "markdown",
   "metadata": {},
   "source": [
    "  \n",
    "\n",
    "b. Mathematically, we know that $ \\left( \\frac{1}{49} \\right) \\cdot 49 $ should just be 1. In Python, type `(1/49)*49 == 1`. What do you get and why do you get it?  \n"
   ]
  },
  {
   "cell_type": "code",
   "execution_count": 43,
   "metadata": {
    "tags": [
     "solution"
    ]
   },
   "outputs": [
    {
     "name": "stdout",
     "output_type": "stream",
     "text": [
      "(1/49)*49 == 1 is False.\n",
      "The absolute error is: 1.1102230246251565e-16\n"
     ]
    }
   ],
   "source": [
    "#### Solution 1.51b\n",
    "\n",
    "import numpy as np\n",
    "print(f'(1/49)*49 == 1 is {(1/49)*49==1}.')\n",
    "print(f'The absolute error is: {np.abs( (1/49)*49-1 ) }')\n"
   ]
  },
  {
   "cell_type": "markdown",
   "metadata": {
    "tags": [
     "solution"
    ]
   },
   "source": [
    "The problem is the same.  $1/49$ will have a round off error in its floating point representation."
   ]
  },
  {
   "cell_type": "markdown",
   "metadata": {},
   "source": [
    "\n",
    "c. Mathematically, we know that $ e^{\\ln(3)} $ should just give us 3 back. In Python, type `np.exp(np.log(3)) == 3`. What do you get and why do you get it?  \n"
   ]
  },
  {
   "cell_type": "code",
   "execution_count": 45,
   "metadata": {
    "tags": [
     "solution"
    ]
   },
   "outputs": [
    {
     "name": "stdout",
     "output_type": "stream",
     "text": [
      "np.exp(np.log(3))==1 is False.\n",
      "The absolute error is: 4.440892098500626e-16\n"
     ]
    }
   ],
   "source": [
    "#### Solution 1.51c\n",
    "\n",
    "import numpy as np\n",
    "print(f'np.exp(np.log(3))==1 is {np.exp(np.log(3))==1}.')\n",
    "print(f'The absolute error is: {np.abs(np.exp(np.log(3))-3)}')\n"
   ]
  },
  {
   "cell_type": "markdown",
   "metadata": {
    "tags": [
     "solution"
    ]
   },
   "source": [
    "$\\ln(3)$ is irrational leading to a round off error which affects the computation."
   ]
  },
  {
   "cell_type": "markdown",
   "metadata": {},
   "source": [
    "\n",
    "d. Create your own example of where Python gets something incorrect because of floating-point arithmetic.  \n",
    "\n",
    "(This problem is modified from [4])  \n",
    "\n"
   ]
  },
  {
   "cell_type": "code",
   "execution_count": 16,
   "metadata": {
    "tags": [
     "solution"
    ]
   },
   "outputs": [
    {
     "data": {
      "text/plain": [
       "False"
      ]
     },
     "execution_count": 16,
     "metadata": {},
     "output_type": "execute_result"
    }
   ],
   "source": [
    "#### Solution\n",
    "\n",
    "(5**(1/3))**3 == 5"
   ]
  },
  {
   "cell_type": "markdown",
   "metadata": {},
   "source": [
    "<hr>\n",
    "\n",
    "### Exercise 1.52\n",
    "\n",
    "In the 1999 movie *Office Space*, a character creates a program that takes fractions of cents that are truncated in a bank’s transactions and deposits them to his own account. This idea has been attempted in the past, and now banks look for this sort of thing. In this problem, you will build a simulation of the program to see how long it takes to become a millionaire.\n",
    "\n",
    "**Assumptions:**\n",
    "- Assume that you have access to 50,000 bank accounts.\n",
    "- Assume that the account balances are uniformly distributed between $100 and $100,000.\n",
    "- Assume that the annual interest rate on the accounts is 5% and the interest is compounded daily and added to the accounts, except that fractions of cents are truncated.\n",
    "- Assume that your `illegal` account initially has a $0 balance.\n",
    "\n",
    "**Your Tasks:**\n",
    "a. Explain what the code below does:\n",
    "```python\n",
    "import numpy as np\n",
    "accounts = 100 + (100000-100) * np.random.rand(50000, 1)\n",
    "accounts = np.floor(100*accounts)/100\n",
    "```\n",
    "\n"
   ]
  },
  {
   "cell_type": "markdown",
   "metadata": {
    "tags": [
     "solution"
    ]
   },
   "source": [
    "#### Solution\n",
    "\n",
    "Creates 50,000 accounts with uniformly distributed initial values between $100 and $100,000.  \n",
    "\n",
    "The last line rounds the value in each account down to the nearest penny."
   ]
  },
  {
   "cell_type": "markdown",
   "metadata": {},
   "source": [
    "\n",
    "b. By hand (no computer), write the mathematical steps necessary to increase the accounts by $(5/365)\\%$ per day, truncate the accounts to the nearest penny, and add the truncated amount into an account titled “illegal.”\n"
   ]
  },
  {
   "cell_type": "markdown",
   "metadata": {
    "tags": [
     "solution"
    ]
   },
   "source": [
    "#### Solution\n",
    "\n",
    "1.  compute the daily interest as $i = \\text{account} \\times 0.05/365$\n",
    "2.  compute the interest rounded down to the nearest penny as $i_d = \\text{floor}(i \\times 100)/100$\n",
    "3.  compute the residual interest as $i_r = i - i_d$\n",
    "4.  add $i_d$ to the value of the account\n",
    "5.  do this for all accounts and sum the values of $i_r$ and add to the \"illegal\" account"
   ]
  },
  {
   "cell_type": "markdown",
   "metadata": {},
   "source": [
    "c. Write code to complete your plan from part (b).  \n"
   ]
  },
  {
   "cell_type": "code",
   "execution_count": 18,
   "metadata": {
    "tags": [
     "solution"
    ]
   },
   "outputs": [
    {
     "name": "stdout",
     "output_type": "stream",
     "text": [
      "Total stolen interest for the day: $250.07\n"
     ]
    }
   ],
   "source": [
    "#### Solution to 1.52c\n",
    "\n",
    "# to compute the total interest for a single day from all the accounts\n",
    "\n",
    "accounts = 100 + (100000-100) * np.random.rand(50_000, 1)\n",
    "rate = 0.05 / 365\n",
    "illegal = 0\n",
    "interest = accounts * rate\n",
    "interest_rounded_down = np.floor(interest * 100) / 100\n",
    "interest_to_steal = interest - interest_rounded_down\n",
    "illegal = illegal + np.sum(interest_to_steal)\n",
    "accounts = accounts + interest_rounded_down\n",
    "\n",
    "print(f'Total stolen interest for the day: ${illegal:.2f}')"
   ]
  },
  {
   "cell_type": "markdown",
   "metadata": {},
   "source": [
    "\n",
    "d. Using a `while` loop, iterate over your code until the illegal account has accumulated $1,000,000. How long does it take?\n",
    "\n",
    "(This problem is modified from [4])  \n",
    "\n"
   ]
  },
  {
   "cell_type": "code",
   "execution_count": 19,
   "metadata": {
    "tags": [
     "solution"
    ]
   },
   "outputs": [
    {
     "name": "stdout",
     "output_type": "stream",
     "text": [
      "It will take 3998 days to steal $1,000,000.\n",
      "Or about 10.95 years.\n"
     ]
    }
   ],
   "source": [
    "#### Solution to 1.52d\n",
    "\n",
    "accounts = 100 + (100000-100) * np.random.rand(50_000, 1)  # Generate random account balances between $100 and $100,000\n",
    "rate = 0.05 / 365  # Calculate the daily interest rate\n",
    "illegal = 0  # Initialize the illegal account balance\n",
    "days = 0  # Initialize the number of days\n",
    "\n",
    "while illegal < 1_000_000:  # Continue looping until the illegal account balance reaches $1,000,000\n",
    "    days += 1  # Increment the number of days\n",
    "    interest = accounts * rate  # Calculate the daily interest for each account\n",
    "    interest_rounded_down = np.floor(interest * 100) / 100  # Round down the interest to the nearest penny\n",
    "    accounts = accounts + interest_rounded_down  # Add the rounded interest to the account balances\n",
    "    interest_to_steal = interest - interest_rounded_down  # Calculate the residual interest to be added to the illegal account\n",
    "    illegal = illegal + np.sum(interest_to_steal)  # Add the residual interest to the illegal account balance\n",
    "\n",
    "print(f'It will take {days} days to steal $1,000,000.')\n",
    "print(f'Or about {days/365:.2f} years.')"
   ]
  },
  {
   "cell_type": "markdown",
   "metadata": {},
   "source": [
    "<hr>\n",
    "\n",
    "### Exercise 1.53\n",
    "\n",
    "In the 1991 Gulf War, the Patriot missile defense system failed due to roundoff error. The troubles stemmed from a computer that performed the tracking calculations with an internal clock whose integer values in tenths of a second were converted to seconds by multiplying by a 24-bit binary approximation to $0.1$:\n",
    "\n",
    "$$\n",
    "0.1_{10} \\approx 0.00011001100110011001100_2\n",
    "$$\n",
    "\n",
    "- **a.** Convert the binary number above to a fraction by hand (common denominators would be helpful).\n"
   ]
  },
  {
   "cell_type": "code",
   "execution_count": 47,
   "metadata": {},
   "outputs": [
    {
     "data": {
      "text/plain": [
       "2097152"
      ]
     },
     "execution_count": 47,
     "metadata": {},
     "output_type": "execute_result"
    }
   ],
   "source": [
    "2**21"
   ]
  },
  {
   "cell_type": "markdown",
   "metadata": {},
   "source": [
    "#### Solution\n",
    "\n",
    "$$\n",
    "\\begin{align}\n",
    "0.00011001100110011001100_2 &= 2^{-4} + 2^{-5} + 2^{-8} + 2^{-9} + 2^{-12} + 2^{-13} + 2^{-16}+2^{-17} + 2^{-20} + 2^{-21} \\\\\n",
    "&= 2^{-21} ( 2^{17} + 2^{16}+2^{13} + 2^{12} + 2^9 + 2^8 + 2^5 + 2^4 + 2^1 + 2^0) \\\\\n",
    "&= \\frac{209,715}{2,097,152}\n",
    "\\end{align}\n",
    "$$"
   ]
  },
  {
   "cell_type": "markdown",
   "metadata": {},
   "source": [
    "- **b.** The approximation of $0.1$ given above is clearly not equal to $0.1$. What is the absolute error in this value?\n"
   ]
  },
  {
   "cell_type": "code",
   "execution_count": 49,
   "metadata": {},
   "outputs": [
    {
     "name": "stdout",
     "output_type": "stream",
     "text": [
      "The approximate absolute error is: 9.536743164617612e-08\n"
     ]
    }
   ],
   "source": [
    "# 1.53b \n",
    "\n",
    "abs_err = np.abs(209_715 / 2_097_152 - 1/10)\n",
    "print(f'The approximate absolute error is: {abs_err}')"
   ]
  },
  {
   "cell_type": "markdown",
   "metadata": {},
   "source": [
    "- **c.** What is the time error, in seconds, after 100 hours of operation?\n"
   ]
  },
  {
   "cell_type": "code",
   "execution_count": 53,
   "metadata": {},
   "outputs": [
    {
     "name": "stdout",
     "output_type": "stream",
     "text": [
      "The total time error in 100 hours is 0.34 seconds.\n"
     ]
    }
   ],
   "source": [
    "# 1.53c Solution\n",
    "\n",
    "# error per second\n",
    "error_per_second = abs_err * 10\n",
    "\n",
    "# Compute 100 hours in seconds\n",
    "hours = 100\n",
    "seconds = hours * 60 * 60\n",
    "\n",
    "# total time error in seconds\n",
    "time_error = error_per_second * seconds\n",
    "\n",
    "print(f'The total time error in 100 hours is {time_error:.2f} seconds.')\n"
   ]
  },
  {
   "cell_type": "markdown",
   "metadata": {},
   "source": [
    "- **d.** During the 1991 war, a Scud missile traveled at approximately Mach 5 (3750 mph). Find the distance that the Scud missile would travel during the time error computed in (c).\n",
    "\n"
   ]
  },
  {
   "cell_type": "code",
   "execution_count": 55,
   "metadata": {},
   "outputs": [
    {
     "name": "stdout",
     "output_type": "stream",
     "text": [
      "The missile travels about 0.36 miles off course.\n"
     ]
    }
   ],
   "source": [
    "# 1.53d Solution\n",
    "\n",
    "speed_mps = 3750 * 1/3600 # multiply by 1/3600 to convert from mph to mps\n",
    "distance = speed_mps * time_error\n",
    "\n",
    "print(f'The missile travels about {distance:.2f} miles off course.')"
   ]
  }
 ],
 "metadata": {
  "kernelspec": {
   "display_name": "DS776_env",
   "language": "python",
   "name": "python3"
  },
  "language_info": {
   "codemirror_mode": {
    "name": "ipython",
    "version": 3
   },
   "file_extension": ".py",
   "mimetype": "text/x-python",
   "name": "python",
   "nbconvert_exporter": "python",
   "pygments_lexer": "ipython3",
   "version": "3.11.11"
  }
 },
 "nbformat": 4,
 "nbformat_minor": 2
}
