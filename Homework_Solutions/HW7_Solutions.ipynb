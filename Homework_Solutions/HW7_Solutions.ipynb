{
 "cells": [
  {
   "cell_type": "markdown",
   "metadata": {},
   "source": [
    "### 3.7 Exercises\n",
    "\n",
    "### 3.7.1 Algorithm Summaries\n",
    "\n"
   ]
  },
  {
   "cell_type": "markdown",
   "metadata": {},
   "source": [
    "---\n",
    "\n",
    "### Exercise 3.88. \n",
    "\n",
    "Starting from Taylor series prove that\n",
    "\n",
    "$$\n",
    "f^{\\prime}(x) \\approx \\frac{f(x+h)-f(x-h)}{2 h}\n",
    "$$\n",
    "\n",
    "is a second-order approximation of the first derivative of $f(x)$. Clearly describe what \"second-order approximation\" means in this context.\n",
    "\n"
   ]
  },
  {
   "cell_type": "code",
   "execution_count": null,
   "metadata": {},
   "outputs": [
    {
     "name": "stdout",
     "output_type": "stream",
     "text": [
      "Taylor expansion for f(x+h) to O(h^3):\n",
      "    2                           \n",
      " 2 d                            \n",
      "h ⋅───(f(x))                    \n",
      "     2                          \n",
      "   dx            d              \n",
      "──────────── + h⋅──(f(x)) + f(x)\n",
      "     2           dx             \n",
      "Taylor expansion for f(x+h) to O(h^3):\n",
      "    2                           \n",
      " 2 d                            \n",
      "h ⋅───(f(x))                    \n",
      "     2                          \n",
      "   dx            d              \n",
      "──────────── + h⋅──(f(x)) + f(x)\n",
      "     2           dx             \n",
      "\n",
      "Difference approximation (f(x+h) - f(x-h))/(2h):\n",
      "    3                  \n",
      " 2 d                   \n",
      "h ⋅───(f(x))           \n",
      "     3                 \n",
      "   dx          d       \n",
      "──────────── + ──(f(x))\n",
      "     6         dx      \n",
      "\n",
      "Limit as h -> 0 (which equals f'(x)):\n",
      "d       \n",
      "──(f(x))\n",
      "dx      \n"
     ]
    }
   ],
   "source": [
    "import sympy as sp\n",
    "\n",
    "def taylor_series_expansion(f, shift, x, h, order):\n",
    "    \"\"\"\n",
    "    Computes the Taylor series expansion of f(x + shift*h) in powers of h.\n",
    "    \n",
    "    Parameters:\n",
    "        f     : A sympy expression for f(x). For an unspecified function,\n",
    "                use sp.Function('f')(x).\n",
    "        shift : A constant multiplier for h in the argument (e.g., 1 for f(x+h), \n",
    "                2 for f(x+2h), -1 for f(x-h), etc.).\n",
    "        x     : A sympy symbol representing the variable x.\n",
    "        h     : A sympy symbol representing the small parameter h.\n",
    "        order : The highest power of h to include in the expansion.\n",
    "        \n",
    "    Returns:\n",
    "        The Taylor series expansion of f(x + shift*h).\n",
    "    \"\"\"\n",
    "    series_expr = 0\n",
    "    for n in range(order + 1):\n",
    "        term = sp.diff(f, x, n) * (shift * h)**n / sp.factorial(n)\n",
    "        series_expr += term\n",
    "    return sp.simplify(series_expr)\n",
    "\n",
    "# Define symbols\n",
    "x, h = sp.symbols('x h')\n",
    "\n",
    "# Define an abstract function f(x)\n",
    "f = sp.Function('f')(x)\n",
    "\n",
    "\n",
    "# Expand f(x+h) to third order to capture the second error term\n",
    "expansion_right = taylor_series_expansion(f, shift=1, x=x, h=h, order=3)\n",
    "print(\"Taylor expansion for f(x+h) to O(h^3):\")\n",
    "sp.pprint(expansion)\n",
    "# f(x+h) ≈ f(x) + h f'(x) + h^2 f''(x)/2 + h^3 f'''(x)/6\n",
    "\n",
    "# Expand f(x-h) to third order to capture the second error term\n",
    "expansion_left = taylor_series_expansion(f, shift=-1, x=x, h=h, order=3)\n",
    "print(\"Taylor expansion for f(x+h) to O(h^3):\")\n",
    "sp.pprint(expansion)\n",
    "# f(x-h) ≈ f(x) - h f'(x) + h^2 f''(x)/2 - h^3 f'''(x)/6\n",
    "\n",
    "# Form the first order difference approximation:\n",
    "difference_approx = sp.simplify((expansion_right - expansion_left) / (2*h))\n",
    "print(\"\\nDifference approximation (f(x+h) - f(x-h))/(2h):\")\n",
    "sp.pprint(difference_approx)\n",
    "# This should give: f'(x) + h^2 f'''(x)/6\n",
    "\n",
    "# To demonstrate that the approximation converges to f'(x) as h -> 0, take the limit:\n",
    "limit_diff = sp.limit(difference_approx, h, 0)\n",
    "print(\"\\nLimit as h -> 0 (which equals f'(x)):\")\n",
    "sp.pprint(limit_diff)\n"
   ]
  },
  {
   "cell_type": "markdown",
   "metadata": {},
   "source": [
    "The difference between the centered difference approximation and $f'(x)$ is equal to $h^2 \\frac{f'''(x)}{6}$ + higher order terms.  So the error in the approximation is $O(h^2)$ which is what second order approximation means.  Decreasing $h$ by a factor of 2 decreases the error by a factor of 4."
   ]
  },
  {
   "cell_type": "markdown",
   "metadata": {},
   "source": [
    "---\n",
    "\n",
    "### Exercise 3.89. \n",
    "\n",
    "Starting from Taylor series prove that\n",
    "\n",
    "$$\n",
    "f^{\\prime \\prime}(x) \\approx \\frac{f(x+h)-2 f(x)+f(x-h)}{h^{2}}\n",
    "$$\n",
    "\n",
    "is a second-order approximation of the second derivative of $f(x)$. Clearly describe what \"second-order approximation\" means in this context.\n",
    "\n"
   ]
  },
  {
   "cell_type": "code",
   "execution_count": 18,
   "metadata": {},
   "outputs": [
    {
     "name": "stdout",
     "output_type": "stream",
     "text": [
      "Taylor expansion for f(x+h):\n",
      "    4              3              2                           \n",
      " 4 d            3 d            2 d                            \n",
      "h ⋅───(f(x))   h ⋅───(f(x))   h ⋅───(f(x))                    \n",
      "     4              3              2                          \n",
      "   dx             dx             dx            d              \n",
      "──────────── + ──────────── + ──────────── + h⋅──(f(x)) + f(x)\n",
      "     24             6              2           dx             \n",
      "\n",
      "Taylor expansion for f(x-h):\n",
      "    4              3              2                           \n",
      " 4 d            3 d            2 d                            \n",
      "h ⋅───(f(x))   h ⋅───(f(x))   h ⋅───(f(x))                    \n",
      "     4              3              2                          \n",
      "   dx             dx             dx            d              \n",
      "──────────── - ──────────── + ──────────── - h⋅──(f(x)) + f(x)\n",
      "     24             6              2           dx             \n",
      "\n",
      "Centered difference approximation for f''(x):\n",
      "    4                   \n",
      " 2 d                    \n",
      "h ⋅───(f(x))            \n",
      "     4          2       \n",
      "   dx          d        \n",
      "──────────── + ───(f(x))\n",
      "     12          2      \n",
      "               dx       \n",
      "\n",
      "Taking the limit as h -> 0 yields:\n",
      " 2       \n",
      "d        \n",
      "───(f(x))\n",
      "  2      \n",
      "dx       \n"
     ]
    }
   ],
   "source": [
    "ORDER = 4\n",
    "\n",
    "# Get the Taylor expansions for f(x+h) and f(x-h) up to order 3\n",
    "expansion_plus = taylor_series_expansion(f, shift=1, x=x, h=h, order=ORDER)\n",
    "expansion_minus = taylor_series_expansion(f, shift=-1, x=x, h=h, order=ORDER)\n",
    "\n",
    "# Display the series expansions:\n",
    "print(\"Taylor expansion for f(x+h):\")\n",
    "sp.pprint(expansion_plus)\n",
    "print(\"\\nTaylor expansion for f(x-h):\")\n",
    "sp.pprint(expansion_minus)\n",
    "\n",
    "# Form the centered difference approximation for f''(x):\n",
    "# (f(x+h) - 2f(x) + f(x-h)) / h^2\n",
    "centered_diff = sp.simplify((expansion_plus - 2*f + expansion_minus) / h**2)\n",
    "print(\"\\nCentered difference approximation for f''(x):\")\n",
    "sp.pprint(centered_diff)\n",
    "\n",
    "# To show that the error terms vanish as h -> 0, take the limit:\n",
    "limit_expr = sp.limit(centered_diff, h, 0)\n",
    "print(\"\\nTaking the limit as h -> 0 yields:\")\n",
    "sp.pprint(limit_expr)\n"
   ]
  },
  {
   "cell_type": "markdown",
   "metadata": {},
   "source": [
    "Second order approximation means that approximation error is about $h^2 \\frac{f^{(4)}(x)}{12}$ or $O(h^2).$"
   ]
  },
  {
   "cell_type": "markdown",
   "metadata": {},
   "source": [
    "\n",
    "---\n",
    "\n",
    "### 3.7.2 Applying What You've Learned\n",
    "\n",
    "### Exercise 3.97. \n",
    "\n",
    "For each of the following numerical differentiation formulas (A) prove that the formula is true and (B) find the order of the method. To prove that each of the formulas is true you will need to write the Taylor series for all of the terms in the numerator on the right and then simplify to solve for the necessary derivative. The highest power of the remainder should reveal the order of the method. Simplifying hint: You may want to leverage Python's `sympy` library to do some of the algebra for you.\n",
    "\n",
    "1. $f^{\\prime}(x) \\approx \\displaystyle \\frac{\\frac{1}{12} f(x-2 h)-\\frac{2}{3} f(x-h)+\\frac{2}{3} f(x+h)-\\frac{1}{12} f(x+2 h)}{h}$\n",
    "\n",
    "\n",
    "2. $f^{\\prime}(x) \\approx \\displaystyle \\frac{-\\frac{3}{2} f(x)+2 f(x+h)-\\frac{1}{2} f(x+2 h)}{h}$\n",
    "\n",
    "\n",
    "3. $f^{\\prime \\prime}(x) \\approx \\displaystyle \\frac{-\\frac{1}{12} f(x-2 h)+\\frac{4}{3} f(x-h)-\\frac{5}{2} f(x)+\\frac{4}{3} f(x+h)-\\frac{1}{12} f(x+2 h)}{h^{2}}$\n",
    "\n",
    "\n",
    "4. $f^{\\prime \\prime \\prime}(x) \\approx \\displaystyle \\frac{-\\frac{1}{2} f(x-2 h)+f(x-h)-f(x+h)+\\frac{1}{2} f(x+2 h)}{h^{3}}$\n",
    "\n",
    "\n"
   ]
  },
  {
   "cell_type": "code",
   "execution_count": null,
   "metadata": {},
   "outputs": [
    {
     "name": "stdout",
     "output_type": "stream",
     "text": [
      "                         5                                                  \n",
      "                      4 d               d          4.16333634234434e-17⋅f(x)\n",
      "- 0.0333333333333333⋅h ⋅───(f(x)) + 1.0⋅──(f(x)) + ─────────────────────────\n",
      "                          5             dx                     h            \n",
      "                        dx                                                  \n",
      "\n",
      "Taking the limit as h -> 0 yields:\n",
      "∞⋅sign(f(x))\n"
     ]
    }
   ],
   "source": [
    "# Code for part 1\n",
    "\n",
    "# Define symbols\n",
    "x, h = sp.symbols('x h')\n",
    "\n",
    "# Define an abstract function f(x)\n",
    "f = sp.Function('f')(x)\n",
    "\n",
    "ORDER = 5\n",
    "\n",
    "# add up the expansions\n",
    "expansion  = (1/12)*taylor_series_expansion(f, shift=-2, x=x, h=h, order=ORDER)\n",
    "expansion += (-2/3)*taylor_series_expansion(f, shift=-1, x=x, h=h, order=ORDER)\n",
    "expansion += (2/3)*taylor_series_expansion(f, shift=1, x=x, h=h, order=ORDER)\n",
    "expansion += (-1/12)*taylor_series_expansion(f, shift=2, x=x, h=h, order=ORDER)\n",
    "\n",
    "# simplify the expression and print it\n",
    "expansion = sp.simplify(expansion / h)\n",
    "sp.pprint(expansion)\n",
    "\n",
    "# To show that the error terms vanish as h -> 0, take the limit:\n",
    "limit_expr = sp.limit(expansion, h, 0)\n",
    "print(\"\\nTaking the limit as h -> 0 yields:\")\n",
    "sp.pprint(limit_expr)"
   ]
  },
  {
   "cell_type": "markdown",
   "metadata": {},
   "source": [
    "by ignoring the terms which are essentaially 0 (4.16e-17) we can see that the difference approximation gives $f'(x) + O(h^4)$"
   ]
  },
  {
   "cell_type": "code",
   "execution_count": 10,
   "metadata": {},
   "outputs": [
    {
     "name": "stdout",
     "output_type": "stream",
     "text": [
      "                                                                         d     ↪\n",
      "                         6               2          8.32667268468867e-17⋅──(f( ↪\n",
      "                      4 d               d                                dx    ↪\n",
      "- 0.0111111111111111⋅h ⋅───(f(x)) + 1.0⋅───(f(x)) + ────────────────────────── ↪\n",
      "                          6               2                       h            ↪\n",
      "                        dx              dx                                     ↪\n",
      "\n",
      "↪                                \n",
      "↪ x))                            \n",
      "↪       6.93889390390723e-17⋅f(x)\n",
      "↪ ─── - ─────────────────────────\n",
      "↪                   2            \n",
      "↪                  h             \n",
      "\n",
      "Taking the limit as h -> 0 yields:\n",
      "-∞⋅sign(f(x))\n"
     ]
    }
   ],
   "source": [
    "# Code for part 3\n",
    "\n",
    "# Define symbols\n",
    "x, h = sp.symbols('x h')\n",
    "\n",
    "# Define an abstract function f(x)\n",
    "f = sp.Function('f')(x)\n",
    "\n",
    "ORDER = 6\n",
    "\n",
    "# add up the expansions\n",
    "expansion  = (-1/12)*taylor_series_expansion(f, shift=-2, x=x, h=h, order=ORDER)\n",
    "expansion += (4/3)*taylor_series_expansion(f, shift=-1, x=x, h=h, order=ORDER)\n",
    "expansion += (-5/2)*f\n",
    "expansion += (4/3)*taylor_series_expansion(f, shift=1, x=x, h=h, order=ORDER)\n",
    "expansion += (-1/12)*taylor_series_expansion(f, shift=2, x=x, h=h, order=ORDER)\n",
    "\n",
    "# simplify the expression and print it\n",
    "expansion = sp.simplify(expansion / h**2)\n",
    "sp.pprint(expansion)"
   ]
  },
  {
   "cell_type": "markdown",
   "metadata": {},
   "source": [
    "by ignoring the terms that are essentially 0 we can see that this difference approximation gives $f''(x) + O(h^4)$"
   ]
  },
  {
   "cell_type": "markdown",
   "metadata": {},
   "source": [
    "\n",
    "---\n",
    "\n",
    "### Exercise 3.98. \n",
    "\n",
    "Write a function that accepts the path to a *.csv file with $(x,y)$ pairs.  Read the data from the file, compute a first order approximation to the first derivative and return two numpy arrays: x, and df.  Where x is the x-coordinate at each point and df is the derivative approximation.  Note that x and df will be of the same length which should be one less than the length of the input data.  Create a test spreadsheet file, call your function to compute the derivative and plot the results to show you're computing the correct derivative. \n",
    "\n",
    "Use this code to help you get started:\n",
    "\n",
    "```python\n",
    "import numpy as np\n",
    "import pandas as pd\n",
    "import matplotlib.pyplot as plt\n",
    "\n",
    "# Generate 21 equally spaced points between -1 and 1\n",
    "x = np.linspace(-1, 1, 21)\n",
    "# Compute y = x^3 - x for each x\n",
    "y = x**3 - x\n",
    "\n",
    "# Create a DataFrame with the results\n",
    "df = pd.DataFrame({'x': x, 'y': y})\n",
    "\n",
    "# Write the DataFrame to a CSV file\n",
    "df.to_csv('points.csv', index=False)\n",
    "\n",
    "\n",
    "def square_points_from_file(file_path):\n",
    "    # Read the data from the CSV file\n",
    "    data = pd.read_csv(file_path)\n",
    "    \n",
    "    x = data.iloc[:,0].to_numpy()\n",
    "    y = data.iloc[:,1].to_numpy()\n",
    "\n",
    "    return x, y**2\n",
    "\n",
    "x, y_squared = square_points_from_file('points.csv')\n",
    "plt.plot(x, y_squared, marker='o')\n",
    "plt.xlabel('x')\n",
    "plt.ylabel('y^2')\n",
    "plt.title('y = x^3 - x')\n",
    "plt.grid()\n",
    "```\n"
   ]
  },
  {
   "cell_type": "code",
   "execution_count": 6,
   "metadata": {},
   "outputs": [
    {
     "data": {
      "image/png": "[encoded data removed]",
      "text/plain": [
       "<Figure size 640x480 with 1 Axes>"
      ]
     },
     "metadata": {},
     "output_type": "display_data"
    }
   ],
   "source": [
    "import pandas as pd\n",
    "\n",
    "def forward_difference_from_file(file_path):\n",
    "    # Read the data from the CSV file\n",
    "    data = pd.read_csv(file_path)\n",
    "    \n",
    "    x = data.iloc[:,0].to_numpy()\n",
    "    y = data.iloc[:,1].to_numpy()\n",
    "\n",
    "    h = x[1] - x[0]\n",
    "    forward_diff = y[1:]-y[:-1]\n",
    "    forward_diff /= h\n",
    "    return x[:-1], forward_diff\n",
    "\n",
    "# now let's use the file from above that has x and y=f(x)=x^3-x stored at 21 points\n",
    "x, forward_diff = forward_difference_from_file('points.csv')\n",
    "import matplotlib.pyplot as plt\n",
    "plt.plot(x, forward_diff, label='Forward Difference')\n",
    "plt.plot(x, 3*x**2-1, label='Exact Derivative')\n",
    "plt.xlabel('x')\n",
    "plt.ylabel('Derivative')\n",
    "plt.legend()\n",
    "plt.title('Forward Difference Approximation vs Exact Derivative')\n",
    "plt.show()"
   ]
  }
 ],
 "metadata": {
  "kernelspec": {
   "display_name": "DS776env",
   "language": "python",
   "name": "python3"
  },
  "language_info": {
   "codemirror_mode": {
    "name": "ipython",
    "version": 3
   },
   "file_extension": ".py",
   "mimetype": "text/x-python",
   "name": "python",
   "nbconvert_exporter": "python",
   "pygments_lexer": "ipython3",
   "version": "3.11.11"
  }
 },
 "nbformat": 4,
 "nbformat_minor": 2
}
